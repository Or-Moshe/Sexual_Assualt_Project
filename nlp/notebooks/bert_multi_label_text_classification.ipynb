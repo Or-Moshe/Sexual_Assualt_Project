{
  "cells": [
    {
      "cell_type": "code",
      "execution_count": null,
      "metadata": {
        "execution": {
          "iopub.execute_input": "2021-06-11T21:28:46.636493Z",
          "iopub.status.busy": "2021-06-11T21:28:46.635889Z",
          "iopub.status.idle": "2021-06-11T21:28:54.444720Z",
          "shell.execute_reply": "2021-06-11T21:28:54.444071Z",
          "shell.execute_reply.started": "2021-06-11T21:15:41.666541Z"
        },
        "papermill": {
          "duration": 7.84017,
          "end_time": "2021-06-11T21:28:54.444920",
          "exception": false,
          "start_time": "2021-06-11T21:28:46.604750",
          "status": "completed"
        },
        "tags": [],
        "colab": {
          "base_uri": "https://localhost:8080/"
        },
        "id": "kN3A6ZRjF9M2",
        "outputId": "ef3e6438-2651-455d-cddb-dcbef5adea95"
      },
      "outputs": [
        {
          "output_type": "stream",
          "name": "stdout",
          "text": [
            "Requirement already satisfied: beautifulsoup4 in /usr/local/lib/python3.10/dist-packages (4.12.3)\n",
            "Requirement already satisfied: soupsieve>1.2 in /usr/local/lib/python3.10/dist-packages (from beautifulsoup4) (2.5)\n"
          ]
        }
      ],
      "source": [
        "!pip install beautifulsoup4"
      ]
    },
    {
      "cell_type": "code",
      "execution_count": null,
      "metadata": {
        "execution": {
          "iopub.execute_input": "2021-06-11T21:28:54.506965Z",
          "iopub.status.busy": "2021-06-11T21:28:54.506159Z",
          "iopub.status.idle": "2021-06-11T21:28:57.383058Z",
          "shell.execute_reply": "2021-06-11T21:28:57.382101Z",
          "shell.execute_reply.started": "2021-06-11T21:15:52.355748Z"
        },
        "papermill": {
          "duration": 2.910058,
          "end_time": "2021-06-11T21:28:57.383195",
          "exception": false,
          "start_time": "2021-06-11T21:28:54.473137",
          "status": "completed"
        },
        "tags": [],
        "id": "BtSbS1d-F9M3"
      },
      "outputs": [],
      "source": [
        "import os\n",
        "import re\n",
        "import string\n",
        "import json\n",
        "#import emoji\n",
        "import numpy as np\n",
        "import pandas as pd\n",
        "from sklearn import metrics\n",
        "from bs4 import BeautifulSoup\n",
        "import transformers\n",
        "import torch\n",
        "from torch.utils.data import Dataset, DataLoader, RandomSampler, SequentialSampler\n",
        "from transformers import BertTokenizer, AutoTokenizer, BertModel, BertConfig, AutoModel, AdamW\n",
        "import warnings\n",
        "warnings.filterwarnings('ignore')\n",
        "\n",
        "pd.set_option(\"display.max_columns\", None)"
      ]
    },
    {
      "cell_type": "code",
      "source": [
        "import os\n",
        "\n",
        "# Mount Google Drive\n",
        "from google.colab import drive\n",
        "drive.mount('/content/drive')\n",
        "drive_path = '/content/drive/My Drive/nlp-projects/inputs/en/clean_translated_1.8.23_19.9.23.xlsx'"
      ],
      "metadata": {
        "colab": {
          "base_uri": "https://localhost:8080/"
        },
        "id": "nO4ddel9GR3C",
        "outputId": "8814bc87-9a1c-472a-ba40-348203f7eb15"
      },
      "execution_count": null,
      "outputs": [
        {
          "output_type": "stream",
          "name": "stdout",
          "text": [
            "Mounted at /content/drive\n"
          ]
        }
      ]
    },
    {
      "cell_type": "code",
      "execution_count": null,
      "metadata": {
        "execution": {
          "iopub.execute_input": "2021-06-11T21:28:57.451072Z",
          "iopub.status.busy": "2021-06-11T21:28:57.450551Z",
          "iopub.status.idle": "2021-06-11T21:28:57.614955Z",
          "shell.execute_reply": "2021-06-11T21:28:57.614182Z",
          "shell.execute_reply.started": "2021-06-11T21:15:55.988240Z"
        },
        "papermill": {
          "duration": 0.203876,
          "end_time": "2021-06-11T21:28:57.615094",
          "exception": false,
          "start_time": "2021-06-11T21:28:57.411218",
          "status": "completed"
        },
        "tags": [],
        "id": "0lH16F_kF9M4",
        "colab": {
          "base_uri": "https://localhost:8080/",
          "height": 159
        },
        "outputId": "ee258bca-77c4-4442-9559-e5826e4630f2"
      },
      "outputs": [
        {
          "output_type": "error",
          "ename": "NameError",
          "evalue": "name 'pd' is not defined",
          "traceback": [
            "\u001b[0;31m---------------------------------------------------------------------------\u001b[0m",
            "\u001b[0;31mNameError\u001b[0m                                 Traceback (most recent call last)",
            "\u001b[0;32m<ipython-input-2-a6c9c5877f3a>\u001b[0m in \u001b[0;36m<cell line: 1>\u001b[0;34m()\u001b[0m\n\u001b[0;32m----> 1\u001b[0;31m \u001b[0mdf_train\u001b[0m \u001b[0;34m=\u001b[0m \u001b[0mpd\u001b[0m\u001b[0;34m.\u001b[0m\u001b[0mread_excel\u001b[0m\u001b[0;34m(\u001b[0m\u001b[0mdrive_path\u001b[0m\u001b[0;34m)\u001b[0m\u001b[0;34m\u001b[0m\u001b[0;34m\u001b[0m\u001b[0m\n\u001b[0m\u001b[1;32m      2\u001b[0m \u001b[0;31m#df_dev = pd.read_csv(\"../input/goemotions/data/dev.tsv\", sep='\\t', header=None, names=['Text', 'Class', 'ID'])\u001b[0m\u001b[0;34m\u001b[0m\u001b[0;34m\u001b[0m\u001b[0m\n",
            "\u001b[0;31mNameError\u001b[0m: name 'pd' is not defined"
          ]
        }
      ],
      "source": [
        "df_train = pd.read_excel(drive_path)\n",
        "#df_dev = pd.read_csv(\"../input/goemotions/data/dev.tsv\", sep='\\t', header=None, names=['Text', 'Class', 'ID'])"
      ]
    },
    {
      "cell_type": "code",
      "execution_count": null,
      "metadata": {
        "execution": {
          "iopub.execute_input": "2021-06-11T21:28:57.782142Z",
          "iopub.status.busy": "2021-06-11T21:28:57.771978Z",
          "iopub.status.idle": "2021-06-11T21:28:57.816985Z",
          "shell.execute_reply": "2021-06-11T21:28:57.816508Z",
          "shell.execute_reply.started": "2021-06-11T21:15:56.163398Z"
        },
        "papermill": {
          "duration": 0.174667,
          "end_time": "2021-06-11T21:28:57.817119",
          "exception": false,
          "start_time": "2021-06-11T21:28:57.642452",
          "status": "completed"
        },
        "tags": [],
        "id": "Muswb-7mF9M4"
      },
      "outputs": [],
      "source": [
        "df_train['List of classes'] = df_train['Class'].apply(lambda x: x.split(','))\n",
        "df_train['Len of classes'] = df_train['List of classes'].apply(lambda x: len(x))\n",
        "#df_dev['List of classes'] = df_dev['Class'].apply(lambda x: x.split(','))\n",
        "#df_dev['Len of classes'] = df_dev['List of classes'].apply(lambda x: len(x))"
      ]
    },
    {
      "cell_type": "code",
      "execution_count": null,
      "metadata": {
        "execution": {
          "iopub.execute_input": "2021-06-11T21:28:57.874789Z",
          "iopub.status.busy": "2021-06-11T21:28:57.874172Z",
          "iopub.status.idle": "2021-06-11T21:28:57.884175Z",
          "shell.execute_reply": "2021-06-11T21:28:57.883775Z",
          "shell.execute_reply.started": "2021-06-11T21:15:56.319041Z"
        },
        "papermill": {
          "duration": 0.040077,
          "end_time": "2021-06-11T21:28:57.884313",
          "exception": false,
          "start_time": "2021-06-11T21:28:57.844236",
          "status": "completed"
        },
        "tags": [],
        "id": "s8m3KAxaF9M4"
      },
      "outputs": [],
      "source": [
        "with open('../input/goemotions/data/ekman_mapping.json') as file:\n",
        "    ekman_mapping = json.load(file)"
      ]
    },
    {
      "cell_type": "code",
      "execution_count": null,
      "metadata": {
        "execution": {
          "iopub.execute_input": "2021-06-11T21:28:57.942747Z",
          "iopub.status.busy": "2021-06-11T21:28:57.942113Z",
          "iopub.status.idle": "2021-06-11T21:28:57.951746Z",
          "shell.execute_reply": "2021-06-11T21:28:57.951163Z",
          "shell.execute_reply.started": "2021-06-11T21:15:56.334832Z"
        },
        "papermill": {
          "duration": 0.040091,
          "end_time": "2021-06-11T21:28:57.951872",
          "exception": false,
          "start_time": "2021-06-11T21:28:57.911781",
          "status": "completed"
        },
        "tags": [],
        "id": "QDK12BmqF9M4",
        "outputId": "165bafa9-3d49-4103-d22f-0a755b538a62"
      },
      "outputs": [
        {
          "name": "stdout",
          "output_type": "stream",
          "text": [
            "['admiration', 'amusement', 'anger', 'annoyance', 'approval', 'caring', 'confusion', 'curiosity', 'desire', 'disappointment', 'disapproval', 'disgust', 'embarrassment', 'excitement', 'fear', 'gratitude', 'grief', 'joy', 'love', 'nervousness', 'optimism', 'pride', 'realization', 'relief', 'remorse', 'sadness', 'surprise', 'neutral']\n"
          ]
        }
      ],
      "source": [
        "emotion_file = open(\"../input/goemotions/data/emotions.txt\", \"r\")\n",
        "emotion_list = emotion_file.read()\n",
        "emotion_list = emotion_list.split(\"\\n\")\n",
        "print(emotion_list)"
      ]
    },
    {
      "cell_type": "code",
      "execution_count": null,
      "metadata": {
        "execution": {
          "iopub.execute_input": "2021-06-11T21:28:58.010519Z",
          "iopub.status.busy": "2021-06-11T21:28:58.009807Z",
          "iopub.status.idle": "2021-06-11T21:28:58.012731Z",
          "shell.execute_reply": "2021-06-11T21:28:58.012333Z",
          "shell.execute_reply.started": "2021-06-11T21:15:56.347670Z"
        },
        "papermill": {
          "duration": 0.033906,
          "end_time": "2021-06-11T21:28:58.012842",
          "exception": false,
          "start_time": "2021-06-11T21:28:57.978936",
          "status": "completed"
        },
        "tags": [],
        "id": "epqwjecKF9M5"
      },
      "outputs": [],
      "source": [
        "def idx2class(idx_list):\n",
        "    arr = []\n",
        "    for i in idx_list:\n",
        "        arr.append(emotion_list[int(i)])\n",
        "    return arr"
      ]
    },
    {
      "cell_type": "code",
      "execution_count": null,
      "metadata": {
        "execution": {
          "iopub.execute_input": "2021-06-11T21:28:58.091842Z",
          "iopub.status.busy": "2021-06-11T21:28:58.076467Z",
          "iopub.status.idle": "2021-06-11T21:28:58.112991Z",
          "shell.execute_reply": "2021-06-11T21:28:58.112560Z",
          "shell.execute_reply.started": "2021-06-11T21:15:56.357305Z"
        },
        "papermill": {
          "duration": 0.073552,
          "end_time": "2021-06-11T21:28:58.113125",
          "exception": false,
          "start_time": "2021-06-11T21:28:58.039573",
          "status": "completed"
        },
        "tags": [],
        "id": "bRewJXClF9M5"
      },
      "outputs": [],
      "source": [
        "df_train['Emotions'] = df_train['List of classes'].apply(idx2class)\n",
        "#df_dev['Emotions'] = df_dev['List of classes'].apply(idx2class)"
      ]
    },
    {
      "cell_type": "code",
      "execution_count": null,
      "metadata": {
        "execution": {
          "iopub.execute_input": "2021-06-11T21:28:58.173803Z",
          "iopub.status.busy": "2021-06-11T21:28:58.173044Z",
          "iopub.status.idle": "2021-06-11T21:28:58.175894Z",
          "shell.execute_reply": "2021-06-11T21:28:58.175486Z",
          "shell.execute_reply.started": "2021-06-11T21:15:56.589192Z"
        },
        "papermill": {
          "duration": 0.035899,
          "end_time": "2021-06-11T21:28:58.176010",
          "exception": false,
          "start_time": "2021-06-11T21:28:58.140111",
          "status": "completed"
        },
        "tags": [],
        "id": "GQ75KYpUF9M5"
      },
      "outputs": [],
      "source": [
        "def EmotionMapping(emotion_list):\n",
        "    map_list = []\n",
        "\n",
        "    for i in emotion_list:\n",
        "        if i in ekman_mapping['anger']:\n",
        "            map_list.append('anger')\n",
        "        if i in ekman_mapping['disgust']:\n",
        "            map_list.append('disgust')\n",
        "        if i in ekman_mapping['fear']:\n",
        "            map_list.append('fear')\n",
        "        if i in ekman_mapping['joy']:\n",
        "            map_list.append('joy')\n",
        "        if i in ekman_mapping['sadness']:\n",
        "            map_list.append('sadness')\n",
        "        if i in ekman_mapping['surprise']:\n",
        "            map_list.append('surprise')\n",
        "        if i == 'neutral':\n",
        "            map_list.append('neutral')\n",
        "\n",
        "    return map_list"
      ]
    },
    {
      "cell_type": "code",
      "execution_count": null,
      "metadata": {
        "execution": {
          "iopub.execute_input": "2021-06-11T21:28:58.384809Z",
          "iopub.status.busy": "2021-06-11T21:28:58.347227Z",
          "iopub.status.idle": "2021-06-11T21:28:58.396229Z",
          "shell.execute_reply": "2021-06-11T21:28:58.395778Z",
          "shell.execute_reply.started": "2021-06-11T21:15:56.618994Z"
        },
        "papermill": {
          "duration": 0.193401,
          "end_time": "2021-06-11T21:28:58.396367",
          "exception": false,
          "start_time": "2021-06-11T21:28:58.202966",
          "status": "completed"
        },
        "tags": [],
        "id": "IzNozxm3F9M5"
      },
      "outputs": [],
      "source": [
        "df_train['Mapped Emotions'] = df_train['Emotions'].apply(EmotionMapping)\n",
        "#df_dev['Mapped Emotions'] = df_dev['Emotions'].apply(EmotionMapping)"
      ]
    },
    {
      "cell_type": "code",
      "execution_count": null,
      "metadata": {
        "execution": {
          "iopub.execute_input": "2021-06-11T21:28:58.459301Z",
          "iopub.status.busy": "2021-06-11T21:28:58.458476Z",
          "iopub.status.idle": "2021-06-11T21:28:58.468377Z",
          "shell.execute_reply": "2021-06-11T21:28:58.468783Z",
          "shell.execute_reply.started": "2021-06-11T21:15:56.784865Z"
        },
        "papermill": {
          "duration": 0.045452,
          "end_time": "2021-06-11T21:28:58.468916",
          "exception": false,
          "start_time": "2021-06-11T21:28:58.423464",
          "status": "completed"
        },
        "tags": [],
        "id": "-B8qp3KIF9M6"
      },
      "outputs": [],
      "source": [
        "df_train['anger'] = np.zeros((len(df_train),1))\n",
        "df_train['disgust'] = np.zeros((len(df_train),1))\n",
        "df_train['fear'] = np.zeros((len(df_train),1))\n",
        "df_train['joy'] = np.zeros((len(df_train),1))\n",
        "df_train['sadness'] = np.zeros((len(df_train),1))\n",
        "df_train['surprise'] = np.zeros((len(df_train),1))\n",
        "df_train['neutral'] = np.zeros((len(df_train),1))\n",
        "\n",
        "\"\"\"\n",
        "df_dev['anger'] = np.zeros((len(df_dev),1))\n",
        "df_dev['disgust'] = np.zeros((len(df_dev),1))\n",
        "df_dev['fear'] = np.zeros((len(df_dev),1))\n",
        "df_dev['joy'] = np.zeros((len(df_dev),1))\n",
        "df_dev['sadness'] = np.zeros((len(df_dev),1))\n",
        "df_dev['surprise'] = np.zeros((len(df_dev),1))\n",
        "df_dev['neutral'] = np.zeros((len(df_dev),1))\n",
        "\"\"\""
      ]
    },
    {
      "cell_type": "code",
      "execution_count": null,
      "metadata": {
        "execution": {
          "iopub.execute_input": "2021-06-11T21:28:58.528647Z",
          "iopub.status.busy": "2021-06-11T21:28:58.527829Z",
          "iopub.status.idle": "2021-06-11T21:28:58.705654Z",
          "shell.execute_reply": "2021-06-11T21:28:58.705147Z",
          "shell.execute_reply.started": "2021-06-11T21:15:56.822194Z"
        },
        "papermill": {
          "duration": 0.209431,
          "end_time": "2021-06-11T21:28:58.705793",
          "exception": false,
          "start_time": "2021-06-11T21:28:58.496362",
          "status": "completed"
        },
        "tags": [],
        "id": "DW9o9P9JF9M6"
      },
      "outputs": [],
      "source": [
        "for i in ['anger', 'disgust', 'fear', 'joy', 'sadness', 'surprise','neutral']:\n",
        "    df_train[i] = df_train['Mapped Emotions'].apply(lambda x: 1 if i in x else 0)\n",
        "    #df_dev[i] = df_dev['Mapped Emotions'].apply(lambda x: 1 if i in x else 0)"
      ]
    },
    {
      "cell_type": "code",
      "execution_count": null,
      "metadata": {
        "execution": {
          "iopub.execute_input": "2021-06-11T21:28:58.767550Z",
          "iopub.status.busy": "2021-06-11T21:28:58.766999Z",
          "iopub.status.idle": "2021-06-11T21:28:58.787655Z",
          "shell.execute_reply": "2021-06-11T21:28:58.788053Z",
          "shell.execute_reply.started": "2021-06-11T21:15:57.128141Z"
        },
        "papermill": {
          "duration": 0.054517,
          "end_time": "2021-06-11T21:28:58.788188",
          "exception": false,
          "start_time": "2021-06-11T21:28:58.733671",
          "status": "completed"
        },
        "tags": [],
        "id": "C7NRnIBUF9M6",
        "outputId": "c16bb559-9d7e-42b5-878f-4d4d39d0ff8e"
      },
      "outputs": [
        {
          "data": {
            "text/html": [
              "<div>\n",
              "<style scoped>\n",
              "    .dataframe tbody tr th:only-of-type {\n",
              "        vertical-align: middle;\n",
              "    }\n",
              "\n",
              "    .dataframe tbody tr th {\n",
              "        vertical-align: top;\n",
              "    }\n",
              "\n",
              "    .dataframe thead th {\n",
              "        text-align: right;\n",
              "    }\n",
              "</style>\n",
              "<table border=\"1\" class=\"dataframe\">\n",
              "  <thead>\n",
              "    <tr style=\"text-align: right;\">\n",
              "      <th></th>\n",
              "      <th>Text</th>\n",
              "      <th>Class</th>\n",
              "      <th>ID</th>\n",
              "      <th>List of classes</th>\n",
              "      <th>Len of classes</th>\n",
              "      <th>Emotions</th>\n",
              "      <th>Mapped Emotions</th>\n",
              "      <th>anger</th>\n",
              "      <th>disgust</th>\n",
              "      <th>fear</th>\n",
              "      <th>joy</th>\n",
              "      <th>sadness</th>\n",
              "      <th>surprise</th>\n",
              "      <th>neutral</th>\n",
              "    </tr>\n",
              "  </thead>\n",
              "  <tbody>\n",
              "    <tr>\n",
              "      <th>0</th>\n",
              "      <td>My favourite food is anything I didn't have to...</td>\n",
              "      <td>27</td>\n",
              "      <td>eebbqej</td>\n",
              "      <td>[27]</td>\n",
              "      <td>1</td>\n",
              "      <td>[neutral]</td>\n",
              "      <td>[neutral]</td>\n",
              "      <td>0</td>\n",
              "      <td>0</td>\n",
              "      <td>0</td>\n",
              "      <td>0</td>\n",
              "      <td>0</td>\n",
              "      <td>0</td>\n",
              "      <td>1</td>\n",
              "    </tr>\n",
              "    <tr>\n",
              "      <th>1</th>\n",
              "      <td>Now if he does off himself, everyone will thin...</td>\n",
              "      <td>27</td>\n",
              "      <td>ed00q6i</td>\n",
              "      <td>[27]</td>\n",
              "      <td>1</td>\n",
              "      <td>[neutral]</td>\n",
              "      <td>[neutral]</td>\n",
              "      <td>0</td>\n",
              "      <td>0</td>\n",
              "      <td>0</td>\n",
              "      <td>0</td>\n",
              "      <td>0</td>\n",
              "      <td>0</td>\n",
              "      <td>1</td>\n",
              "    </tr>\n",
              "    <tr>\n",
              "      <th>2</th>\n",
              "      <td>WHY THE FUCK IS BAYLESS ISOING</td>\n",
              "      <td>2</td>\n",
              "      <td>eezlygj</td>\n",
              "      <td>[2]</td>\n",
              "      <td>1</td>\n",
              "      <td>[anger]</td>\n",
              "      <td>[anger]</td>\n",
              "      <td>1</td>\n",
              "      <td>0</td>\n",
              "      <td>0</td>\n",
              "      <td>0</td>\n",
              "      <td>0</td>\n",
              "      <td>0</td>\n",
              "      <td>0</td>\n",
              "    </tr>\n",
              "    <tr>\n",
              "      <th>3</th>\n",
              "      <td>To make her feel threatened</td>\n",
              "      <td>14</td>\n",
              "      <td>ed7ypvh</td>\n",
              "      <td>[14]</td>\n",
              "      <td>1</td>\n",
              "      <td>[fear]</td>\n",
              "      <td>[fear]</td>\n",
              "      <td>0</td>\n",
              "      <td>0</td>\n",
              "      <td>1</td>\n",
              "      <td>0</td>\n",
              "      <td>0</td>\n",
              "      <td>0</td>\n",
              "      <td>0</td>\n",
              "    </tr>\n",
              "    <tr>\n",
              "      <th>4</th>\n",
              "      <td>Dirty Southern Wankers</td>\n",
              "      <td>3</td>\n",
              "      <td>ed0bdzj</td>\n",
              "      <td>[3]</td>\n",
              "      <td>1</td>\n",
              "      <td>[annoyance]</td>\n",
              "      <td>[anger]</td>\n",
              "      <td>1</td>\n",
              "      <td>0</td>\n",
              "      <td>0</td>\n",
              "      <td>0</td>\n",
              "      <td>0</td>\n",
              "      <td>0</td>\n",
              "      <td>0</td>\n",
              "    </tr>\n",
              "  </tbody>\n",
              "</table>\n",
              "</div>"
            ],
            "text/plain": [
              "                                                Text Class       ID  \\\n",
              "0  My favourite food is anything I didn't have to...    27  eebbqej   \n",
              "1  Now if he does off himself, everyone will thin...    27  ed00q6i   \n",
              "2                     WHY THE FUCK IS BAYLESS ISOING     2  eezlygj   \n",
              "3                        To make her feel threatened    14  ed7ypvh   \n",
              "4                             Dirty Southern Wankers     3  ed0bdzj   \n",
              "\n",
              "  List of classes  Len of classes     Emotions Mapped Emotions  anger  \\\n",
              "0            [27]               1    [neutral]       [neutral]      0   \n",
              "1            [27]               1    [neutral]       [neutral]      0   \n",
              "2             [2]               1      [anger]         [anger]      1   \n",
              "3            [14]               1       [fear]          [fear]      0   \n",
              "4             [3]               1  [annoyance]         [anger]      1   \n",
              "\n",
              "   disgust  fear  joy  sadness  surprise  neutral  \n",
              "0        0     0    0        0         0        1  \n",
              "1        0     0    0        0         0        1  \n",
              "2        0     0    0        0         0        0  \n",
              "3        0     1    0        0         0        0  \n",
              "4        0     0    0        0         0        0  "
            ]
          },
          "execution_count": 13,
          "metadata": {},
          "output_type": "execute_result"
        }
      ],
      "source": [
        "df_train.head()"
      ]
    },
    {
      "cell_type": "code",
      "execution_count": null,
      "metadata": {
        "execution": {
          "iopub.execute_input": "2021-06-11T21:28:58.861097Z",
          "iopub.status.busy": "2021-06-11T21:28:58.860190Z",
          "iopub.status.idle": "2021-06-11T21:28:58.864035Z",
          "shell.execute_reply": "2021-06-11T21:28:58.863638Z",
          "shell.execute_reply.started": "2021-06-11T21:15:57.164889Z"
        },
        "papermill": {
          "duration": 0.04847,
          "end_time": "2021-06-11T21:28:58.864147",
          "exception": false,
          "start_time": "2021-06-11T21:28:58.815677",
          "status": "completed"
        },
        "tags": [],
        "id": "rD3ap-RGF9M7",
        "outputId": "af9a87ce-3bb4-4758-c3aa-441fd74ee5bc"
      },
      "outputs": [
        {
          "data": {
            "text/html": [
              "<div>\n",
              "<style scoped>\n",
              "    .dataframe tbody tr th:only-of-type {\n",
              "        vertical-align: middle;\n",
              "    }\n",
              "\n",
              "    .dataframe tbody tr th {\n",
              "        vertical-align: top;\n",
              "    }\n",
              "\n",
              "    .dataframe thead th {\n",
              "        text-align: right;\n",
              "    }\n",
              "</style>\n",
              "<table border=\"1\" class=\"dataframe\">\n",
              "  <thead>\n",
              "    <tr style=\"text-align: right;\">\n",
              "      <th></th>\n",
              "      <th>Text</th>\n",
              "      <th>Class</th>\n",
              "      <th>ID</th>\n",
              "      <th>List of classes</th>\n",
              "      <th>Len of classes</th>\n",
              "      <th>Emotions</th>\n",
              "      <th>Mapped Emotions</th>\n",
              "      <th>anger</th>\n",
              "      <th>disgust</th>\n",
              "      <th>fear</th>\n",
              "      <th>joy</th>\n",
              "      <th>sadness</th>\n",
              "      <th>surprise</th>\n",
              "      <th>neutral</th>\n",
              "    </tr>\n",
              "  </thead>\n",
              "  <tbody>\n",
              "    <tr>\n",
              "      <th>0</th>\n",
              "      <td>Is this in New Orleans?? I really feel like th...</td>\n",
              "      <td>27</td>\n",
              "      <td>edgurhb</td>\n",
              "      <td>[27]</td>\n",
              "      <td>1</td>\n",
              "      <td>[neutral]</td>\n",
              "      <td>[neutral]</td>\n",
              "      <td>0</td>\n",
              "      <td>0</td>\n",
              "      <td>0</td>\n",
              "      <td>0</td>\n",
              "      <td>0</td>\n",
              "      <td>0</td>\n",
              "      <td>1</td>\n",
              "    </tr>\n",
              "    <tr>\n",
              "      <th>1</th>\n",
              "      <td>You know the answer man, you are programmed to...</td>\n",
              "      <td>4,27</td>\n",
              "      <td>ee84bjg</td>\n",
              "      <td>[4, 27]</td>\n",
              "      <td>2</td>\n",
              "      <td>[approval, neutral]</td>\n",
              "      <td>[joy, neutral]</td>\n",
              "      <td>0</td>\n",
              "      <td>0</td>\n",
              "      <td>0</td>\n",
              "      <td>1</td>\n",
              "      <td>0</td>\n",
              "      <td>0</td>\n",
              "      <td>1</td>\n",
              "    </tr>\n",
              "    <tr>\n",
              "      <th>2</th>\n",
              "      <td>I've never been this sad in my life!</td>\n",
              "      <td>25</td>\n",
              "      <td>edcu99z</td>\n",
              "      <td>[25]</td>\n",
              "      <td>1</td>\n",
              "      <td>[sadness]</td>\n",
              "      <td>[sadness]</td>\n",
              "      <td>0</td>\n",
              "      <td>0</td>\n",
              "      <td>0</td>\n",
              "      <td>0</td>\n",
              "      <td>1</td>\n",
              "      <td>0</td>\n",
              "      <td>0</td>\n",
              "    </tr>\n",
              "    <tr>\n",
              "      <th>3</th>\n",
              "      <td>The economy is heavily controlled and subsidiz...</td>\n",
              "      <td>4,27</td>\n",
              "      <td>edc32e2</td>\n",
              "      <td>[4, 27]</td>\n",
              "      <td>2</td>\n",
              "      <td>[approval, neutral]</td>\n",
              "      <td>[joy, neutral]</td>\n",
              "      <td>0</td>\n",
              "      <td>0</td>\n",
              "      <td>0</td>\n",
              "      <td>1</td>\n",
              "      <td>0</td>\n",
              "      <td>0</td>\n",
              "      <td>1</td>\n",
              "    </tr>\n",
              "    <tr>\n",
              "      <th>4</th>\n",
              "      <td>He could have easily taken a real camera from ...</td>\n",
              "      <td>20</td>\n",
              "      <td>eepig6r</td>\n",
              "      <td>[20]</td>\n",
              "      <td>1</td>\n",
              "      <td>[optimism]</td>\n",
              "      <td>[joy]</td>\n",
              "      <td>0</td>\n",
              "      <td>0</td>\n",
              "      <td>0</td>\n",
              "      <td>1</td>\n",
              "      <td>0</td>\n",
              "      <td>0</td>\n",
              "      <td>0</td>\n",
              "    </tr>\n",
              "  </tbody>\n",
              "</table>\n",
              "</div>"
            ],
            "text/plain": [
              "                                                Text Class       ID  \\\n",
              "0  Is this in New Orleans?? I really feel like th...    27  edgurhb   \n",
              "1  You know the answer man, you are programmed to...  4,27  ee84bjg   \n",
              "2               I've never been this sad in my life!    25  edcu99z   \n",
              "3  The economy is heavily controlled and subsidiz...  4,27  edc32e2   \n",
              "4  He could have easily taken a real camera from ...    20  eepig6r   \n",
              "\n",
              "  List of classes  Len of classes             Emotions Mapped Emotions  anger  \\\n",
              "0            [27]               1            [neutral]       [neutral]      0   \n",
              "1         [4, 27]               2  [approval, neutral]  [joy, neutral]      0   \n",
              "2            [25]               1            [sadness]       [sadness]      0   \n",
              "3         [4, 27]               2  [approval, neutral]  [joy, neutral]      0   \n",
              "4            [20]               1           [optimism]           [joy]      0   \n",
              "\n",
              "   disgust  fear  joy  sadness  surprise  neutral  \n",
              "0        0     0    0        0         0        1  \n",
              "1        0     0    1        0         0        1  \n",
              "2        0     0    0        1         0        0  \n",
              "3        0     0    1        0         0        1  \n",
              "4        0     0    1        0         0        0  "
            ]
          },
          "execution_count": 14,
          "metadata": {},
          "output_type": "execute_result"
        }
      ],
      "source": [
        "#df_dev.head()"
      ]
    },
    {
      "cell_type": "code",
      "execution_count": null,
      "metadata": {
        "execution": {
          "iopub.execute_input": "2021-06-11T21:28:58.925691Z",
          "iopub.status.busy": "2021-06-11T21:28:58.925066Z",
          "iopub.status.idle": "2021-06-11T21:28:58.978393Z",
          "shell.execute_reply": "2021-06-11T21:28:58.977430Z",
          "shell.execute_reply.started": "2021-06-11T21:15:57.192562Z"
        },
        "papermill": {
          "duration": 0.086563,
          "end_time": "2021-06-11T21:28:58.978529",
          "exception": false,
          "start_time": "2021-06-11T21:28:58.891966",
          "status": "completed"
        },
        "tags": [],
        "id": "A2jAeBDwF9M7"
      },
      "outputs": [],
      "source": [
        "df_train.drop(df_train[df_train['neutral'] == 1].index, inplace=True)\n",
        "#df_dev.drop(df_dev[df_dev['neutral'] == 1].index, inplace=True)\n",
        "df_train.drop(df_train[df_train['disgust'] == 1].index, inplace=True)\n",
        "#df_dev.drop(df_dev[df_dev['disgust'] == 1].index, inplace=True)"
      ]
    },
    {
      "cell_type": "code",
      "execution_count": null,
      "metadata": {
        "execution": {
          "iopub.execute_input": "2021-06-11T21:28:59.043617Z",
          "iopub.status.busy": "2021-06-11T21:28:59.042881Z",
          "iopub.status.idle": "2021-06-11T21:28:59.045793Z",
          "shell.execute_reply": "2021-06-11T21:28:59.045370Z",
          "shell.execute_reply.started": "2021-06-11T21:15:57.254139Z"
        },
        "papermill": {
          "duration": 0.039512,
          "end_time": "2021-06-11T21:28:59.045913",
          "exception": false,
          "start_time": "2021-06-11T21:28:59.006401",
          "status": "completed"
        },
        "tags": [],
        "id": "761YhfGtF9M7"
      },
      "outputs": [],
      "source": [
        "df_train.drop(['Class', 'List of classes', 'Len of classes', 'Emotions', 'Mapped Emotions', 'neutral', 'disgust'], axis=1, inplace=True)\n",
        "df_dev.drop(['Class', 'List of classes', 'Len of classes', 'Emotions', 'Mapped Emotions', 'neutral', 'disgust'], axis=1, inplace=True)"
      ]
    },
    {
      "cell_type": "code",
      "execution_count": null,
      "metadata": {
        "execution": {
          "iopub.execute_input": "2021-06-11T21:28:59.125320Z",
          "iopub.status.busy": "2021-06-11T21:28:59.124358Z",
          "iopub.status.idle": "2021-06-11T21:28:59.126597Z",
          "shell.execute_reply": "2021-06-11T21:28:59.126961Z",
          "shell.execute_reply.started": "2021-06-11T21:15:57.268271Z"
        },
        "papermill": {
          "duration": 0.053282,
          "end_time": "2021-06-11T21:28:59.127109",
          "exception": false,
          "start_time": "2021-06-11T21:28:59.073827",
          "status": "completed"
        },
        "tags": [],
        "id": "3bJJ8L20F9M7"
      },
      "outputs": [],
      "source": [
        "contraction_mapping = {\"ain't\": \"is not\", \"aren't\": \"are not\",\"can't\": \"cannot\", \"'cause\": \"because\", \"could've\": \"could have\", \"couldn't\": \"could not\",\n",
        "                       \"didn't\": \"did not\",  \"doesn't\": \"does not\", \"don't\": \"do not\", \"hadn't\": \"had not\", \"hasn't\": \"has not\", \"haven't\": \"have not\",\n",
        "                       \"he'd\": \"he would\",\"he'll\": \"he will\", \"he's\": \"he is\", \"how'd\": \"how did\", \"how'd'y\": \"how do you\", \"how'll\": \"how will\",\n",
        "                       \"how's\": \"how is\",  \"I'd\": \"I would\", \"I'd've\": \"I would have\", \"I'll\": \"I will\", \"I'll've\": \"I will have\",\"I'm\": \"I am\",\n",
        "                       \"I've\": \"I have\", \"i'd\": \"i would\", \"i'd've\": \"i would have\", \"i'll\": \"i will\",  \"i'll've\": \"i will have\",\"i'm\": \"i am\",\n",
        "                       \"i've\": \"i have\", \"isn't\": \"is not\", \"it'd\": \"it would\", \"it'd've\": \"it would have\", \"it'll\": \"it will\", \"it'll've\": \"it will have\",\n",
        "                       \"it's\": \"it is\", \"let's\": \"let us\", \"ma'am\": \"madam\", \"mayn't\": \"may not\", \"might've\": \"might have\",\"mightn't\": \"might not\",\n",
        "                       \"mightn't've\": \"might not have\", \"must've\": \"must have\", \"mustn't\": \"must not\", \"mustn't've\": \"must not have\", \"needn't\": \"need not\",\n",
        "                       \"needn't've\": \"need not have\",\"o'clock\": \"of the clock\", \"oughtn't\": \"ought not\", \"oughtn't've\": \"ought not have\", \"shan't\": \"shall not\",\n",
        "                       \"sha'n't\": \"shall not\", \"shan't've\": \"shall not have\", \"she'd\": \"she would\", \"she'd've\": \"she would have\", \"she'll\": \"she will\",\n",
        "                       \"she'll've\": \"she will have\", \"she's\": \"she is\", \"should've\": \"should have\", \"shouldn't\": \"should not\", \"shouldn't've\": \"should not have\",\n",
        "                       \"so've\": \"so have\",\"so's\": \"so as\", \"this's\": \"this is\",\"that'd\": \"that would\", \"that'd've\": \"that would have\", \"that's\": \"that is\",\n",
        "                       \"there'd\": \"there would\", \"there'd've\": \"there would have\", \"there's\": \"there is\", \"here's\": \"here is\",\"they'd\": \"they would\",\n",
        "                       \"they'd've\": \"they would have\", \"they'll\": \"they will\", \"they'll've\": \"they will have\", \"they're\": \"they are\", \"they've\": \"they have\",\n",
        "                       \"to've\": \"to have\", \"wasn't\": \"was not\", \"we'd\": \"we would\", \"we'd've\": \"we would have\", \"we'll\": \"we will\", \"we'll've\": \"we will have\",\n",
        "                       \"we're\": \"we are\", \"we've\": \"we have\", \"weren't\": \"were not\", \"what'll\": \"what will\", \"what'll've\": \"what will have\",\n",
        "                       \"what're\": \"what are\",  \"what's\": \"what is\", \"what've\": \"what have\", \"when's\": \"when is\", \"when've\": \"when have\", \"where'd\": \"where did\",\n",
        "                       \"where's\": \"where is\", \"where've\": \"where have\", \"who'll\": \"who will\", \"who'll've\": \"who will have\", \"who's\": \"who is\",\n",
        "                       \"who've\": \"who have\", \"why's\": \"why is\", \"why've\": \"why have\", \"will've\": \"will have\", \"won't\": \"will not\", \"won't've\": \"will not have\",\n",
        "                       \"would've\": \"would have\", \"wouldn't\": \"would not\", \"wouldn't've\": \"would not have\", \"y'all\": \"you all\", \"y'all'd\": \"you all would\",\n",
        "                       \"y'all'd've\": \"you all would have\",\"y'all're\": \"you all are\",\"y'all've\": \"you all have\",\"you'd\": \"you would\", \"you'd've\": \"you would have\",\n",
        "                       \"you'll\": \"you will\", \"you'll've\": \"you will have\", \"you're\": \"you are\", \"you've\": \"you have\", 'u.s':'america', 'e.g':'for example'}\n",
        "\n",
        "punct = [',', '.', '\"', ':', ')', '(', '-', '!', '?', '|', ';', \"'\", '$', '&', '/', '[', ']', '>', '%', '=', '#', '*', '+', '\\\\', '•',  '~', '@', '£',\n",
        " '·', '_', '{', '}', '©', '^', '®', '`',  '<', '→', '°', '€', '™', '›',  '♥', '←', '×', '§', '″', '′', 'Â', '█', '½', 'à', '…',\n",
        " '“', '★', '”', '–', '●', 'â', '►', '−', '¢', '²', '¬', '░', '¶', '↑', '±', '¿', '▾', '═', '¦', '║', '―', '¥', '▓', '—', '‹', '─',\n",
        " '▒', '：', '¼', '⊕', '▼', '▪', '†', '■', '’', '▀', '¨', '▄', '♫', '☆', 'é', '¯', '♦', '¤', '▲', 'è', '¸', '¾', 'Ã', '⋅', '‘', '∞',\n",
        " '∙', '）', '↓', '、', '│', '（', '»', '，', '♪', '╩', '╚', '³', '・', '╦', '╣', '╔', '╗', '▬', '❤', 'ï', 'Ø', '¹', '≤', '‡', '√', ]\n",
        "\n",
        "punct_mapping = {\"‘\": \"'\", \"₹\": \"e\", \"´\": \"'\", \"°\": \"\", \"€\": \"e\", \"™\": \"tm\", \"√\": \" sqrt \", \"×\": \"x\", \"²\": \"2\", \"—\": \"-\", \"–\": \"-\", \"’\": \"'\", \"_\": \"-\",\n",
        "                 \"`\": \"'\", '“': '\"', '”': '\"', '“': '\"', \"£\": \"e\", '∞': 'infinity', 'θ': 'theta', '÷': '/', 'α': 'alpha', '•': '.', 'à': 'a', '−': '-',\n",
        "                 'β': 'beta', '∅': '', '³': '3', 'π': 'pi', '!':' '}\n",
        "\n",
        "mispell_dict = {'colour': 'color', 'centre': 'center', 'favourite': 'favorite', 'travelling': 'traveling', 'counselling': 'counseling', 'theatre': 'theater',\n",
        "                'cancelled': 'canceled', 'labour': 'labor', 'organisation': 'organization', 'wwii': 'world war 2', 'citicise': 'criticize', 'youtu ': 'youtube ',\n",
        "                'Qoura': 'Quora', 'sallary': 'salary', 'Whta': 'What', 'narcisist': 'narcissist', 'howdo': 'how do', 'whatare': 'what are', 'howcan': 'how can',\n",
        "                'howmuch': 'how much', 'howmany': 'how many', 'whydo': 'why do', 'doI': 'do I', 'theBest': 'the best', 'howdoes': 'how does',\n",
        "                'mastrubation': 'masturbation', 'mastrubate': 'masturbate', \"mastrubating\": 'masturbating', 'pennis': 'penis', 'Etherium': 'Ethereum',\n",
        "                'narcissit': 'narcissist', 'bigdata': 'big data', '2k17': '2017', '2k18': '2018', 'qouta': 'quota', 'exboyfriend': 'ex boyfriend',\n",
        "                'airhostess': 'air hostess', \"whst\": 'what', 'watsapp': 'whatsapp', 'demonitisation': 'demonetization', 'demonitization': 'demonetization',\n",
        "                'demonetisation': 'demonetization'}"
      ]
    },
    {
      "cell_type": "code",
      "execution_count": null,
      "metadata": {
        "execution": {
          "iopub.execute_input": "2021-06-11T21:28:59.196743Z",
          "iopub.status.busy": "2021-06-11T21:28:59.196011Z",
          "iopub.status.idle": "2021-06-11T21:28:59.198619Z",
          "shell.execute_reply": "2021-06-11T21:28:59.199045Z",
          "shell.execute_reply.started": "2021-06-11T21:15:57.300598Z"
        },
        "papermill": {
          "duration": 0.04434,
          "end_time": "2021-06-11T21:28:59.199188",
          "exception": false,
          "start_time": "2021-06-11T21:28:59.154848",
          "status": "completed"
        },
        "tags": [],
        "id": "EoQUHiS-F9M7"
      },
      "outputs": [],
      "source": [
        "def clean_text(text):\n",
        "    '''Clean emoji, Make text lowercase, remove text in square brackets,remove links,remove punctuation\n",
        "    and remove words containing numbers.'''\n",
        "    text = emoji.demojize(text)\n",
        "    text = re.sub(r'\\:(.*?)\\:','',text)\n",
        "    text = str(text).lower()    #Making Text Lowercase\n",
        "    text = re.sub('\\[.*?\\]', '', text)\n",
        "    #The next 2 lines remove html text\n",
        "    text = BeautifulSoup(text, 'lxml').get_text()\n",
        "    text = re.sub('https?://\\S+|www\\.\\S+', '', text)\n",
        "    text = re.sub('<.*?>+', '', text)\n",
        "    text = re.sub('\\n', '', text)\n",
        "    text = re.sub('\\w*\\d\\w*', '', text)\n",
        "    # replacing everything with space except (a-z, A-Z, \".\", \"?\", \"!\", \",\", \"'\")\n",
        "    text = re.sub(r\"[^a-zA-Z?.!,¿']+\", \" \", text)\n",
        "    return text\n",
        "\n",
        "def clean_contractions(text, mapping):\n",
        "    '''Clean contraction using contraction mapping'''\n",
        "    specials = [\"’\", \"‘\", \"´\", \"`\"]\n",
        "    for s in specials:\n",
        "        text = text.replace(s, \"'\")\n",
        "    for word in mapping.keys():\n",
        "        if \"\"+word+\"\" in text:\n",
        "            text = text.replace(\"\"+word+\"\", \"\"+mapping[word]+\"\")\n",
        "    #Remove Punctuations\n",
        "    text = re.sub('[%s]' % re.escape(string.punctuation), '', text)\n",
        "    # creating a space between a word and the punctuation following it\n",
        "    # eg: \"he is a boy.\" => \"he is a boy .\"\n",
        "    text = re.sub(r\"([?.!,¿])\", r\" \\1 \", text)\n",
        "    text = re.sub(r'[\" \"]+', \" \", text)\n",
        "    return text\n",
        "\n",
        "def clean_special_chars(text, punct, mapping):\n",
        "    '''Cleans special characters present(if any)'''\n",
        "    for p in mapping:\n",
        "        text = text.replace(p, mapping[p])\n",
        "\n",
        "    for p in punct:\n",
        "        text = text.replace(p, f' {p} ')\n",
        "\n",
        "    specials = {'\\u200b': ' ', '…': ' ... ', '\\ufeff': '', 'करना': '', 'है': ''}\n",
        "    for s in specials:\n",
        "        text = text.replace(s, specials[s])\n",
        "\n",
        "    return text\n",
        "\n",
        "def correct_spelling(x, dic):\n",
        "    '''Corrects common spelling errors'''\n",
        "    for word in dic.keys():\n",
        "        x = x.replace(word, dic[word])\n",
        "    return x\n",
        "\n",
        "def remove_space(text):\n",
        "    '''Removes awkward spaces'''\n",
        "    #Removes awkward spaces\n",
        "    text = text.strip()\n",
        "    text = text.split()\n",
        "    return \" \".join(text)\n",
        "\n",
        "def text_preprocessing_pipeline(text):\n",
        "    '''Cleaning and parsing the text.'''\n",
        "    text = clean_text(text)\n",
        "    text = clean_contractions(text, contraction_mapping)\n",
        "    text = clean_special_chars(text, punct, punct_mapping)\n",
        "    text = correct_spelling(text, mispell_dict)\n",
        "    text = remove_space(text)\n",
        "    return text"
      ]
    },
    {
      "cell_type": "code",
      "execution_count": null,
      "metadata": {
        "execution": {
          "iopub.execute_input": "2021-06-11T21:28:59.258238Z",
          "iopub.status.busy": "2021-06-11T21:28:59.257548Z",
          "iopub.status.idle": "2021-06-11T21:28:59.260402Z",
          "shell.execute_reply": "2021-06-11T21:28:59.259895Z",
          "shell.execute_reply.started": "2021-06-11T21:15:57.323244Z"
        },
        "papermill": {
          "duration": 0.033697,
          "end_time": "2021-06-11T21:28:59.260511",
          "exception": false,
          "start_time": "2021-06-11T21:28:59.226814",
          "status": "completed"
        },
        "tags": [],
        "id": "z_f0CF6_F9M8"
      },
      "outputs": [],
      "source": [
        "# df_train['Text'] = df_train['Text'].apply(text_preprocessing_pipeline)\n",
        "# df_dev['Text'] = df_dev['Text'].apply(text_preprocessing_pipeline)"
      ]
    },
    {
      "cell_type": "code",
      "execution_count": null,
      "metadata": {
        "execution": {
          "iopub.execute_input": "2021-06-11T21:28:59.322211Z",
          "iopub.status.busy": "2021-06-11T21:28:59.321692Z",
          "iopub.status.idle": "2021-06-11T21:28:59.606580Z",
          "shell.execute_reply": "2021-06-11T21:28:59.606074Z",
          "shell.execute_reply.started": "2021-06-11T21:15:57.338776Z"
        },
        "papermill": {
          "duration": 0.317198,
          "end_time": "2021-06-11T21:28:59.606719",
          "exception": false,
          "start_time": "2021-06-11T21:28:59.289521",
          "status": "completed"
        },
        "tags": [],
        "id": "QVwwR6r7F9M8"
      },
      "outputs": [],
      "source": [
        "df_train.reset_index(drop=True).to_csv(\"train.csv\", index=False)\n",
        "df_dev.reset_index(drop=True).to_csv(\"val.csv\", index=False)"
      ]
    },
    {
      "cell_type": "code",
      "execution_count": null,
      "metadata": {
        "execution": {
          "iopub.execute_input": "2021-06-11T21:28:59.671880Z",
          "iopub.status.busy": "2021-06-11T21:28:59.671049Z",
          "iopub.status.idle": "2021-06-11T21:28:59.674620Z",
          "shell.execute_reply": "2021-06-11T21:28:59.675113Z",
          "shell.execute_reply.started": "2021-06-11T21:15:57.851482Z"
        },
        "papermill": {
          "duration": 0.040494,
          "end_time": "2021-06-11T21:28:59.675251",
          "exception": false,
          "start_time": "2021-06-11T21:28:59.634757",
          "status": "completed"
        },
        "tags": [],
        "id": "RYDGW8JRF9M8"
      },
      "outputs": [],
      "source": [
        "df_train = df_train.reset_index(drop=True)\n",
        "df_dev = df_dev.reset_index(drop=True)"
      ]
    },
    {
      "cell_type": "code",
      "execution_count": null,
      "metadata": {
        "execution": {
          "iopub.execute_input": "2021-06-11T21:28:59.741598Z",
          "iopub.status.busy": "2021-06-11T21:28:59.740751Z",
          "iopub.status.idle": "2021-06-11T21:28:59.744654Z",
          "shell.execute_reply": "2021-06-11T21:28:59.744223Z",
          "shell.execute_reply.started": "2021-06-11T21:15:57.867833Z"
        },
        "papermill": {
          "duration": 0.041357,
          "end_time": "2021-06-11T21:28:59.744771",
          "exception": false,
          "start_time": "2021-06-11T21:28:59.703414",
          "status": "completed"
        },
        "tags": [],
        "colab": {
          "base_uri": "https://localhost:8080/",
          "height": 141
        },
        "id": "ZEr8A0b2F9M8",
        "outputId": "d297f9f9-68e9-4137-df6b-3dae17e629e0"
      },
      "outputs": [
        {
          "output_type": "error",
          "ename": "NameError",
          "evalue": "name 'df_train' is not defined",
          "traceback": [
            "\u001b[0;31m---------------------------------------------------------------------------\u001b[0m",
            "\u001b[0;31mNameError\u001b[0m                                 Traceback (most recent call last)",
            "\u001b[0;32m<ipython-input-3-ae4c411233fc>\u001b[0m in \u001b[0;36m<cell line: 1>\u001b[0;34m()\u001b[0m\n\u001b[0;32m----> 1\u001b[0;31m \u001b[0mdf_train\u001b[0m\u001b[0;34m.\u001b[0m\u001b[0mhead\u001b[0m\u001b[0;34m(\u001b[0m\u001b[0;34m)\u001b[0m\u001b[0;34m\u001b[0m\u001b[0;34m\u001b[0m\u001b[0m\n\u001b[0m",
            "\u001b[0;31mNameError\u001b[0m: name 'df_train' is not defined"
          ]
        }
      ],
      "source": [
        "df_train.head()"
      ]
    },
    {
      "cell_type": "code",
      "execution_count": null,
      "metadata": {
        "execution": {
          "iopub.execute_input": "2021-06-11T21:28:59.805866Z",
          "iopub.status.busy": "2021-06-11T21:28:59.805059Z",
          "iopub.status.idle": "2021-06-11T21:28:59.809485Z",
          "shell.execute_reply": "2021-06-11T21:28:59.808874Z",
          "shell.execute_reply.started": "2021-06-11T21:15:57.889795Z"
        },
        "papermill": {
          "duration": 0.036698,
          "end_time": "2021-06-11T21:28:59.809641",
          "exception": false,
          "start_time": "2021-06-11T21:28:59.772943",
          "status": "completed"
        },
        "tags": [],
        "id": "2X2AYDD4F9M8",
        "outputId": "1c2b6e67-f196-4cdf-b25d-d18050379a49"
      },
      "outputs": [
        {
          "name": "stdout",
          "output_type": "stream",
          "text": [
            "(28427, 7)\n",
            "(3564, 7)\n"
          ]
        }
      ],
      "source": [
        "print(df_train.shape)\n",
        "print(df_dev.shape)"
      ]
    },
    {
      "cell_type": "code",
      "execution_count": null,
      "metadata": {
        "execution": {
          "iopub.execute_input": "2021-06-11T21:28:59.918208Z",
          "iopub.status.busy": "2021-06-11T21:28:59.917621Z",
          "iopub.status.idle": "2021-06-11T21:28:59.920440Z",
          "shell.execute_reply": "2021-06-11T21:28:59.920815Z",
          "shell.execute_reply.started": "2021-06-11T21:15:57.900528Z"
        },
        "papermill": {
          "duration": 0.081819,
          "end_time": "2021-06-11T21:28:59.920963",
          "exception": false,
          "start_time": "2021-06-11T21:28:59.839144",
          "status": "completed"
        },
        "tags": [],
        "id": "drb5MMHNF9M8",
        "colab": {
          "base_uri": "https://localhost:8080/",
          "height": 141
        },
        "outputId": "057459f1-e660-4197-c534-e7848edeba51"
      },
      "outputs": [
        {
          "output_type": "error",
          "ename": "NameError",
          "evalue": "name 'torch' is not defined",
          "traceback": [
            "\u001b[0;31m---------------------------------------------------------------------------\u001b[0m",
            "\u001b[0;31mNameError\u001b[0m                                 Traceback (most recent call last)",
            "\u001b[0;32m<ipython-input-5-b7fb0102ff97>\u001b[0m in \u001b[0;36m<cell line: 1>\u001b[0;34m()\u001b[0m\n\u001b[0;32m----> 1\u001b[0;31m \u001b[0mdevice\u001b[0m \u001b[0;34m=\u001b[0m \u001b[0;34m'cuda'\u001b[0m \u001b[0;32mif\u001b[0m \u001b[0mtorch\u001b[0m\u001b[0;34m.\u001b[0m\u001b[0mcuda\u001b[0m\u001b[0;34m.\u001b[0m\u001b[0mis_available\u001b[0m\u001b[0;34m(\u001b[0m\u001b[0;34m)\u001b[0m \u001b[0;32melse\u001b[0m \u001b[0;34m'cpu'\u001b[0m\u001b[0;34m\u001b[0m\u001b[0;34m\u001b[0m\u001b[0m\n\u001b[0m",
            "\u001b[0;31mNameError\u001b[0m: name 'torch' is not defined"
          ]
        }
      ],
      "source": [
        "device = 'cuda' if torch.cuda.is_available() else 'cpu'"
      ]
    },
    {
      "cell_type": "code",
      "execution_count": null,
      "metadata": {
        "execution": {
          "iopub.execute_input": "2021-06-11T21:28:59.983349Z",
          "iopub.status.busy": "2021-06-11T21:28:59.982541Z",
          "iopub.status.idle": "2021-06-11T21:29:03.832972Z",
          "shell.execute_reply": "2021-06-11T21:29:03.832524Z",
          "shell.execute_reply.started": "2021-06-11T21:15:57.952876Z"
        },
        "papermill": {
          "duration": 3.883275,
          "end_time": "2021-06-11T21:29:03.833116",
          "exception": false,
          "start_time": "2021-06-11T21:28:59.949841",
          "status": "completed"
        },
        "tags": [],
        "colab": {
          "base_uri": "https://localhost:8080/",
          "height": 177,
          "referenced_widgets": [
            "0de557beba864a438b628e06d058d6c9",
            "3c2614f77d754d4ca319373e1f2b6329",
            "76e5573b6b4b41d3a7d579b67f6da8ac",
            "ab570d131df84273928c2141e06361e1",
            "efef1d84ba8c4496ac1558117fbbef7f",
            "721ac6f7777b440ab598c5f8cf410550",
            "5d8b5ba4d88f465dad40fdf5fc4e4f19",
            "213f9e82a2134eb1a4430ec8c6581539",
            "426ea906e1464ff59131c5261090ffd8",
            "fc97b7e822124edeacbcd60cd35197d0",
            "9ce8d60497a7442ca6a56f09d4fc48e5",
            "fba883b9bf134863b4dff32e5f47b061",
            "d4479286bac64bc19e57efb3e1bf219c",
            "255ccbd19ad34ec78fd764b22c7b555f",
            "d6b872166da54e67a03ef3d34db8e14a",
            "b2098d0adb9349b293977c7404fae713",
            "7928cdcb84bd4282a5893fbadda01fd8",
            "4cf6c83ce9644817bce630a43e5e600f",
            "359df60f225d4a2db722960d7e432e7f",
            "13460c52d3f24ba0b30cad322f9c20c5",
            "a2f8154732a74403bd86d6ce2b8b56c2",
            "21b74d4bac1440deb11fbadb604b9783",
            "5b0212b15c4c40f790bd49021545d279",
            "0a94a1d891b14e2a82ea88fc12016572",
            "dfa0a0fc13a742f8b7e215ccf6c58180",
            "812bd69340f04fa49a540a772e6359aa",
            "92376908592345ee9df4a530642b9517",
            "f4c75c0e89904ac08b68ea738c2996c5",
            "826979ef458b448283835123e5d6b4b2",
            "4e32113e72dd4b05b2aa120158314d7f",
            "e4aa160ecd15473d9fc07adba0923e7c",
            "40ec773cab744a6797e96f63957cd609",
            "6c02ba59ec7e4ae1be173b216a5833c1",
            "53b636798baa4e8280e5c9b0654c88b2",
            "fa7e34f1d9ca4c34963e168a8f67b99a",
            "0db0d89daa3043d48a0df9d38856f621",
            "135798d6d18f41799d68685b95be5482",
            "01cb9a53bcc54f989a09c9df799d4158",
            "b89fc46b6eb54949bf69938a4f76e261",
            "2f6a1bd7e89a498aada1d22603b109fa",
            "6d4fa8be27b34da78caa98940d8d226f",
            "5a5742bf773443f2a2c5fbacda5b62a9",
            "c3e4ad1468ec4397bf36f502d71effc1",
            "9e42a448691248a9aefc416894f99960",
            "afb0ba215edc474296248cd2a06ec178",
            "3c9c5d8131fd4520b74c7b96c695595a",
            "91d63f428de84d76b0db4aea6fbc494f",
            "3c24b2ac55bb42f38c22a0f61a06e397",
            "b8c40d5e1a0b4bd0a851c42a13c8ba30",
            "e82819b3d4944ea0b1ddf5c54af50d16",
            "3484aa95e4b847c38ce6fecf01fc5a5e",
            "300654722e794456942f43dfb27e77e6",
            "7a55bb53992648fe9e7a49576f78d5fe",
            "a2c57ea3747041098a7cbb1fc6e1cf71",
            "d714cc8d23d64adb861c3ae8e611c885"
          ]
        },
        "id": "2IKRzmvXF9M9",
        "outputId": "dda488a3-d773-4171-e01b-530570588bd8"
      },
      "outputs": [
        {
          "output_type": "display_data",
          "data": {
            "text/plain": [
              "tokenizer_config.json:   0%|          | 0.00/25.0 [00:00<?, ?B/s]"
            ],
            "application/vnd.jupyter.widget-view+json": {
              "version_major": 2,
              "version_minor": 0,
              "model_id": "0de557beba864a438b628e06d058d6c9"
            }
          },
          "metadata": {}
        },
        {
          "output_type": "display_data",
          "data": {
            "text/plain": [
              "config.json:   0%|          | 0.00/481 [00:00<?, ?B/s]"
            ],
            "application/vnd.jupyter.widget-view+json": {
              "version_major": 2,
              "version_minor": 0,
              "model_id": "fba883b9bf134863b4dff32e5f47b061"
            }
          },
          "metadata": {}
        },
        {
          "output_type": "display_data",
          "data": {
            "text/plain": [
              "vocab.json:   0%|          | 0.00/899k [00:00<?, ?B/s]"
            ],
            "application/vnd.jupyter.widget-view+json": {
              "version_major": 2,
              "version_minor": 0,
              "model_id": "5b0212b15c4c40f790bd49021545d279"
            }
          },
          "metadata": {}
        },
        {
          "output_type": "display_data",
          "data": {
            "text/plain": [
              "merges.txt:   0%|          | 0.00/456k [00:00<?, ?B/s]"
            ],
            "application/vnd.jupyter.widget-view+json": {
              "version_major": 2,
              "version_minor": 0,
              "model_id": "53b636798baa4e8280e5c9b0654c88b2"
            }
          },
          "metadata": {}
        },
        {
          "output_type": "display_data",
          "data": {
            "text/plain": [
              "tokenizer.json:   0%|          | 0.00/1.36M [00:00<?, ?B/s]"
            ],
            "application/vnd.jupyter.widget-view+json": {
              "version_major": 2,
              "version_minor": 0,
              "model_id": "afb0ba215edc474296248cd2a06ec178"
            }
          },
          "metadata": {}
        }
      ],
      "source": [
        "# Sections of config\n",
        "\n",
        "# Defining some key variables that will be used later on in the training\n",
        "MAX_LEN = 200\n",
        "TRAIN_BATCH_SIZE = 64\n",
        "VALID_BATCH_SIZE = 64\n",
        "EPOCHS = 10\n",
        "LEARNING_RATE = 2e-5\n",
        "tokenizer = AutoTokenizer.from_pretrained('roberta-base')"
      ]
    },
    {
      "cell_type": "code",
      "execution_count": null,
      "metadata": {
        "execution": {
          "iopub.execute_input": "2021-06-11T21:29:03.899026Z",
          "iopub.status.busy": "2021-06-11T21:29:03.898373Z",
          "iopub.status.idle": "2021-06-11T21:29:03.901878Z",
          "shell.execute_reply": "2021-06-11T21:29:03.901458Z",
          "shell.execute_reply.started": "2021-06-11T21:16:02.470288Z"
        },
        "papermill": {
          "duration": 0.038399,
          "end_time": "2021-06-11T21:29:03.901991",
          "exception": false,
          "start_time": "2021-06-11T21:29:03.863592",
          "status": "completed"
        },
        "tags": [],
        "colab": {
          "base_uri": "https://localhost:8080/"
        },
        "id": "ITojK_QVF9M9",
        "outputId": "4d3a0ec3-8917-4a0f-f19d-6ed26971981e"
      },
      "outputs": [
        {
          "output_type": "execute_result",
          "data": {
            "text/plain": [
              "['despair',\n",
              " 'loneliness',\n",
              " 'emotional overflow',\n",
              " 'self blame',\n",
              " 'anxiety',\n",
              " 'distrust / confusion',\n",
              " 'new assault / new exposure',\n",
              " 'level of suicide/ level of risk',\n",
              " 'obligation to report occording law',\n",
              " 'support for support circuls']"
            ]
          },
          "metadata": {},
          "execution_count": 15
        }
      ],
      "source": [
        "target_cols = [col for col in df_train.columns if col not in ['Unnamed: 0', 'conversationId', 'new_classification', 'classification 2', 'transcriptConsumer_en', 'transcriptAll', 'firstConversation', 'transcriptConsumer', 'classification']]\n",
        "target_cols"
      ]
    },
    {
      "cell_type": "code",
      "execution_count": null,
      "metadata": {
        "execution": {
          "iopub.execute_input": "2021-06-11T21:29:03.970360Z",
          "iopub.status.busy": "2021-06-11T21:29:03.969642Z",
          "iopub.status.idle": "2021-06-11T21:29:03.972064Z",
          "shell.execute_reply": "2021-06-11T21:29:03.972485Z",
          "shell.execute_reply.started": "2021-06-11T21:16:02.482242Z"
        },
        "papermill": {
          "duration": 0.040433,
          "end_time": "2021-06-11T21:29:03.972621",
          "exception": false,
          "start_time": "2021-06-11T21:29:03.932188",
          "status": "completed"
        },
        "tags": [],
        "id": "ujKBM1fOF9M9"
      },
      "outputs": [],
      "source": [
        "class BERTDataset(Dataset):\n",
        "    def __init__(self, df, tokenizer, max_len):\n",
        "        self.df = df\n",
        "        self.max_len = max_len\n",
        "        self.text = df['transcriptConsumer_en']\n",
        "        self.tokenizer = tokenizer\n",
        "        self.targets = df[target_cols].values\n",
        "\n",
        "    def __len__(self):\n",
        "        return len(self.df)\n",
        "\n",
        "    def __getitem__(self, index):\n",
        "        text = self.text[index]\n",
        "        inputs = self.tokenizer.encode_plus(\n",
        "            text,\n",
        "            truncation=True,\n",
        "            add_special_tokens=True,\n",
        "            max_length=self.max_len,\n",
        "            padding='max_length',\n",
        "            return_token_type_ids=True\n",
        "        )\n",
        "        ids = inputs['input_ids']\n",
        "        mask = inputs['attention_mask']\n",
        "        token_type_ids = inputs[\"token_type_ids\"]\n",
        "\n",
        "        return {\n",
        "            'ids': torch.tensor(ids, dtype=torch.long),\n",
        "            'mask': torch.tensor(mask, dtype=torch.long),\n",
        "            'token_type_ids': torch.tensor(token_type_ids, dtype=torch.long),\n",
        "            'targets': torch.tensor(self.targets[index], dtype=torch.float)\n",
        "        }"
      ]
    },
    {
      "cell_type": "code",
      "execution_count": null,
      "metadata": {
        "execution": {
          "iopub.execute_input": "2021-06-11T21:29:04.039477Z",
          "iopub.status.busy": "2021-06-11T21:29:04.038789Z",
          "iopub.status.idle": "2021-06-11T21:29:04.041702Z",
          "shell.execute_reply": "2021-06-11T21:29:04.041303Z",
          "shell.execute_reply.started": "2021-06-11T21:16:02.497075Z"
        },
        "papermill": {
          "duration": 0.038889,
          "end_time": "2021-06-11T21:29:04.041812",
          "exception": false,
          "start_time": "2021-06-11T21:29:04.002923",
          "status": "completed"
        },
        "tags": [],
        "id": "nGKzaprfF9M-"
      },
      "outputs": [],
      "source": [
        "train_dataset = BERTDataset(df_train, tokenizer, MAX_LEN)\n",
        "#valid_dataset = BERTDataset(df_dev, tokenizer, MAX_LEN)"
      ]
    },
    {
      "cell_type": "code",
      "execution_count": null,
      "metadata": {
        "execution": {
          "iopub.execute_input": "2021-06-11T21:29:04.107128Z",
          "iopub.status.busy": "2021-06-11T21:29:04.106269Z",
          "iopub.status.idle": "2021-06-11T21:29:04.109641Z",
          "shell.execute_reply": "2021-06-11T21:29:04.108492Z",
          "shell.execute_reply.started": "2021-06-11T21:16:02.517518Z"
        },
        "papermill": {
          "duration": 0.037963,
          "end_time": "2021-06-11T21:29:04.109787",
          "exception": false,
          "start_time": "2021-06-11T21:29:04.071824",
          "status": "completed"
        },
        "tags": [],
        "id": "gZwRqAQiF9M-"
      },
      "outputs": [],
      "source": [
        "train_loader = DataLoader(train_dataset, batch_size=TRAIN_BATCH_SIZE,\n",
        "                          num_workers=4, shuffle=True, pin_memory=True)\n",
        "#valid_loader = DataLoader(valid_dataset, batch_size=VALID_BATCH_SIZE,\n",
        " #                         num_workers=4, shuffle=False, pin_memory=True)"
      ]
    },
    {
      "cell_type": "code",
      "execution_count": null,
      "metadata": {
        "execution": {
          "iopub.execute_input": "2021-06-11T21:29:04.213689Z",
          "iopub.status.busy": "2021-06-11T21:29:04.212831Z",
          "iopub.status.idle": "2021-06-11T21:29:34.755358Z",
          "shell.execute_reply": "2021-06-11T21:29:34.754889Z",
          "shell.execute_reply.started": "2021-06-11T21:16:02.529823Z"
        },
        "papermill": {
          "duration": 30.597708,
          "end_time": "2021-06-11T21:29:34.755506",
          "exception": false,
          "start_time": "2021-06-11T21:29:04.157798",
          "status": "completed"
        },
        "tags": [],
        "colab": {
          "base_uri": "https://localhost:8080/",
          "height": 85,
          "referenced_widgets": [
            "b2858631324f44b9aaa428f4618e5be1",
            "f5fb768cb4244eafb5df89259a35772b",
            "ebb1a8be9c93423c935061ce85c6342b",
            "2864c98721594434bfc12eec3143d91c",
            "f1b54636a6ba4509bb1357b878d6523f",
            "a1d0eb7674ed4fe1a26235ab9827a85f",
            "3317ae95c7324563980288e1873259a3",
            "9cdca627f4324ea89c0cc48edfcbec9e",
            "37445ac4cd304af8bf9d9bfad7791c2f",
            "5dd2d1c618744299abf01e3eaf06989b",
            "634393890f3740448aa95b0b78f765a8"
          ]
        },
        "id": "E-KeMsGQF9M-",
        "outputId": "d457d750-1cea-453a-c71e-2fd938eca55b"
      },
      "outputs": [
        {
          "output_type": "display_data",
          "data": {
            "text/plain": [
              "model.safetensors:   0%|          | 0.00/499M [00:00<?, ?B/s]"
            ],
            "application/vnd.jupyter.widget-view+json": {
              "version_major": 2,
              "version_minor": 0,
              "model_id": "b2858631324f44b9aaa428f4618e5be1"
            }
          },
          "metadata": {}
        },
        {
          "output_type": "stream",
          "name": "stderr",
          "text": [
            "Some weights of RobertaModel were not initialized from the model checkpoint at roberta-base and are newly initialized: ['roberta.pooler.dense.bias', 'roberta.pooler.dense.weight']\n",
            "You should probably TRAIN this model on a down-stream task to be able to use it for predictions and inference.\n"
          ]
        }
      ],
      "source": [
        "# Creating the customized model, by adding a drop out and a dense layer on top of distil bert to get the final output for the model.\n",
        "\n",
        "class BERTClass(torch.nn.Module):\n",
        "    def __init__(self):\n",
        "        super(BERTClass, self).__init__()\n",
        "        self.roberta = AutoModel.from_pretrained('roberta-base')\n",
        "#         self.l2 = torch.nn.Dropout(0.3)\n",
        "        self.fc = torch.nn.Linear(768,5)\n",
        "\n",
        "    def forward(self, ids, mask, token_type_ids):\n",
        "        _, features = self.roberta(ids, attention_mask = mask, token_type_ids = token_type_ids, return_dict=False)\n",
        "#         output_2 = self.l2(output_1)\n",
        "        output = self.fc(features)\n",
        "        return output\n",
        "\n",
        "model = BERTClass()\n",
        "model.to(device);"
      ]
    },
    {
      "cell_type": "code",
      "execution_count": null,
      "metadata": {
        "execution": {
          "iopub.execute_input": "2021-06-11T21:29:34.822035Z",
          "iopub.status.busy": "2021-06-11T21:29:34.821247Z",
          "iopub.status.idle": "2021-06-11T21:29:34.824023Z",
          "shell.execute_reply": "2021-06-11T21:29:34.823616Z",
          "shell.execute_reply.started": "2021-06-11T21:16:29.734879Z"
        },
        "papermill": {
          "duration": 0.037499,
          "end_time": "2021-06-11T21:29:34.824140",
          "exception": false,
          "start_time": "2021-06-11T21:29:34.786641",
          "status": "completed"
        },
        "tags": [],
        "id": "nwZ9Bq4pF9M-"
      },
      "outputs": [],
      "source": [
        "def loss_fn(outputs, targets):\n",
        "    return torch.nn.BCEWithLogitsLoss()(outputs, targets)"
      ]
    },
    {
      "cell_type": "code",
      "execution_count": null,
      "metadata": {
        "execution": {
          "iopub.execute_input": "2021-06-11T21:29:34.893041Z",
          "iopub.status.busy": "2021-06-11T21:29:34.892281Z",
          "iopub.status.idle": "2021-06-11T21:29:34.895452Z",
          "shell.execute_reply": "2021-06-11T21:29:34.895036Z",
          "shell.execute_reply.started": "2021-06-11T21:16:29.758386Z"
        },
        "papermill": {
          "duration": 0.040684,
          "end_time": "2021-06-11T21:29:34.895572",
          "exception": false,
          "start_time": "2021-06-11T21:29:34.854888",
          "status": "completed"
        },
        "tags": [],
        "id": "_0cl8ouIF9M_"
      },
      "outputs": [],
      "source": [
        "optimizer = AdamW(params =  model.parameters(), lr=LEARNING_RATE, weight_decay=1e-6)"
      ]
    },
    {
      "cell_type": "code",
      "execution_count": null,
      "metadata": {
        "execution": {
          "iopub.execute_input": "2021-06-11T21:29:34.964971Z",
          "iopub.status.busy": "2021-06-11T21:29:34.964177Z",
          "iopub.status.idle": "2021-06-11T21:29:34.967044Z",
          "shell.execute_reply": "2021-06-11T21:29:34.966645Z",
          "shell.execute_reply.started": "2021-06-11T21:16:29.783347Z"
        },
        "papermill": {
          "duration": 0.040297,
          "end_time": "2021-06-11T21:29:34.967157",
          "exception": false,
          "start_time": "2021-06-11T21:29:34.926860",
          "status": "completed"
        },
        "tags": [],
        "id": "A3iOLoa5F9NA"
      },
      "outputs": [],
      "source": [
        "def train(epoch):\n",
        "    model.train()\n",
        "    for _,data in enumerate(train_loader, 0):\n",
        "        ids = data['ids'].to(device, dtype = torch.long)\n",
        "        mask = data['mask'].to(device, dtype = torch.long)\n",
        "        token_type_ids = data['token_type_ids'].to(device, dtype = torch.long)\n",
        "        targets = data['targets'].to(device, dtype = torch.float)\n",
        "\n",
        "        outputs = model(ids, mask, token_type_ids)\n",
        "\n",
        "        loss = loss_fn(outputs, targets)\n",
        "        if _%500 == 0:\n",
        "            print(f'Epoch: {epoch}, Loss:  {loss.item()}')\n",
        "\n",
        "        loss.backward()\n",
        "        optimizer.step()\n",
        "        optimizer.zero_grad()"
      ]
    },
    {
      "cell_type": "code",
      "execution_count": null,
      "metadata": {
        "execution": {
          "iopub.execute_input": "2021-06-11T21:29:35.034748Z",
          "iopub.status.busy": "2021-06-11T21:29:35.034127Z",
          "iopub.status.idle": "2021-06-11T22:55:55.458732Z",
          "shell.execute_reply": "2021-06-11T22:55:55.456890Z",
          "shell.execute_reply.started": "2021-06-11T21:16:29.807005Z"
        },
        "papermill": {
          "duration": 5180.461011,
          "end_time": "2021-06-11T22:55:55.458904",
          "exception": false,
          "start_time": "2021-06-11T21:29:34.997893",
          "status": "completed"
        },
        "tags": [],
        "id": "l-qOqGOKF9NA"
      },
      "outputs": [],
      "source": [
        "for epoch in range(EPOCHS):\n",
        "    train(epoch)"
      ]
    },
    {
      "cell_type": "code",
      "execution_count": null,
      "metadata": {
        "execution": {
          "iopub.execute_input": "2021-06-11T22:55:55.537606Z",
          "iopub.status.busy": "2021-06-11T22:55:55.536753Z",
          "iopub.status.idle": "2021-06-11T22:55:55.539488Z",
          "shell.execute_reply": "2021-06-11T22:55:55.539049Z"
        },
        "papermill": {
          "duration": 0.045056,
          "end_time": "2021-06-11T22:55:55.539608",
          "exception": false,
          "start_time": "2021-06-11T22:55:55.494552",
          "status": "completed"
        },
        "tags": [],
        "id": "_HsJHHz1F9NA"
      },
      "outputs": [],
      "source": [
        "def validation():\n",
        "    model.eval()\n",
        "    fin_targets=[]\n",
        "    fin_outputs=[]\n",
        "    with torch.no_grad():\n",
        "        for _, data in enumerate(valid_loader, 0):\n",
        "            ids = data['ids'].to(device, dtype = torch.long)\n",
        "            mask = data['mask'].to(device, dtype = torch.long)\n",
        "            token_type_ids = data['token_type_ids'].to(device, dtype = torch.long)\n",
        "            targets = data['targets'].to(device, dtype = torch.float)\n",
        "            outputs = model(ids, mask, token_type_ids)\n",
        "            fin_targets.extend(targets.cpu().detach().numpy().tolist())\n",
        "            fin_outputs.extend(torch.sigmoid(outputs).cpu().detach().numpy().tolist())\n",
        "    return fin_outputs, fin_targets"
      ]
    },
    {
      "cell_type": "code",
      "execution_count": null,
      "metadata": {
        "execution": {
          "iopub.execute_input": "2021-06-11T22:55:55.614823Z",
          "iopub.status.busy": "2021-06-11T22:55:55.613934Z",
          "iopub.status.idle": "2021-06-11T22:56:17.386070Z",
          "shell.execute_reply": "2021-06-11T22:56:17.384740Z"
        },
        "papermill": {
          "duration": 21.811836,
          "end_time": "2021-06-11T22:56:17.386222",
          "exception": false,
          "start_time": "2021-06-11T22:55:55.574386",
          "status": "completed"
        },
        "tags": [],
        "id": "HDYePxV3F9NA",
        "outputId": "b66d5f95-3ad9-49d2-8337-d8c406b1e9fa"
      },
      "outputs": [
        {
          "name": "stdout",
          "output_type": "stream",
          "text": [
            "Accuracy Score = 0.7539281705948373\n",
            "F1 Score (Micro) = 0.825405055087492\n",
            "F1 Score (Macro) = 0.7490829466850484\n"
          ]
        }
      ],
      "source": [
        "outputs, targets = validation()\n",
        "outputs = np.array(outputs) >= 0.5\n",
        "accuracy = metrics.accuracy_score(targets, outputs)\n",
        "f1_score_micro = metrics.f1_score(targets, outputs, average='micro')\n",
        "f1_score_macro = metrics.f1_score(targets, outputs, average='macro')\n",
        "print(f\"Accuracy Score = {accuracy}\")\n",
        "print(f\"F1 Score (Micro) = {f1_score_micro}\")\n",
        "print(f\"F1 Score (Macro) = {f1_score_macro}\")"
      ]
    },
    {
      "cell_type": "code",
      "execution_count": null,
      "metadata": {
        "execution": {
          "iopub.execute_input": "2021-06-11T22:56:17.462139Z",
          "iopub.status.busy": "2021-06-11T22:56:17.461345Z",
          "iopub.status.idle": "2021-06-11T22:56:19.174725Z",
          "shell.execute_reply": "2021-06-11T22:56:19.173956Z"
        },
        "papermill": {
          "duration": 1.75423,
          "end_time": "2021-06-11T22:56:19.174876",
          "exception": false,
          "start_time": "2021-06-11T22:56:17.420646",
          "status": "completed"
        },
        "tags": [],
        "id": "LhoK_udnF9NA"
      },
      "outputs": [],
      "source": [
        "torch.save(model.state_dict(), 'model.bin')"
      ]
    },
    {
      "cell_type": "code",
      "execution_count": null,
      "metadata": {
        "execution": {
          "iopub.execute_input": "2021-06-11T22:56:19.247957Z",
          "iopub.status.busy": "2021-06-11T22:56:19.247427Z",
          "iopub.status.idle": "2021-06-11T22:56:19.251223Z",
          "shell.execute_reply": "2021-06-11T22:56:19.250779Z"
        },
        "papermill": {
          "duration": 0.041352,
          "end_time": "2021-06-11T22:56:19.251350",
          "exception": false,
          "start_time": "2021-06-11T22:56:19.209998",
          "status": "completed"
        },
        "tags": [],
        "id": "93tjP7wqF9NA"
      },
      "outputs": [],
      "source": [
        "from transformers import AutoConfig, AutoModel\n",
        "import torch\n"
      ]
    },
    {
      "cell_type": "code",
      "execution_count": null,
      "metadata": {
        "execution": {
          "iopub.execute_input": "2021-06-11T22:56:19.323111Z",
          "iopub.status.busy": "2021-06-11T22:56:19.322360Z",
          "iopub.status.idle": "2021-06-11T22:56:19.325260Z",
          "shell.execute_reply": "2021-06-11T22:56:19.324836Z"
        },
        "papermill": {
          "duration": 0.040399,
          "end_time": "2021-06-11T22:56:19.325386",
          "exception": false,
          "start_time": "2021-06-11T22:56:19.284987",
          "status": "completed"
        },
        "tags": [],
        "colab": {
          "base_uri": "https://localhost:8080/",
          "height": 158,
          "referenced_widgets": [
            "0db0e8e9ee87488bb7d1ffdccf337059",
            "30b96f1216a34ee7b29dd9837d0445c0",
            "71c729675e8841a8a33bb38d683da3b3",
            "62bb295e9d8941be8bb22e7b9f74c22e",
            "3b3ef01adf824aadb4cac3a1ab185949",
            "7aa538acfbc740ff9e9d5ae35266cb2f",
            "c907071b1f5d406a9734669600af7069",
            "4ce4e2488ae3460a9d457cb93dfe9772",
            "0a1a32436d8a410c9af01249c6fc7938",
            "b6d29554d22c4e48ab58457e77963693",
            "0250b6f8ad53462d8f64121f181c3a42"
          ]
        },
        "id": "OfMuxs8jF9NA",
        "outputId": "59a0672e-51a2-45bc-cd75-1f2db3d8bdff"
      },
      "outputs": [
        {
          "output_type": "stream",
          "name": "stderr",
          "text": [
            "/usr/local/lib/python3.10/dist-packages/huggingface_hub/utils/_token.py:89: UserWarning: \n",
            "The secret `HF_TOKEN` does not exist in your Colab secrets.\n",
            "To authenticate with the Hugging Face Hub, create a token in your settings tab (https://huggingface.co/settings/tokens), set it as secret in your Google Colab and restart your session.\n",
            "You will be able to reuse this secret in all of your notebooks.\n",
            "Please note that authentication is recommended but still optional to access public models or datasets.\n",
            "  warnings.warn(\n"
          ]
        },
        {
          "output_type": "display_data",
          "data": {
            "text/plain": [
              "config.json:   0%|          | 0.00/570 [00:00<?, ?B/s]"
            ],
            "application/vnd.jupyter.widget-view+json": {
              "version_major": 2,
              "version_minor": 0,
              "model_id": "0db0e8e9ee87488bb7d1ffdccf337059"
            }
          },
          "metadata": {}
        }
      ],
      "source": [
        "config = AutoConfig.from_pretrained('bert-base-uncased')\n",
        "model =  AutoModel.from_config(config)"
      ]
    },
    {
      "cell_type": "code",
      "execution_count": null,
      "metadata": {
        "execution": {
          "iopub.execute_input": "2021-06-11T22:56:19.400879Z",
          "iopub.status.busy": "2021-06-11T22:56:19.400120Z",
          "iopub.status.idle": "2021-06-11T22:56:19.403066Z",
          "shell.execute_reply": "2021-06-11T22:56:19.402515Z"
        },
        "papermill": {
          "duration": 0.042212,
          "end_time": "2021-06-11T22:56:19.403191",
          "exception": false,
          "start_time": "2021-06-11T22:56:19.360979",
          "status": "completed"
        },
        "tags": [],
        "colab": {
          "base_uri": "https://localhost:8080/",
          "height": 639
        },
        "id": "7FYwieMvF9NB",
        "outputId": "f395d375-d506-41b3-c03f-41dfbd4b0de2"
      },
      "outputs": [
        {
          "output_type": "stream",
          "name": "stdout",
          "text": [
            "Mounted at /content/drive\n"
          ]
        },
        {
          "output_type": "error",
          "ename": "RuntimeError",
          "evalue": "Error(s) in loading state_dict for BertModel:\n\tMissing key(s) in state_dict: \"embeddings.word_embeddings.weight\", \"embeddings.position_embeddings.weight\", \"embeddings.token_type_embeddings.weight\", \"embeddings.LayerNorm.weight\", \"embeddings.LayerNorm.bias\", \"encoder.layer.0.attention.self.query.weight\", \"encoder.layer.0.attention.self.query.bias\", \"encoder.layer.0.attention.self.key.weight\", \"encoder.layer.0.attention.self.key.bias\", \"encoder.layer.0.attention.self.value.weight\", \"encoder.layer.0.attention.self.value.bias\", \"encoder.layer.0.attention.output.dense.weight\", \"encoder.layer.0.attention.output.dense.bias\", \"encoder.layer.0.attention.output.LayerNorm.weight\", \"encoder.layer.0.attention.output.LayerNorm.bias\", \"encoder.layer.0.intermediate.dense.weight\", \"encoder.layer.0.intermediate.dense.bias\", \"encoder.layer.0.output.dense.weight\", \"encoder.layer.0.output.dense.bias\", \"encoder.layer.0.output.LayerNorm.weight\", \"encoder.layer.0.output.LayerNorm.bias\", \"encoder.layer.1.attention.self.query.weight\", \"encoder.layer.1.attention.self.query.bias\", \"encoder.layer.1.attention.self.key.weight\", \"encoder.layer.1.attention.self.key.bias\", \"encoder.layer.1.attention.self.value.weight\", \"encoder.layer.1.attention.self.value.bias\", \"encoder.layer.1.attention.output.dense.weight\", \"encoder.layer.1.attention.output.dense.bias\", \"encoder.layer.1.attention.output.LayerNorm.weight\", \"encoder.layer.1.attention.output.LayerNorm.bias\", \"encoder.layer.1.intermediate.dense.weight\", \"encoder.layer.1.intermediate.dense.bias\", \"encoder.layer.1.output.dense.weight\", \"encoder.layer.1.output.dense.bias\", \"encoder.layer.1.output.LayerNorm.weight\", \"encoder.layer.1.output.LayerNorm.bias\", \"encoder.layer.2.attention.self.query.weight\", \"encoder.layer.2.attention.self.query.bias\", \"encoder.layer.2.attention.self.key.weight\", \"encoder.layer.2.attention.self.key.bias\", \"encoder.layer.2.attention.self.value.weight\", \"encoder.layer.2.attention.self.value.bias\", \"encoder.layer.2.attention.output.dense.weight\", \"encoder.layer.2.attention.output.dense.bias\", \"encoder.layer.2.attention.output.LayerNorm.weight\", \"encoder.layer.2.attention.output.LayerNorm.bias\", \"encoder.layer.2.intermediate.dense.weight\", \"encoder.layer.2.intermediate.dense.bias\", \"encoder.layer.2.output.dense.weight\", \"encoder.layer.2.output.dense.bias\", \"encoder.layer.2.output.LayerNorm.weight\", \"encoder.layer.2.output.LayerNorm.bias\", \"encoder.layer.3.attention.self.query.weight\", \"encoder.layer.3.attention.self.query.bias\", \"encoder.layer.3.attention.self.key.weight\", \"encoder.layer.3.attention.self.key.bias\", \"encoder.layer.3.attention.self.value.weight\", \"encoder.layer.3.attention.self.value.bias\", \"encoder.layer.3.attention.output.dense.weight\", \"encoder.layer.3.attention.output.dense.bias\", \"encoder.layer.3.attention.output.LayerNorm.weight\", \"encoder.layer.3.attention.output.LayerNorm.bias\", \"encoder.layer.3.intermediate.dense.weight\", \"encoder.layer.3.intermediate.dense.bias\", \"encoder.layer.3.output.dense.weight\", \"encoder.layer.3.output.dense.bias\", \"encoder.layer.3.output.LayerNorm.weight\", \"encoder.layer.3.output.LayerNorm.bias\", \"encoder.layer.4.attention.self.query.weight\", \"encoder.layer.4.attention.self.query.bias\", \"encoder.layer.4.attention.self.key.weight\", \"encoder.layer.4.attention.self.key.bias\", \"encoder.layer.4.attention.self.value.weight\", \"encoder.layer.4.attention.self.value.bias\", \"encoder.layer.4.attention.output.dense.weight\", \"encoder.layer.4.attention.output.dense.bias\", \"encoder.layer.4.attention.output.LayerNorm.weight\", \"encoder.layer.4.attention.output.LayerNorm.bias\", \"encoder.layer.4.intermediate.dense.weight\", \"encoder.layer.4.intermediate.dense.bias\", \"encoder.layer.4.output.dense.weight\", \"encoder.layer.4.output.dense.bias\", \"encoder.layer.4.output.LayerNorm.weight\", \"encoder.layer.4.output.LayerNorm.bias\", \"encoder.layer.5.attention.self.query.weight\", \"encoder.layer.5.attention.self.query.bias\", \"encoder.layer.5.attention.self.key.weight\", \"encoder.layer.5.attention.self.key.bias\", \"encoder.layer.5.attention.self.value.weight\", \"encoder.layer.5.attention.self.value.bias\", \"encoder.layer.5.attention.output.dense.weight\", \"encoder.layer.5.attention.output.dense.bias\", \"encoder.layer.5.attention.output.LayerNorm.weight\", \"encoder.layer.5.attention.output.LayerNorm.bias\", \"encoder.layer.5.intermediate.dense.weight\", \"encoder.layer.5.intermediate.dense.bias\", \"encoder.layer.5.output.dense.weight\", \"encoder.layer.5.output.dense.bias\", \"encoder.layer.5.output.LayerNorm.weight\", \"encoder.layer.5.output.LayerNorm.bias\", \"encoder.layer.6.attention.self.query.weight\", \"encoder.layer.6.attention.self.query.bias\", \"encoder.layer.6.attention.self.key.weight\", \"encoder.layer.6.attention.self.key.bias\", \"encoder.layer.6.attention.self.value.weight\", \"encoder.layer.6.attention.self.value.bias\", \"encoder.layer.6.attention.output.dense.weight\", \"encoder.layer.6.attention.output.dense.bias\", \"encoder.layer.6.attention.output.LayerNorm.weight\", \"encoder.layer.6.attention.output.LayerNorm.bias\", \"encoder.layer.6.intermediate.dense.weight\", \"encoder.layer.6.intermediate.dense.bias\", \"encoder.layer.6.output.dense.weight\", \"encoder.layer.6.output.dense.bias\", \"encoder.layer.6.output.LayerNorm.weight\", \"encoder.layer.6.output.LayerNorm.bias\", \"encoder.layer.7.attention.self.query.weight\", \"encoder.layer.7.attention.self.query.bias\", \"encoder.layer.7.attention.self.key.weight\", \"encoder.layer.7.attention.self.key.bias\", \"encoder.layer.7.attention.self.value.weight\", \"encoder.layer.7.attention.self.value.bias\", \"encoder.layer.7.attention.output.dense.weight\", \"encoder.layer.7.attention.output.dense.bias\", \"encoder.layer.7.attention.output.LayerNorm.weight\", \"encoder.layer.7.attention.output.LayerNorm.bias\", \"encoder.layer.7.intermediate.dense.weight\", \"encoder.layer.7.intermediate.dense.bias\", \"encoder.layer.7.output.dense.weight\", \"encoder.layer.7.output.dense.bias\", \"encoder.layer.7.output.LayerNorm.weight\", \"encoder.layer.7.output.LayerNorm.bias\", \"encoder.layer.8.attention.self.query.weight\", \"encoder.layer.8.attention.self.query.bias\", \"encoder.layer.8.attention.self.key.weight\", \"encoder.layer.8.attention.self.key.bias\", \"encoder.layer.8.attention.self.value.weight\", \"encoder.layer.8.attention.self.value.bias\", \"encoder.layer.8.attention.output.dense.weight\", \"encoder.layer.8.attention.output.dense.bias\", \"encoder.layer.8.attention.output.LayerNorm.weight\", \"encoder.layer.8.attention.output.LayerNorm.bias\", \"encoder.layer.8.intermediate.dense.weight\", \"encoder.layer.8.intermediate.dense.bias\", \"encoder.layer.8.output.dense.weight\", \"encoder.layer.8.output.dense.bias\", \"encoder.layer.8.output.LayerNorm.weight\", \"encoder.layer.8.output.LayerNorm.bias\", \"encoder.layer.9.attention.self.query.weight\", \"encoder.layer.9.attention.self.query.bias\", \"encoder.layer.9.attention.self.key.weight\", \"encoder.layer.9.attention.self.key.bias\", \"encoder.layer.9.attention.self.value.weight\", \"encoder.layer.9.attention.self.value.bias\", \"encoder.layer.9.attention.output.dense.weight\", \"encoder.layer.9.attention.output.dense.bias\", \"encoder.layer.9.attention.output.LayerNorm.weight\", \"encoder.layer.9.attention.output.LayerNorm.bias\", \"encoder.layer.9.intermediate.dense.weight\", \"encoder.layer.9.intermediate.dense.bias\", \"encoder.layer.9.output.dense.weight\", \"encoder.layer.9.output.dense.bias\", \"encoder.layer.9.output.LayerNorm.weight\", \"encoder.layer.9.output.LayerNorm.bias\", \"encoder.layer.10.attention.self.query.weight\", \"encoder.layer.10.attention.self.query.bias\", \"encoder.layer.10.attention.self.key.weight\", \"encoder.layer.10.attention.self.key.bias\", \"encoder.layer.10.attention.self.value.weight\", \"encoder.layer.10.attention.self.value.bias\", \"encoder.layer.10.attention.output.dense.weight\", \"encoder.layer.10.attention.output.dense.bias\", \"encoder.layer.10.attention.output.LayerNorm.weight\", \"encoder.layer.10.attention.output.LayerNorm.bias\", \"encoder.layer.10.intermediate.dense.weight\", \"encoder.layer.10.intermediate.dense.bias\", \"encoder.layer.10.output.dense.weight\", \"encoder.layer.10.output.dense.bias\", \"encoder.layer.10.output.LayerNorm.weight\", \"encoder.layer.10.output.LayerNorm.bias\", \"encoder.layer.11.attention.self.query.weight\", \"encoder.layer.11.attention.self.query.bias\", \"encoder.layer.11.attention.self.key.weight\", \"encoder.layer.11.attention.self.key.bias\", \"encoder.layer.11.attention.self.value.weight\", \"encoder.layer.11.attention.self.value.bias\", \"encoder.layer.11.attention.output.dense.weight\", \"encoder.layer.11.attention.output.dense.bias\", \"encoder.layer.11.attention.output.LayerNorm.weight\", \"encoder.layer.11.attention.output.LayerNorm.bias\", \"encoder.layer.11.intermediate.dense.weight\", \"encoder.layer.11.intermediate.dense.bias\", \"encoder.layer.11.output.dense.weight\", \"encoder.layer.11.output.dense.bias\", \"encoder.layer.11.output.LayerNorm.weight\", \"encoder.layer.11.output.LayerNorm.bias\", \"pooler.dense.weight\", \"pooler.dense.bias\". \n\tUnexpected key(s) in state_dict: \"roberta.embeddings.position_ids\", \"roberta.embeddings.word_embeddings.weight\", \"roberta.embeddings.position_embeddings.weight\", \"roberta.embeddings.token_type_embeddings.weight\", \"roberta.embeddings.LayerNorm.weight\", \"roberta.embeddings.LayerNorm.bias\", \"roberta.encoder.layer.0.attention.self.query.weight\", \"roberta.encoder.layer.0.attention.self.query.bias\", \"roberta.encoder.layer.0.attention.self.key.weight\", \"roberta.encoder.layer.0.attention.self.key.bias\", \"roberta.encoder.layer.0.attention.self.value.weight\", \"roberta.encoder.layer.0.attention.self.value.bias\", \"roberta.encoder.layer.0.attention.output.dense.weight\", \"roberta.encoder.layer.0.attention.output.dense.bias\", \"roberta.encoder.layer.0.attention.output.LayerNorm.weight\", \"roberta.encoder.layer.0.attention.output.LayerNorm.bias\", \"roberta.encoder.layer.0.intermediate.dense.weight\", \"roberta.encoder.layer.0.intermediate.dense.bias\", \"roberta.encoder.layer.0.output.dense.weight\", \"roberta.encoder.layer.0.output.dense.bias\", \"roberta.encoder.layer.0.output.LayerNorm.weight\", \"roberta.encoder.layer.0.output.LayerNorm.bias\", \"roberta.encoder.layer.1.attention.self.query.weight\", \"roberta.encoder.layer.1.attention.self.query.bias\", \"roberta.encoder.layer.1.attention.self.key.weight\", \"roberta.encoder.layer.1.attention.self.key.bias\", \"roberta.encoder.layer.1.attention.self.value.weight\", \"roberta.encoder.layer.1.attention.self.value.bias\", \"roberta.encoder.layer.1.attention.output.dense.weight\", \"roberta.encoder.layer.1.attention.output.dense.bias\", \"roberta.encoder.layer.1.attention.output.LayerNorm.weight\", \"roberta.encoder.layer.1.attention.output.LayerNorm.bias\", \"roberta.encoder.layer.1.intermediate.dense.weight\", \"roberta.encoder.layer.1.intermediate.dense.bias\", \"roberta.encoder.layer.1.output.dense.weight\", \"roberta.encoder.layer.1.output.dense.bias\", \"roberta.encoder.layer.1.output.LayerNorm.weight\", \"roberta.encoder.layer.1.output.LayerNorm.bias\", \"roberta.encoder.layer.2.attention.self.query.weight\", \"roberta.encoder.layer.2.attention.self.query.bias\", \"roberta.encoder.layer.2.attention.self.key.weight\", \"roberta.encoder.layer.2.attention.self.key.bias\", \"roberta.encoder.layer.2.attention.self.value.weight\", \"roberta.encoder.layer.2.attention.self.value.bias\", \"roberta.encoder.layer.2.attention.output.dense.weight\", \"roberta.encoder.layer.2.attention.output.dense.bias\", \"roberta.encoder.layer.2.attention.output.LayerNorm.weight\", \"roberta.encoder.layer.2.attention.output.LayerNorm.bias\", \"roberta.encoder.layer.2.intermediate.dense.weight\", \"roberta.encoder.layer.2.intermediate.dense.bias\", \"roberta.encoder.layer.2.output.dense.weight\", \"roberta.encoder.layer.2.output.dense.bias\", \"roberta.encoder.layer.2.output.LayerNorm.weight\", \"roberta.encoder.layer.2.output.LayerNorm.bias\", \"roberta.encoder.layer.3.attention.self.query.weight\", \"roberta.encoder.layer.3.attention.self.query.bias\", \"roberta.encoder.layer.3.attention.self.key.weight\", \"roberta.encoder.layer.3.attention.self.key.bias\", \"roberta.encoder.layer.3.attention.self.value.weight\", \"roberta.encoder.layer.3.attention.self.value.bias\", \"roberta.encoder.layer.3.attention.output.dense.weight\", \"roberta.encoder.layer.3.attention.output.dense.bias\", \"roberta.encoder.layer.3.attention.output.LayerNorm.weight\", \"roberta.encoder.layer.3.attention.output.LayerNorm.bias\", \"roberta.encoder.layer.3.intermediate.dense.weight\", \"roberta.encoder.layer.3.intermediate.dense.bias\", \"roberta.encoder.layer.3.output.dense.weight\", \"roberta.encoder.layer.3.output.dense.bias\", \"roberta.encoder.layer.3.output.LayerNorm.weight\", \"roberta.encoder.layer.3.output.LayerNorm.bias\", \"roberta.encoder.layer.4.attention.self.query.weight\", \"roberta.encoder.layer.4.attention.self.query.bias\", \"roberta.encoder.layer.4.attention.self.key.weight\", \"roberta.encoder.layer.4.attention.self.key.bias\", \"roberta.encoder.layer.4.attention.self.value.weight\", \"roberta.encoder.layer.4.attention.self.value.bias\", \"roberta.encoder.layer.4.attention.output.dense.weight\", \"roberta.encoder.layer.4.attention.output.dense.bias\", \"roberta.encoder.layer.4.attention.output.LayerNorm.weight\", \"roberta.encoder.layer.4.attention.output.LayerNorm.bias\", \"roberta.encoder.layer.4.intermediate.dense.weight\", \"roberta.encoder.layer.4.intermediate.dense.bias\", \"roberta.encoder.layer.4.output.dense.weight\", \"roberta.encoder.layer.4.output.dense.bias\", \"roberta.encoder.layer.4.output.LayerNorm.weight\", \"roberta.encoder.layer.4.output.LayerNorm.bias\", \"roberta.encoder.layer.5.attention.self.query.weight\", \"roberta.encoder.layer.5.attention.self.query.bias\", \"roberta.encoder.layer.5.attention.self.key.weight\", \"roberta.encoder.layer.5.attention.self.key.bias\", \"roberta.encoder.layer.5.attention.self.value.weight\", \"roberta.encoder.layer.5.attention.self.value.bias\", \"roberta.encoder.layer.5.attention.output.dense.weight\", \"roberta.encoder.layer.5.attention.output.dense.bias\", \"roberta.encoder.layer.5.attention.output.LayerNorm.weight\", \"roberta.encoder.layer.5.attention.output.LayerNorm.bias\", \"roberta.encoder.layer.5.intermediate.dense.weight\", \"roberta.encoder.layer.5.intermediate.dense.bias\", \"roberta.encoder.layer.5.output.dense.weight\", \"roberta.encoder.layer.5.output.dense.bias\", \"roberta.encoder.layer.5.output.LayerNorm.weight\", \"roberta.encoder.layer.5.output.LayerNorm.bias\", \"roberta.encoder.layer.6.attention.self.query.weight\", \"roberta.encoder.layer.6.attention.self.query.bias\", \"roberta.encoder.layer.6.attention.self.key.weight\", \"roberta.encoder.layer.6.attention.self.key.bias\", \"roberta.encoder.layer.6.attention.self.value.weight\", \"roberta.encoder.layer.6.attention.self.value.bias\", \"roberta.encoder.layer.6.attention.output.dense.weight\", \"roberta.encoder.layer.6.attention.output.dense.bias\", \"roberta.encoder.layer.6.attention.output.LayerNorm.weight\", \"roberta.encoder.layer.6.attention.output.LayerNorm.bias\", \"roberta.encoder.layer.6.intermediate.dense.weight\", \"roberta.encoder.layer.6.intermediate.dense.bias\", \"roberta.encoder.layer.6.output.dense.weight\", \"roberta.encoder.layer.6.output.dense.bias\", \"roberta.encoder.layer.6.output.LayerNorm.weight\", \"roberta.encoder.layer.6.output.LayerNorm.bias\", \"roberta.encoder.layer.7.attention.self.query.weight\", \"roberta.encoder.layer.7.attention.self.query.bias\", \"roberta.encoder.layer.7.attention.self.key.weight\", \"roberta.encoder.layer.7.attention.self.key.bias\", \"roberta.encoder.layer.7.attention.self.value.weight\", \"roberta.encoder.layer.7.attention.self.value.bias\", \"roberta.encoder.layer.7.attention.output.dense.weight\", \"roberta.encoder.layer.7.attention.output.dense.bias\", \"roberta.encoder.layer.7.attention.output.LayerNorm.weight\", \"roberta.encoder.layer.7.attention.output.LayerNorm.bias\", \"roberta.encoder.layer.7.intermediate.dense.weight\", \"roberta.encoder.layer.7.intermediate.dense.bias\", \"roberta.encoder.layer.7.output.dense.weight\", \"roberta.encoder.layer.7.output.dense.bias\", \"roberta.encoder.layer.7.output.LayerNorm.weight\", \"roberta.encoder.layer.7.output.LayerNorm.bias\", \"roberta.encoder.layer.8.attention.self.query.weight\", \"roberta.encoder.layer.8.attention.self.query.bias\", \"roberta.encoder.layer.8.attention.self.key.weight\", \"roberta.encoder.layer.8.attention.self.key.bias\", \"roberta.encoder.layer.8.attention.self.value.weight\", \"roberta.encoder.layer.8.attention.self.value.bias\", \"roberta.encoder.layer.8.attention.output.dense.weight\", \"roberta.encoder.layer.8.attention.output.dense.bias\", \"roberta.encoder.layer.8.attention.output.LayerNorm.weight\", \"roberta.encoder.layer.8.attention.output.LayerNorm.bias\", \"roberta.encoder.layer.8.intermediate.dense.weight\", \"roberta.encoder.layer.8.intermediate.dense.bias\", \"roberta.encoder.layer.8.output.dense.weight\", \"roberta.encoder.layer.8.output.dense.bias\", \"roberta.encoder.layer.8.output.LayerNorm.weight\", \"roberta.encoder.layer.8.output.LayerNorm.bias\", \"roberta.encoder.layer.9.attention.self.query.weight\", \"roberta.encoder.layer.9.attention.self.query.bias\", \"roberta.encoder.layer.9.attention.self.key.weight\", \"roberta.encoder.layer.9.attention.self.key.bias\", \"roberta.encoder.layer.9.attention.self.value.weight\", \"roberta.encoder.layer.9.attention.self.value.bias\", \"roberta.encoder.layer.9.attention.output.dense.weight\", \"roberta.encoder.layer.9.attention.output.dense.bias\", \"roberta.encoder.layer.9.attention.output.LayerNorm.weight\", \"roberta.encoder.layer.9.attention.output.LayerNorm.bias\", \"roberta.encoder.layer.9.intermediate.dense.weight\", \"roberta.encoder.layer.9.intermediate.dense.bias\", \"roberta.encoder.layer.9.output.dense.weight\", \"roberta.encoder.layer.9.output.dense.bias\", \"roberta.encoder.layer.9.output.LayerNorm.weight\", \"roberta.encoder.layer.9.output.LayerNorm.bias\", \"roberta.encoder.layer.10.attention.self.query.weight\", \"roberta.encoder.layer.10.attention.self.query.bias\", \"roberta.encoder.layer.10.attention.self.key.weight\", \"roberta.encoder.layer.10.attention.self.key.bias\", \"roberta.encoder.layer.10.attention.self.value.weight\", \"roberta.encoder.layer.10.attention.self.value.bias\", \"roberta.encoder.layer.10.attention.output.dense.weight\", \"roberta.encoder.layer.10.attention.output.dense.bias\", \"roberta.encoder.layer.10.attention.output.LayerNorm.weight\", \"roberta.encoder.layer.10.attention.output.LayerNorm.bias\", \"roberta.encoder.layer.10.intermediate.dense.weight\", \"roberta.encoder.layer.10.intermediate.dense.bias\", \"roberta.encoder.layer.10.output.dense.weight\", \"roberta.encoder.layer.10.output.dense.bias\", \"roberta.encoder.layer.10.output.LayerNorm.weight\", \"roberta.encoder.layer.10.output.LayerNorm.bias\", \"roberta.encoder.layer.11.attention.self.query.weight\", \"roberta.encoder.layer.11.attention.self.query.bias\", \"roberta.encoder.layer.11.attention.self.key.weight\", \"roberta.encoder.layer.11.attention.self.key.bias\", \"roberta.encoder.layer.11.attention.self.value.weight\", \"roberta.encoder.layer.11.attention.self.value.bias\", \"roberta.encoder.layer.11.attention.output.dense.weight\", \"roberta.encoder.layer.11.attention.output.dense.bias\", \"roberta.encoder.layer.11.attention.output.LayerNorm.weight\", \"roberta.encoder.layer.11.attention.output.LayerNorm.bias\", \"roberta.encoder.layer.11.intermediate.dense.weight\", \"roberta.encoder.layer.11.intermediate.dense.bias\", \"roberta.encoder.layer.11.output.dense.weight\", \"roberta.encoder.layer.11.output.dense.bias\", \"roberta.encoder.layer.11.output.LayerNorm.weight\", \"roberta.encoder.layer.11.output.LayerNorm.bias\", \"roberta.pooler.dense.weight\", \"roberta.pooler.dense.bias\", \"fc.weight\", \"fc.bias\". ",
          "traceback": [
            "\u001b[0;31m---------------------------------------------------------------------------\u001b[0m",
            "\u001b[0;31mRuntimeError\u001b[0m                              Traceback (most recent call last)",
            "\u001b[0;32m<ipython-input-5-ed6fe5ab3cd0>\u001b[0m in \u001b[0;36m<cell line: 5>\u001b[0;34m()\u001b[0m\n\u001b[1;32m      3\u001b[0m \u001b[0;34m\u001b[0m\u001b[0m\n\u001b[1;32m      4\u001b[0m \u001b[0mPATH\u001b[0m \u001b[0;34m=\u001b[0m \u001b[0;34m'/content/drive/My Drive/nlp-projects/models/model.bin'\u001b[0m\u001b[0;34m\u001b[0m\u001b[0;34m\u001b[0m\u001b[0m\n\u001b[0;32m----> 5\u001b[0;31m \u001b[0mmodel\u001b[0m\u001b[0;34m.\u001b[0m\u001b[0mload_state_dict\u001b[0m\u001b[0;34m(\u001b[0m\u001b[0mtorch\u001b[0m\u001b[0;34m.\u001b[0m\u001b[0mload\u001b[0m\u001b[0;34m(\u001b[0m\u001b[0mPATH\u001b[0m\u001b[0;34m)\u001b[0m\u001b[0;34m)\u001b[0m\u001b[0;34m\u001b[0m\u001b[0;34m\u001b[0m\u001b[0m\n\u001b[0m",
            "\u001b[0;32m/usr/local/lib/python3.10/dist-packages/torch/nn/modules/module.py\u001b[0m in \u001b[0;36mload_state_dict\u001b[0;34m(self, state_dict, strict, assign)\u001b[0m\n\u001b[1;32m   2187\u001b[0m \u001b[0;34m\u001b[0m\u001b[0m\n\u001b[1;32m   2188\u001b[0m         \u001b[0;32mif\u001b[0m \u001b[0mlen\u001b[0m\u001b[0;34m(\u001b[0m\u001b[0merror_msgs\u001b[0m\u001b[0;34m)\u001b[0m \u001b[0;34m>\u001b[0m \u001b[0;36m0\u001b[0m\u001b[0;34m:\u001b[0m\u001b[0;34m\u001b[0m\u001b[0;34m\u001b[0m\u001b[0m\n\u001b[0;32m-> 2189\u001b[0;31m             raise RuntimeError('Error(s) in loading state_dict for {}:\\n\\t{}'.format(\n\u001b[0m\u001b[1;32m   2190\u001b[0m                                self.__class__.__name__, \"\\n\\t\".join(error_msgs)))\n\u001b[1;32m   2191\u001b[0m         \u001b[0;32mreturn\u001b[0m \u001b[0m_IncompatibleKeys\u001b[0m\u001b[0;34m(\u001b[0m\u001b[0mmissing_keys\u001b[0m\u001b[0;34m,\u001b[0m \u001b[0munexpected_keys\u001b[0m\u001b[0;34m)\u001b[0m\u001b[0;34m\u001b[0m\u001b[0;34m\u001b[0m\u001b[0m\n",
            "\u001b[0;31mRuntimeError\u001b[0m: Error(s) in loading state_dict for BertModel:\n\tMissing key(s) in state_dict: \"embeddings.word_embeddings.weight\", \"embeddings.position_embeddings.weight\", \"embeddings.token_type_embeddings.weight\", \"embeddings.LayerNorm.weight\", \"embeddings.LayerNorm.bias\", \"encoder.layer.0.attention.self.query.weight\", \"encoder.layer.0.attention.self.query.bias\", \"encoder.layer.0.attention.self.key.weight\", \"encoder.layer.0.attention.self.key.bias\", \"encoder.layer.0.attention.self.value.weight\", \"encoder.layer.0.attention.self.value.bias\", \"encoder.layer.0.attention.output.dense.weight\", \"encoder.layer.0.attention.output.dense.bias\", \"encoder.layer.0.attention.output.LayerNorm.weight\", \"encoder.layer.0.attention.output.LayerNorm.bias\", \"encoder.layer.0.intermediate.dense.weight\", \"encoder.layer.0.intermediate.dense.bias\", \"encoder.layer.0.output.dense.weight\", \"encoder.layer.0.output.dense.bias\", \"encoder.layer.0.output.LayerNorm.weight\", \"encoder.layer.0.output.LayerNorm.bias\", \"encoder.layer.1.attention.self.query.weight\", \"encoder.layer.1.attention.self.query.bias\", \"encoder.layer.1.attention.self.key.weight\", \"encoder.layer.1.attention.self.key.bias\", \"encoder.layer.1.attention.self.value.weight\", \"encoder.layer.1.attention.self.value.bias\", \"encoder.layer.1.attention.output.dense.weight\", \"encoder.layer.1.attention.output.dense.bias\", \"encoder.layer.1.attention.output.LayerNorm.weight\", \"encoder.layer.1.attention.output.LayerNorm.bias\", \"encoder.layer.1.intermediate.dense.weight\", \"encoder.layer.1.intermediate.dense.bias\", \"enco...\n\tUnexpected key(s) in state_dict: \"roberta.embeddings.position_ids\", \"roberta.embeddings.word_embeddings.weight\", \"roberta.embeddings.position_embeddings.weight\", \"roberta.embeddings.token_type_embeddings.weight\", \"roberta.embeddings.LayerNorm.weight\", \"roberta.embeddings.LayerNorm.bias\", \"roberta.encoder.layer.0.attention.self.query.weight\", \"roberta.encoder.layer.0.attention.self.query.bias\", \"roberta.encoder.layer.0.attention.self.key.weight\", \"roberta.encoder.layer.0.attention.self.key.bias\", \"roberta.encoder.layer.0.attention.self.value.weight\", \"roberta.encoder.layer.0.attention.self.value.bias\", \"roberta.encoder.layer.0.attention.output.dense.weight\", \"roberta.encoder.layer.0.attention.output.dense.bias\", \"roberta.encoder.layer.0.attention.output.LayerNorm.weight\", \"roberta.encoder.layer.0.attention.output.LayerNorm.bias\", \"roberta.encoder.layer.0.intermediate.dense.weight\", \"roberta.encoder.layer.0.intermediate.dense.bias\", \"roberta.encoder.layer.0.output.dense.weight\", \"roberta.encoder.layer.0.output.dense.bias\", \"roberta.encoder.layer.0.output.LayerNorm.weight\", \"roberta.encoder.layer.0.output.LayerNorm.bias\", \"roberta.encoder.layer.1.attention.self.query.weight\", \"roberta.encoder.layer.1.attention.self.query.bias\", \"roberta.encoder.layer.1.attention.self.key.weight\", \"roberta.encoder.layer.1.attention.self.key.bias\", \"roberta.encoder.layer.1.attention.self.value.weight\", \"roberta.encoder.layer.1.attention.self.value.bias\", \"roberta.encoder.layer.1.attention.outp..."
          ]
        }
      ],
      "source": [
        "from google.colab import drive\n",
        "drive.mount('/content/drive')\n",
        "\n",
        "PATH = '/content/drive/My Drive/nlp-projects/models/model.bin'\n",
        "model.load_state_dict(torch.load(PATH))"
      ]
    },
    {
      "cell_type": "code",
      "execution_count": null,
      "metadata": {
        "papermill": {
          "duration": 0.042397,
          "end_time": "2021-06-11T22:56:19.481160",
          "exception": false,
          "start_time": "2021-06-11T22:56:19.438763",
          "status": "completed"
        },
        "tags": [],
        "colab": {
          "base_uri": "https://localhost:8080/"
        },
        "id": "6cfFOwoiF9NB",
        "outputId": "78460751-c674-44b5-b69b-27870190f09c"
      },
      "outputs": [
        {
          "output_type": "stream",
          "name": "stdout",
          "text": [
            "Mounted at /content/drive\n"
          ]
        }
      ],
      "source": [
        "import os\n",
        "\n",
        "# Mount Google Drive\n",
        "from google.colab import drive\n",
        "drive.mount('/content/drive')\n",
        "drive_path = '/content/drive/My Drive/nlp-projects/inputs/en/clean_translated_1.8.23_19.9.23.xlsx'"
      ]
    },
    {
      "cell_type": "code",
      "source": [
        "!pip install accelerate -U\n",
        "!pip install torch transformers -U\n",
        "#!pip install transformers[torch]\n",
        "!pip install datasets"
      ],
      "metadata": {
        "colab": {
          "base_uri": "https://localhost:8080/"
        },
        "id": "r83ZdpphMXqy",
        "outputId": "13672ee2-a49b-4e8d-87ad-461e7883ab3b"
      },
      "execution_count": null,
      "outputs": [
        {
          "output_type": "stream",
          "name": "stdout",
          "text": [
            "Collecting accelerate\n",
            "  Downloading accelerate-0.32.1-py3-none-any.whl (314 kB)\n",
            "\u001b[?25l     \u001b[90m━━━━━━━━━━━━━━━━━━━━━━━━━━━━━━━━━━━━━━━━\u001b[0m \u001b[32m0.0/314.1 kB\u001b[0m \u001b[31m?\u001b[0m eta \u001b[36m-:--:--\u001b[0m\r\u001b[2K     \u001b[91m━━━━━━━━━━━━━━━━━━━━━━━━━━━━━━━━━━━━━━━\u001b[0m\u001b[90m╺\u001b[0m \u001b[32m307.2/314.1 kB\u001b[0m \u001b[31m12.0 MB/s\u001b[0m eta \u001b[36m0:00:01\u001b[0m\r\u001b[2K     \u001b[90m━━━━━━━━━━━━━━━━━━━━━━━━━━━━━━━━━━━━━━━━\u001b[0m \u001b[32m314.1/314.1 kB\u001b[0m \u001b[31m8.3 MB/s\u001b[0m eta \u001b[36m0:00:00\u001b[0m\n",
            "\u001b[?25hRequirement already satisfied: numpy<2.0.0,>=1.17 in /usr/local/lib/python3.10/dist-packages (from accelerate) (1.25.2)\n",
            "Requirement already satisfied: packaging>=20.0 in /usr/local/lib/python3.10/dist-packages (from accelerate) (24.1)\n",
            "Requirement already satisfied: psutil in /usr/local/lib/python3.10/dist-packages (from accelerate) (5.9.5)\n",
            "Requirement already satisfied: pyyaml in /usr/local/lib/python3.10/dist-packages (from accelerate) (6.0.1)\n",
            "Requirement already satisfied: torch>=1.10.0 in /usr/local/lib/python3.10/dist-packages (from accelerate) (2.3.0+cu121)\n",
            "Requirement already satisfied: huggingface-hub in /usr/local/lib/python3.10/dist-packages (from accelerate) (0.23.4)\n",
            "Requirement already satisfied: safetensors>=0.3.1 in /usr/local/lib/python3.10/dist-packages (from accelerate) (0.4.3)\n",
            "Requirement already satisfied: filelock in /usr/local/lib/python3.10/dist-packages (from torch>=1.10.0->accelerate) (3.15.4)\n",
            "Requirement already satisfied: typing-extensions>=4.8.0 in /usr/local/lib/python3.10/dist-packages (from torch>=1.10.0->accelerate) (4.12.2)\n",
            "Requirement already satisfied: sympy in /usr/local/lib/python3.10/dist-packages (from torch>=1.10.0->accelerate) (1.12.1)\n",
            "Requirement already satisfied: networkx in /usr/local/lib/python3.10/dist-packages (from torch>=1.10.0->accelerate) (3.3)\n",
            "Requirement already satisfied: jinja2 in /usr/local/lib/python3.10/dist-packages (from torch>=1.10.0->accelerate) (3.1.4)\n",
            "Requirement already satisfied: fsspec in /usr/local/lib/python3.10/dist-packages (from torch>=1.10.0->accelerate) (2023.6.0)\n",
            "Collecting nvidia-cuda-nvrtc-cu12==12.1.105 (from torch>=1.10.0->accelerate)\n",
            "  Using cached nvidia_cuda_nvrtc_cu12-12.1.105-py3-none-manylinux1_x86_64.whl (23.7 MB)\n",
            "Collecting nvidia-cuda-runtime-cu12==12.1.105 (from torch>=1.10.0->accelerate)\n",
            "  Using cached nvidia_cuda_runtime_cu12-12.1.105-py3-none-manylinux1_x86_64.whl (823 kB)\n",
            "Collecting nvidia-cuda-cupti-cu12==12.1.105 (from torch>=1.10.0->accelerate)\n",
            "  Using cached nvidia_cuda_cupti_cu12-12.1.105-py3-none-manylinux1_x86_64.whl (14.1 MB)\n",
            "Collecting nvidia-cudnn-cu12==8.9.2.26 (from torch>=1.10.0->accelerate)\n",
            "  Using cached nvidia_cudnn_cu12-8.9.2.26-py3-none-manylinux1_x86_64.whl (731.7 MB)\n",
            "Collecting nvidia-cublas-cu12==12.1.3.1 (from torch>=1.10.0->accelerate)\n",
            "  Using cached nvidia_cublas_cu12-12.1.3.1-py3-none-manylinux1_x86_64.whl (410.6 MB)\n",
            "Collecting nvidia-cufft-cu12==11.0.2.54 (from torch>=1.10.0->accelerate)\n",
            "  Using cached nvidia_cufft_cu12-11.0.2.54-py3-none-manylinux1_x86_64.whl (121.6 MB)\n",
            "Collecting nvidia-curand-cu12==10.3.2.106 (from torch>=1.10.0->accelerate)\n",
            "  Using cached nvidia_curand_cu12-10.3.2.106-py3-none-manylinux1_x86_64.whl (56.5 MB)\n",
            "Collecting nvidia-cusolver-cu12==11.4.5.107 (from torch>=1.10.0->accelerate)\n",
            "  Using cached nvidia_cusolver_cu12-11.4.5.107-py3-none-manylinux1_x86_64.whl (124.2 MB)\n",
            "Collecting nvidia-cusparse-cu12==12.1.0.106 (from torch>=1.10.0->accelerate)\n",
            "  Using cached nvidia_cusparse_cu12-12.1.0.106-py3-none-manylinux1_x86_64.whl (196.0 MB)\n",
            "Collecting nvidia-nccl-cu12==2.20.5 (from torch>=1.10.0->accelerate)\n",
            "  Using cached nvidia_nccl_cu12-2.20.5-py3-none-manylinux2014_x86_64.whl (176.2 MB)\n",
            "Collecting nvidia-nvtx-cu12==12.1.105 (from torch>=1.10.0->accelerate)\n",
            "  Using cached nvidia_nvtx_cu12-12.1.105-py3-none-manylinux1_x86_64.whl (99 kB)\n",
            "Requirement already satisfied: triton==2.3.0 in /usr/local/lib/python3.10/dist-packages (from torch>=1.10.0->accelerate) (2.3.0)\n",
            "Collecting nvidia-nvjitlink-cu12 (from nvidia-cusolver-cu12==11.4.5.107->torch>=1.10.0->accelerate)\n",
            "  Downloading nvidia_nvjitlink_cu12-12.5.82-py3-none-manylinux2014_x86_64.whl (21.3 MB)\n",
            "\u001b[2K     \u001b[90m━━━━━━━━━━━━━━━━━━━━━━━━━━━━━━━━━━━━━━━━\u001b[0m \u001b[32m21.3/21.3 MB\u001b[0m \u001b[31m69.9 MB/s\u001b[0m eta \u001b[36m0:00:00\u001b[0m\n",
            "\u001b[?25hRequirement already satisfied: requests in /usr/local/lib/python3.10/dist-packages (from huggingface-hub->accelerate) (2.31.0)\n",
            "Requirement already satisfied: tqdm>=4.42.1 in /usr/local/lib/python3.10/dist-packages (from huggingface-hub->accelerate) (4.66.4)\n",
            "Requirement already satisfied: MarkupSafe>=2.0 in /usr/local/lib/python3.10/dist-packages (from jinja2->torch>=1.10.0->accelerate) (2.1.5)\n",
            "Requirement already satisfied: charset-normalizer<4,>=2 in /usr/local/lib/python3.10/dist-packages (from requests->huggingface-hub->accelerate) (3.3.2)\n",
            "Requirement already satisfied: idna<4,>=2.5 in /usr/local/lib/python3.10/dist-packages (from requests->huggingface-hub->accelerate) (3.7)\n",
            "Requirement already satisfied: urllib3<3,>=1.21.1 in /usr/local/lib/python3.10/dist-packages (from requests->huggingface-hub->accelerate) (2.0.7)\n",
            "Requirement already satisfied: certifi>=2017.4.17 in /usr/local/lib/python3.10/dist-packages (from requests->huggingface-hub->accelerate) (2024.6.2)\n",
            "Requirement already satisfied: mpmath<1.4.0,>=1.1.0 in /usr/local/lib/python3.10/dist-packages (from sympy->torch>=1.10.0->accelerate) (1.3.0)\n",
            "Installing collected packages: nvidia-nvtx-cu12, nvidia-nvjitlink-cu12, nvidia-nccl-cu12, nvidia-curand-cu12, nvidia-cufft-cu12, nvidia-cuda-runtime-cu12, nvidia-cuda-nvrtc-cu12, nvidia-cuda-cupti-cu12, nvidia-cublas-cu12, nvidia-cusparse-cu12, nvidia-cudnn-cu12, nvidia-cusolver-cu12, accelerate\n",
            "Successfully installed accelerate-0.32.1 nvidia-cublas-cu12-12.1.3.1 nvidia-cuda-cupti-cu12-12.1.105 nvidia-cuda-nvrtc-cu12-12.1.105 nvidia-cuda-runtime-cu12-12.1.105 nvidia-cudnn-cu12-8.9.2.26 nvidia-cufft-cu12-11.0.2.54 nvidia-curand-cu12-10.3.2.106 nvidia-cusolver-cu12-11.4.5.107 nvidia-cusparse-cu12-12.1.0.106 nvidia-nccl-cu12-2.20.5 nvidia-nvjitlink-cu12-12.5.82 nvidia-nvtx-cu12-12.1.105\n",
            "Requirement already satisfied: torch in /usr/local/lib/python3.10/dist-packages (2.3.0+cu121)\n",
            "Collecting torch\n",
            "  Downloading torch-2.3.1-cp310-cp310-manylinux1_x86_64.whl (779.1 MB)\n",
            "\u001b[2K     \u001b[90m━━━━━━━━━━━━━━━━━━━━━━━━━━━━━━━━━━━━━━━━\u001b[0m \u001b[32m779.1/779.1 MB\u001b[0m \u001b[31m2.3 MB/s\u001b[0m eta \u001b[36m0:00:00\u001b[0m\n",
            "\u001b[?25hRequirement already satisfied: transformers in /usr/local/lib/python3.10/dist-packages (4.41.2)\n",
            "Collecting transformers\n",
            "  Downloading transformers-4.42.3-py3-none-any.whl (9.3 MB)\n",
            "\u001b[2K     \u001b[90m━━━━━━━━━━━━━━━━━━━━━━━━━━━━━━━━━━━━━━━━\u001b[0m \u001b[32m9.3/9.3 MB\u001b[0m \u001b[31m109.7 MB/s\u001b[0m eta \u001b[36m0:00:00\u001b[0m\n",
            "\u001b[?25hRequirement already satisfied: filelock in /usr/local/lib/python3.10/dist-packages (from torch) (3.15.4)\n",
            "Requirement already satisfied: typing-extensions>=4.8.0 in /usr/local/lib/python3.10/dist-packages (from torch) (4.12.2)\n",
            "Requirement already satisfied: sympy in /usr/local/lib/python3.10/dist-packages (from torch) (1.12.1)\n",
            "Requirement already satisfied: networkx in /usr/local/lib/python3.10/dist-packages (from torch) (3.3)\n",
            "Requirement already satisfied: jinja2 in /usr/local/lib/python3.10/dist-packages (from torch) (3.1.4)\n",
            "Requirement already satisfied: fsspec in /usr/local/lib/python3.10/dist-packages (from torch) (2023.6.0)\n",
            "Requirement already satisfied: nvidia-cuda-nvrtc-cu12==12.1.105 in /usr/local/lib/python3.10/dist-packages (from torch) (12.1.105)\n",
            "Requirement already satisfied: nvidia-cuda-runtime-cu12==12.1.105 in /usr/local/lib/python3.10/dist-packages (from torch) (12.1.105)\n",
            "Requirement already satisfied: nvidia-cuda-cupti-cu12==12.1.105 in /usr/local/lib/python3.10/dist-packages (from torch) (12.1.105)\n",
            "Requirement already satisfied: nvidia-cudnn-cu12==8.9.2.26 in /usr/local/lib/python3.10/dist-packages (from torch) (8.9.2.26)\n",
            "Requirement already satisfied: nvidia-cublas-cu12==12.1.3.1 in /usr/local/lib/python3.10/dist-packages (from torch) (12.1.3.1)\n",
            "Requirement already satisfied: nvidia-cufft-cu12==11.0.2.54 in /usr/local/lib/python3.10/dist-packages (from torch) (11.0.2.54)\n",
            "Requirement already satisfied: nvidia-curand-cu12==10.3.2.106 in /usr/local/lib/python3.10/dist-packages (from torch) (10.3.2.106)\n",
            "Requirement already satisfied: nvidia-cusolver-cu12==11.4.5.107 in /usr/local/lib/python3.10/dist-packages (from torch) (11.4.5.107)\n",
            "Requirement already satisfied: nvidia-cusparse-cu12==12.1.0.106 in /usr/local/lib/python3.10/dist-packages (from torch) (12.1.0.106)\n",
            "Requirement already satisfied: nvidia-nccl-cu12==2.20.5 in /usr/local/lib/python3.10/dist-packages (from torch) (2.20.5)\n",
            "Requirement already satisfied: nvidia-nvtx-cu12==12.1.105 in /usr/local/lib/python3.10/dist-packages (from torch) (12.1.105)\n",
            "Collecting triton==2.3.1 (from torch)\n",
            "  Downloading triton-2.3.1-cp310-cp310-manylinux_2_17_x86_64.manylinux2014_x86_64.whl (168.1 MB)\n",
            "\u001b[2K     \u001b[90m━━━━━━━━━━━━━━━━━━━━━━━━━━━━━━━━━━━━━━━━\u001b[0m \u001b[32m168.1/168.1 MB\u001b[0m \u001b[31m10.2 MB/s\u001b[0m eta \u001b[36m0:00:00\u001b[0m\n",
            "\u001b[?25hRequirement already satisfied: nvidia-nvjitlink-cu12 in /usr/local/lib/python3.10/dist-packages (from nvidia-cusolver-cu12==11.4.5.107->torch) (12.5.82)\n",
            "Requirement already satisfied: huggingface-hub<1.0,>=0.23.2 in /usr/local/lib/python3.10/dist-packages (from transformers) (0.23.4)\n",
            "Requirement already satisfied: numpy<2.0,>=1.17 in /usr/local/lib/python3.10/dist-packages (from transformers) (1.25.2)\n",
            "Requirement already satisfied: packaging>=20.0 in /usr/local/lib/python3.10/dist-packages (from transformers) (24.1)\n",
            "Requirement already satisfied: pyyaml>=5.1 in /usr/local/lib/python3.10/dist-packages (from transformers) (6.0.1)\n",
            "Requirement already satisfied: regex!=2019.12.17 in /usr/local/lib/python3.10/dist-packages (from transformers) (2024.5.15)\n",
            "Requirement already satisfied: requests in /usr/local/lib/python3.10/dist-packages (from transformers) (2.31.0)\n",
            "Requirement already satisfied: safetensors>=0.4.1 in /usr/local/lib/python3.10/dist-packages (from transformers) (0.4.3)\n",
            "Requirement already satisfied: tokenizers<0.20,>=0.19 in /usr/local/lib/python3.10/dist-packages (from transformers) (0.19.1)\n",
            "Requirement already satisfied: tqdm>=4.27 in /usr/local/lib/python3.10/dist-packages (from transformers) (4.66.4)\n",
            "Requirement already satisfied: MarkupSafe>=2.0 in /usr/local/lib/python3.10/dist-packages (from jinja2->torch) (2.1.5)\n",
            "Requirement already satisfied: charset-normalizer<4,>=2 in /usr/local/lib/python3.10/dist-packages (from requests->transformers) (3.3.2)\n",
            "Requirement already satisfied: idna<4,>=2.5 in /usr/local/lib/python3.10/dist-packages (from requests->transformers) (3.7)\n",
            "Requirement already satisfied: urllib3<3,>=1.21.1 in /usr/local/lib/python3.10/dist-packages (from requests->transformers) (2.0.7)\n",
            "Requirement already satisfied: certifi>=2017.4.17 in /usr/local/lib/python3.10/dist-packages (from requests->transformers) (2024.6.2)\n",
            "Requirement already satisfied: mpmath<1.4.0,>=1.1.0 in /usr/local/lib/python3.10/dist-packages (from sympy->torch) (1.3.0)\n",
            "Installing collected packages: triton, torch, transformers\n",
            "  Attempting uninstall: triton\n",
            "    Found existing installation: triton 2.3.0\n",
            "    Uninstalling triton-2.3.0:\n",
            "      Successfully uninstalled triton-2.3.0\n",
            "  Attempting uninstall: torch\n",
            "    Found existing installation: torch 2.3.0+cu121\n",
            "    Uninstalling torch-2.3.0+cu121:\n",
            "      Successfully uninstalled torch-2.3.0+cu121\n",
            "  Attempting uninstall: transformers\n",
            "    Found existing installation: transformers 4.41.2\n",
            "    Uninstalling transformers-4.41.2:\n",
            "      Successfully uninstalled transformers-4.41.2\n",
            "\u001b[31mERROR: pip's dependency resolver does not currently take into account all the packages that are installed. This behaviour is the source of the following dependency conflicts.\n",
            "torchaudio 2.3.0+cu121 requires torch==2.3.0, but you have torch 2.3.1 which is incompatible.\n",
            "torchvision 0.18.0+cu121 requires torch==2.3.0, but you have torch 2.3.1 which is incompatible.\u001b[0m\u001b[31m\n",
            "\u001b[0mSuccessfully installed torch-2.3.1 transformers-4.42.3 triton-2.3.1\n",
            "Collecting datasets\n",
            "  Downloading datasets-2.20.0-py3-none-any.whl (547 kB)\n",
            "\u001b[2K     \u001b[90m━━━━━━━━━━━━━━━━━━━━━━━━━━━━━━━━━━━━━━━━\u001b[0m \u001b[32m547.8/547.8 kB\u001b[0m \u001b[31m14.1 MB/s\u001b[0m eta \u001b[36m0:00:00\u001b[0m\n",
            "\u001b[?25hRequirement already satisfied: filelock in /usr/local/lib/python3.10/dist-packages (from datasets) (3.15.4)\n",
            "Requirement already satisfied: numpy>=1.17 in /usr/local/lib/python3.10/dist-packages (from datasets) (1.25.2)\n",
            "Collecting pyarrow>=15.0.0 (from datasets)\n",
            "  Downloading pyarrow-16.1.0-cp310-cp310-manylinux_2_28_x86_64.whl (40.8 MB)\n",
            "\u001b[2K     \u001b[90m━━━━━━━━━━━━━━━━━━━━━━━━━━━━━━━━━━━━━━━━\u001b[0m \u001b[32m40.8/40.8 MB\u001b[0m \u001b[31m41.8 MB/s\u001b[0m eta \u001b[36m0:00:00\u001b[0m\n",
            "\u001b[?25hRequirement already satisfied: pyarrow-hotfix in /usr/local/lib/python3.10/dist-packages (from datasets) (0.6)\n",
            "Collecting dill<0.3.9,>=0.3.0 (from datasets)\n",
            "  Downloading dill-0.3.8-py3-none-any.whl (116 kB)\n",
            "\u001b[2K     \u001b[90m━━━━━━━━━━━━━━━━━━━━━━━━━━━━━━━━━━━━━━━━\u001b[0m \u001b[32m116.3/116.3 kB\u001b[0m \u001b[31m20.9 MB/s\u001b[0m eta \u001b[36m0:00:00\u001b[0m\n",
            "\u001b[?25hRequirement already satisfied: pandas in /usr/local/lib/python3.10/dist-packages (from datasets) (2.0.3)\n",
            "Collecting requests>=2.32.2 (from datasets)\n",
            "  Downloading requests-2.32.3-py3-none-any.whl (64 kB)\n",
            "\u001b[2K     \u001b[90m━━━━━━━━━━━━━━━━━━━━━━━━━━━━━━━━━━━━━━━━\u001b[0m \u001b[32m64.9/64.9 kB\u001b[0m \u001b[31m11.4 MB/s\u001b[0m eta \u001b[36m0:00:00\u001b[0m\n",
            "\u001b[?25hRequirement already satisfied: tqdm>=4.66.3 in /usr/local/lib/python3.10/dist-packages (from datasets) (4.66.4)\n",
            "Collecting xxhash (from datasets)\n",
            "  Downloading xxhash-3.4.1-cp310-cp310-manylinux_2_17_x86_64.manylinux2014_x86_64.whl (194 kB)\n",
            "\u001b[2K     \u001b[90m━━━━━━━━━━━━━━━━━━━━━━━━━━━━━━━━━━━━━━━━\u001b[0m \u001b[32m194.1/194.1 kB\u001b[0m \u001b[31m29.3 MB/s\u001b[0m eta \u001b[36m0:00:00\u001b[0m\n",
            "\u001b[?25hCollecting multiprocess (from datasets)\n",
            "  Downloading multiprocess-0.70.16-py310-none-any.whl (134 kB)\n",
            "\u001b[2K     \u001b[90m━━━━━━━━━━━━━━━━━━━━━━━━━━━━━━━━━━━━━━━━\u001b[0m \u001b[32m134.8/134.8 kB\u001b[0m \u001b[31m22.1 MB/s\u001b[0m eta \u001b[36m0:00:00\u001b[0m\n",
            "\u001b[?25hRequirement already satisfied: fsspec[http]<=2024.5.0,>=2023.1.0 in /usr/local/lib/python3.10/dist-packages (from datasets) (2023.6.0)\n",
            "Requirement already satisfied: aiohttp in /usr/local/lib/python3.10/dist-packages (from datasets) (3.9.5)\n",
            "Requirement already satisfied: huggingface-hub>=0.21.2 in /usr/local/lib/python3.10/dist-packages (from datasets) (0.23.4)\n",
            "Requirement already satisfied: packaging in /usr/local/lib/python3.10/dist-packages (from datasets) (24.1)\n",
            "Requirement already satisfied: pyyaml>=5.1 in /usr/local/lib/python3.10/dist-packages (from datasets) (6.0.1)\n",
            "Requirement already satisfied: aiosignal>=1.1.2 in /usr/local/lib/python3.10/dist-packages (from aiohttp->datasets) (1.3.1)\n",
            "Requirement already satisfied: attrs>=17.3.0 in /usr/local/lib/python3.10/dist-packages (from aiohttp->datasets) (23.2.0)\n",
            "Requirement already satisfied: frozenlist>=1.1.1 in /usr/local/lib/python3.10/dist-packages (from aiohttp->datasets) (1.4.1)\n",
            "Requirement already satisfied: multidict<7.0,>=4.5 in /usr/local/lib/python3.10/dist-packages (from aiohttp->datasets) (6.0.5)\n",
            "Requirement already satisfied: yarl<2.0,>=1.0 in /usr/local/lib/python3.10/dist-packages (from aiohttp->datasets) (1.9.4)\n",
            "Requirement already satisfied: async-timeout<5.0,>=4.0 in /usr/local/lib/python3.10/dist-packages (from aiohttp->datasets) (4.0.3)\n",
            "Requirement already satisfied: typing-extensions>=3.7.4.3 in /usr/local/lib/python3.10/dist-packages (from huggingface-hub>=0.21.2->datasets) (4.12.2)\n",
            "Requirement already satisfied: charset-normalizer<4,>=2 in /usr/local/lib/python3.10/dist-packages (from requests>=2.32.2->datasets) (3.3.2)\n",
            "Requirement already satisfied: idna<4,>=2.5 in /usr/local/lib/python3.10/dist-packages (from requests>=2.32.2->datasets) (3.7)\n",
            "Requirement already satisfied: urllib3<3,>=1.21.1 in /usr/local/lib/python3.10/dist-packages (from requests>=2.32.2->datasets) (2.0.7)\n",
            "Requirement already satisfied: certifi>=2017.4.17 in /usr/local/lib/python3.10/dist-packages (from requests>=2.32.2->datasets) (2024.6.2)\n",
            "Requirement already satisfied: python-dateutil>=2.8.2 in /usr/local/lib/python3.10/dist-packages (from pandas->datasets) (2.8.2)\n",
            "Requirement already satisfied: pytz>=2020.1 in /usr/local/lib/python3.10/dist-packages (from pandas->datasets) (2023.4)\n",
            "Requirement already satisfied: tzdata>=2022.1 in /usr/local/lib/python3.10/dist-packages (from pandas->datasets) (2024.1)\n",
            "Requirement already satisfied: six>=1.5 in /usr/local/lib/python3.10/dist-packages (from python-dateutil>=2.8.2->pandas->datasets) (1.16.0)\n",
            "Installing collected packages: xxhash, requests, pyarrow, dill, multiprocess, datasets\n",
            "  Attempting uninstall: requests\n",
            "    Found existing installation: requests 2.31.0\n",
            "    Uninstalling requests-2.31.0:\n",
            "      Successfully uninstalled requests-2.31.0\n",
            "  Attempting uninstall: pyarrow\n",
            "    Found existing installation: pyarrow 14.0.2\n",
            "    Uninstalling pyarrow-14.0.2:\n",
            "      Successfully uninstalled pyarrow-14.0.2\n",
            "\u001b[31mERROR: pip's dependency resolver does not currently take into account all the packages that are installed. This behaviour is the source of the following dependency conflicts.\n",
            "cudf-cu12 24.4.1 requires pyarrow<15.0.0a0,>=14.0.1, but you have pyarrow 16.1.0 which is incompatible.\n",
            "google-colab 1.0.0 requires requests==2.31.0, but you have requests 2.32.3 which is incompatible.\n",
            "ibis-framework 8.0.0 requires pyarrow<16,>=2, but you have pyarrow 16.1.0 which is incompatible.\u001b[0m\u001b[31m\n",
            "\u001b[0mSuccessfully installed datasets-2.20.0 dill-0.3.8 multiprocess-0.70.16 pyarrow-16.1.0 requests-2.32.3 xxhash-3.4.1\n"
          ]
        }
      ]
    },
    {
      "cell_type": "markdown",
      "source": [
        "# Step 1: Define the Custom Model Class with Loss Function\n"
      ],
      "metadata": {
        "id": "s8UxA-x5huAL"
      }
    },
    {
      "cell_type": "code",
      "source": [
        "from transformers import RobertaModel, RobertaPreTrainedModel\n",
        "import torch.nn as nn\n",
        "\n",
        "class CustomRobertaForSequenceClassification(RobertaPreTrainedModel):\n",
        "    def __init__(self, config, num_labels):\n",
        "        super().__init__(config)\n",
        "        self.num_labels = num_labels\n",
        "        self.roberta = RobertaModel(config)\n",
        "        self.fc = nn.Linear(config.hidden_size, num_labels)  # Adjust the output size to match the number of labels\n",
        "        self.loss = nn.BCEWithLogitsLoss()\n",
        "\n",
        "    def forward(self, input_ids=None, attention_mask=None, token_type_ids=None, labels=None):\n",
        "        outputs = self.roberta(\n",
        "            input_ids,\n",
        "            attention_mask=attention_mask,\n",
        "            token_type_ids=token_type_ids,\n",
        "        )\n",
        "        sequence_output = outputs[0]\n",
        "        logits = self.fc(sequence_output[:, 0, :])\n",
        "\n",
        "        loss = None\n",
        "        if labels is not None:\n",
        "            loss = self.loss(logits, labels)\n",
        "\n",
        "        return (loss, logits) if loss is not None else logits\n"
      ],
      "metadata": {
        "id": "-Tg0D2u8hs3u"
      },
      "execution_count": null,
      "outputs": []
    },
    {
      "cell_type": "markdown",
      "source": [
        "# Step 2: Load and Preprocess the Dataset\n"
      ],
      "metadata": {
        "id": "OXh5OGRVhyKc"
      }
    },
    {
      "cell_type": "code",
      "source": [
        "import pandas as pd\n",
        "\n",
        "column_to_predict = 'transcriptConsumer_en'\n",
        "labels_cols = ['despair',\n",
        "       'loneliness', 'emotional overflow', 'self blame', 'anxiety',\n",
        "       'distrust / confusion', 'new assault / new exposure',\n",
        "       'level of suicide/ level of risk', 'obligation to report occording law',\n",
        "       'support for support circuls']\n",
        "\n",
        "# Load your dataset\n",
        "df = pd.read_excel(drive_path)\n",
        "df['transcriptConsumer_en'] = df['transcriptConsumer_en'].astype(str)\n",
        "\n",
        "texts = df[column_to_predict].values.tolist()\n",
        "\n",
        "labels = df[labels_cols].values.tolist()"
      ],
      "metadata": {
        "id": "FzdPo4COLkLC"
      },
      "execution_count": null,
      "outputs": []
    },
    {
      "cell_type": "code",
      "source": [
        "from sklearn.model_selection import train_test_split\n",
        "\n",
        "train_texts, val_texts, train_labels, val_labels = train_test_split(texts, labels, test_size=0.2)"
      ],
      "metadata": {
        "id": "7TD-kCXTR_k4"
      },
      "execution_count": null,
      "outputs": []
    },
    {
      "cell_type": "code",
      "source": [
        "df.columns"
      ],
      "metadata": {
        "colab": {
          "base_uri": "https://localhost:8080/"
        },
        "id": "bXSLJleVMEiJ",
        "outputId": "deaf7e34-40af-43e8-eb27-e7908e250fed"
      },
      "execution_count": null,
      "outputs": [
        {
          "output_type": "execute_result",
          "data": {
            "text/plain": [
              "Index(['conversationId', 'firstConversation', 'transcriptAll',\n",
              "       'transcriptConsumer', 'classification', 'classification 2', 'despair',\n",
              "       'loneliness', 'emotional overflow', 'self blame', 'anxiety',\n",
              "       'distrust / confusion', 'new assault / new exposure',\n",
              "       'level of suicide/ level of risk', 'obligation to report occording law',\n",
              "       'support for support circuls', 'new_classification',\n",
              "       'transcriptConsumer_en'],\n",
              "      dtype='object')"
            ]
          },
          "metadata": {},
          "execution_count": 7
        }
      ]
    },
    {
      "cell_type": "markdown",
      "source": [
        "# Step 3: Define the Dataset Class\n"
      ],
      "metadata": {
        "id": "3gEhjMxRh6vT"
      }
    },
    {
      "cell_type": "code",
      "source": [
        "from torch.utils.data import Dataset\n",
        "import torch\n",
        "\n",
        "class BERTDataset(Dataset):\n",
        "    def __init__(self, texts, labels, tokenizer, max_len):\n",
        "        self.texts = texts\n",
        "        self.targets = labels\n",
        "        self.tokenizer = tokenizer\n",
        "        self.max_len = max_len\n",
        "\n",
        "    def __len__(self):\n",
        "        return len(self.texts)\n",
        "\n",
        "    def __getitem__(self, index):\n",
        "        text = self.texts[index]\n",
        "        inputs = self.tokenizer.encode_plus(\n",
        "            text,\n",
        "            truncation=True,\n",
        "            add_special_tokens=True,\n",
        "            max_length=self.max_len,\n",
        "            padding='max_length',\n",
        "            return_token_type_ids=True\n",
        "        )\n",
        "        ids = inputs['input_ids']\n",
        "        mask = inputs['attention_mask']\n",
        "        token_type_ids = inputs[\"token_type_ids\"]\n",
        "\n",
        "        return {\n",
        "            'input_ids': torch.tensor(ids, dtype=torch.long),\n",
        "            'attention_mask': torch.tensor(mask, dtype=torch.long),\n",
        "            'token_type_ids': torch.tensor(token_type_ids, dtype=torch.long),\n",
        "            'targets': torch.tensor(self.targets[index], dtype=torch.float)\n",
        "        }\n"
      ],
      "metadata": {
        "id": "89Kma5hrh8GW"
      },
      "execution_count": null,
      "outputs": []
    },
    {
      "cell_type": "code",
      "source": [
        "from torch.utils.data import Dataset\n",
        "import torch\n",
        "\n",
        "class CustomDataset(Dataset):\n",
        "    def __init__(self, encodings, labels):\n",
        "        self.encodings = encodings\n",
        "        self.labels = labels\n",
        "\n",
        "    def __len__(self):\n",
        "        return len(self.labels)\n",
        "\n",
        "    def __getitem__(self, idx):\n",
        "        item = {key: torch.tensor(val[idx]) for key, val in self.encodings.items()}\n",
        "        item['labels'] = torch.tensor(self.labels[idx])\n",
        "        return item\n"
      ],
      "metadata": {
        "id": "Hcad8rZVlIGr"
      },
      "execution_count": null,
      "outputs": []
    },
    {
      "cell_type": "markdown",
      "source": [
        "# Step 2: Tokenize the Dataset\n"
      ],
      "metadata": {
        "id": "KRunQxZ6Ll5c"
      }
    },
    {
      "cell_type": "code",
      "source": [
        "from transformers import AutoTokenizer\n",
        "from torch.utils.data import DataLoader\n",
        "from datasets import Dataset\n",
        "\n",
        "# Load the tokenizer\n",
        "tokenizer = AutoTokenizer.from_pretrained('roberta-base')\n",
        "max_len = 512\n",
        "\n",
        "#train_dataset = BERTDataset(train_texts, train_labels, tokenizer, max_len)\n",
        "#val_dataset = BERTDataset(val_texts, val_labels, tokenizer, max_len)\n",
        "train_encodings = tokenizer(train_texts, truncation=True, padding=True, max_length=max_len)\n",
        "val_encodings = tokenizer(val_texts, truncation=True, padding=True, max_length=max_len)\n",
        "train_dataset = Dataset.from_dict({\n",
        "    'input_ids': train_encodings['input_ids'],\n",
        "    'attention_mask': train_encodings['attention_mask'],\n",
        "    'labels': train_labels\n",
        "})\n",
        "\n",
        "val_dataset = Dataset.from_dict({\n",
        "    'input_ids': val_encodings['input_ids'],\n",
        "    'attention_mask': val_encodings['attention_mask'],\n",
        "    'labels': val_labels\n",
        "})\n",
        "\n",
        "train_loader = DataLoader(train_dataset, batch_size=8, shuffle=True)\n",
        "val_loader = DataLoader(val_dataset, batch_size=8, shuffle=False)"
      ],
      "metadata": {
        "id": "YiLzqqp6iAgF"
      },
      "execution_count": null,
      "outputs": []
    },
    {
      "cell_type": "code",
      "source": [
        "from transformers import AutoTokenizer\n",
        "from torch.utils.data import DataLoader\n",
        "\n",
        "# Load the tokenizer\n",
        "tokenizer = AutoTokenizer.from_pretrained('roberta-base')\n",
        "max_len = 512\n",
        "\n",
        "# Tokenize the data\n",
        "train_encodings = tokenizer(train_texts, truncation=True, padding=True, max_length=max_len)\n",
        "val_encodings = tokenizer(val_texts, truncation=True, padding=True, max_length=max_len)\n",
        "\n",
        "# Convert lists of labels to torch tensors\n",
        "train_labels = torch.tensor(train_labels, dtype=torch.float)\n",
        "val_labels = torch.tensor(val_labels, dtype=torch.float)\n",
        "\n",
        "# Create datasets\n",
        "#train_dataset = CustomDataset(train_encodings, train_labels)\n",
        "#val_dataset = CustomDataset(val_encodings, val_labels)\n",
        "train_dataset = BERTDataset(train_texts, train_labels, tokenizer, MAX_LEN)\n",
        "val_dataset = BERTDataset(val_texts, val_labels, tokenizer, MAX_LEN)\n",
        "\n",
        "# Create dataloaders\n",
        "train_loader = DataLoader(train_dataset, batch_size=8, shuffle=True)\n",
        "val_loader = DataLoader(val_dataset, batch_size=8, shuffle=False)\n"
      ],
      "metadata": {
        "id": "C1UPkRzflLPF"
      },
      "execution_count": null,
      "outputs": []
    },
    {
      "cell_type": "code",
      "source": [
        "train_dataset[0]"
      ],
      "metadata": {
        "colab": {
          "base_uri": "https://localhost:8080/"
        },
        "id": "ScZYxGSyBY8p",
        "outputId": "de724ecb-129e-4105-ab97-4a9429fbbd46"
      },
      "execution_count": null,
      "outputs": [
        {
          "output_type": "execute_result",
          "data": {
            "text/plain": [
              "{'input_ids': tensor([    0, 39389, 24786, 50118, 30327,   269,  6587, 50118, 31414, 50118,\n",
              "           354,   182, 50118,  7199,   205, 50118,   100,    64,    75,   120,\n",
              "            24,    66,     9,   127,   471,     2,     1,     1,     1,     1,\n",
              "             1,     1,     1,     1,     1,     1,     1,     1,     1,     1,\n",
              "             1,     1,     1,     1,     1,     1,     1,     1,     1,     1,\n",
              "             1,     1,     1,     1,     1,     1,     1,     1,     1,     1,\n",
              "             1,     1,     1,     1,     1,     1,     1,     1,     1,     1,\n",
              "             1,     1,     1,     1,     1,     1,     1,     1,     1,     1,\n",
              "             1,     1,     1,     1,     1,     1,     1,     1,     1,     1,\n",
              "             1,     1,     1,     1,     1,     1,     1,     1,     1,     1,\n",
              "             1,     1,     1,     1,     1,     1,     1,     1,     1,     1,\n",
              "             1,     1,     1,     1,     1,     1,     1,     1,     1,     1,\n",
              "             1,     1,     1,     1,     1,     1,     1,     1,     1,     1,\n",
              "             1,     1,     1,     1,     1,     1,     1,     1,     1,     1,\n",
              "             1,     1,     1,     1,     1,     1,     1,     1,     1,     1,\n",
              "             1,     1,     1,     1,     1,     1,     1,     1,     1,     1,\n",
              "             1,     1,     1,     1,     1,     1,     1,     1,     1,     1,\n",
              "             1,     1,     1,     1,     1,     1,     1,     1,     1,     1,\n",
              "             1,     1,     1,     1,     1,     1,     1,     1,     1,     1,\n",
              "             1,     1,     1,     1,     1,     1,     1,     1,     1,     1]),\n",
              " 'attention_mask': tensor([1, 1, 1, 1, 1, 1, 1, 1, 1, 1, 1, 1, 1, 1, 1, 1, 1, 1, 1, 1, 1, 1, 1, 1,\n",
              "         1, 1, 0, 0, 0, 0, 0, 0, 0, 0, 0, 0, 0, 0, 0, 0, 0, 0, 0, 0, 0, 0, 0, 0,\n",
              "         0, 0, 0, 0, 0, 0, 0, 0, 0, 0, 0, 0, 0, 0, 0, 0, 0, 0, 0, 0, 0, 0, 0, 0,\n",
              "         0, 0, 0, 0, 0, 0, 0, 0, 0, 0, 0, 0, 0, 0, 0, 0, 0, 0, 0, 0, 0, 0, 0, 0,\n",
              "         0, 0, 0, 0, 0, 0, 0, 0, 0, 0, 0, 0, 0, 0, 0, 0, 0, 0, 0, 0, 0, 0, 0, 0,\n",
              "         0, 0, 0, 0, 0, 0, 0, 0, 0, 0, 0, 0, 0, 0, 0, 0, 0, 0, 0, 0, 0, 0, 0, 0,\n",
              "         0, 0, 0, 0, 0, 0, 0, 0, 0, 0, 0, 0, 0, 0, 0, 0, 0, 0, 0, 0, 0, 0, 0, 0,\n",
              "         0, 0, 0, 0, 0, 0, 0, 0, 0, 0, 0, 0, 0, 0, 0, 0, 0, 0, 0, 0, 0, 0, 0, 0,\n",
              "         0, 0, 0, 0, 0, 0, 0, 0]),\n",
              " 'token_type_ids': tensor([0, 0, 0, 0, 0, 0, 0, 0, 0, 0, 0, 0, 0, 0, 0, 0, 0, 0, 0, 0, 0, 0, 0, 0,\n",
              "         0, 0, 0, 0, 0, 0, 0, 0, 0, 0, 0, 0, 0, 0, 0, 0, 0, 0, 0, 0, 0, 0, 0, 0,\n",
              "         0, 0, 0, 0, 0, 0, 0, 0, 0, 0, 0, 0, 0, 0, 0, 0, 0, 0, 0, 0, 0, 0, 0, 0,\n",
              "         0, 0, 0, 0, 0, 0, 0, 0, 0, 0, 0, 0, 0, 0, 0, 0, 0, 0, 0, 0, 0, 0, 0, 0,\n",
              "         0, 0, 0, 0, 0, 0, 0, 0, 0, 0, 0, 0, 0, 0, 0, 0, 0, 0, 0, 0, 0, 0, 0, 0,\n",
              "         0, 0, 0, 0, 0, 0, 0, 0, 0, 0, 0, 0, 0, 0, 0, 0, 0, 0, 0, 0, 0, 0, 0, 0,\n",
              "         0, 0, 0, 0, 0, 0, 0, 0, 0, 0, 0, 0, 0, 0, 0, 0, 0, 0, 0, 0, 0, 0, 0, 0,\n",
              "         0, 0, 0, 0, 0, 0, 0, 0, 0, 0, 0, 0, 0, 0, 0, 0, 0, 0, 0, 0, 0, 0, 0, 0,\n",
              "         0, 0, 0, 0, 0, 0, 0, 0]),\n",
              " 'targets': tensor([0., 0., 0., 0., 0., 0., 0., 0., 0., 0.])}"
            ]
          },
          "metadata": {},
          "execution_count": 65
        }
      ]
    },
    {
      "cell_type": "markdown",
      "source": [
        "# Step 5: Load the Model Configuration and Weights\n"
      ],
      "metadata": {
        "id": "d3kYqi3PiI9b"
      }
    },
    {
      "cell_type": "code",
      "source": [
        "model_name = 'roberta-base'"
      ],
      "metadata": {
        "id": "VtKt7ZA7omgl"
      },
      "execution_count": null,
      "outputs": []
    },
    {
      "cell_type": "code",
      "source": [
        "import torch\n",
        "from transformers import AutoConfig\n",
        "\n",
        "# Load the model configuration\n",
        "config = AutoConfig.from_pretrained(model_name)\n",
        "\n",
        "# Initialize the custom model from the configuration\n",
        "model = CustomRobertaForSequenceClassification(config, num_labels=len(labels_cols))\n",
        "device = 'cuda' if torch.cuda.is_available() else 'cpu'\n",
        "model.to(device)\n",
        "\n",
        "# Path to the model weights\n",
        "PATH = '/content/drive/My Drive/nlp-projects/models/model.bin'\n",
        "\n",
        "# Load the model weights, excluding the final layer\n",
        "pretrained_state_dict = torch.load(PATH, map_location=torch.device('cpu'))\n",
        "pretrained_state_dict = {k: v for k, v in pretrained_state_dict.items() if not k.startswith('fc')}\n",
        "model.load_state_dict(pretrained_state_dict, strict=False)\n",
        "\n",
        "# Reinitialize the final layer to match the number of labels in your current dataset\n",
        "model.fc = nn.Linear(config.hidden_size, len(labels_cols)).to(device)\n"
      ],
      "metadata": {
        "id": "da3sFGj5iKD1"
      },
      "execution_count": null,
      "outputs": []
    },
    {
      "cell_type": "markdown",
      "source": [
        "# Step 6: Define Training Arguments and Trainer\n"
      ],
      "metadata": {
        "id": "4jIuMAQFiOgs"
      }
    },
    {
      "cell_type": "code",
      "source": [
        "MAX_LEN = 200\n",
        "TRAIN_BATCH_SIZE = 64\n",
        "VALID_BATCH_SIZE = 64\n",
        "EPOCHS = 10\n",
        "LEARNING_RATE = 2e-5"
      ],
      "metadata": {
        "id": "JEtt6HvM5YgH"
      },
      "execution_count": null,
      "outputs": []
    },
    {
      "cell_type": "code",
      "source": [
        "optimizer = AdamW(params =  model.parameters(), lr=LEARNING_RATE, weight_decay=1e-6)\n"
      ],
      "metadata": {
        "id": "SnE7jREIim_i"
      },
      "execution_count": null,
      "outputs": []
    },
    {
      "cell_type": "code",
      "source": [
        "def loss_fn(outputs, targets):\n",
        "    return torch.nn.BCEWithLogitsLoss()(outputs, targets)"
      ],
      "metadata": {
        "id": "nSaOq060io1-"
      },
      "execution_count": null,
      "outputs": []
    },
    {
      "cell_type": "code",
      "source": [
        "from sklearn.metrics import accuracy_score, precision_recall_fscore_support\n",
        "\n",
        "def compute_metrics(preds, labels):\n",
        "    preds = np.argmax(preds, axis=1)\n",
        "    labels = np.argmax(labels, axis=1)\n",
        "    accuracy = accuracy_score(labels, preds)\n",
        "    precision, recall, f1, _ = precision_recall_fscore_support(labels, preds, average='macro')\n",
        "    return {\n",
        "        'accuracy': accuracy,\n",
        "        'precision': precision,\n",
        "        'recall': recall,\n",
        "        'f1': f1\n",
        "    }\n"
      ],
      "metadata": {
        "id": "vSAMp55AB_WB"
      },
      "execution_count": null,
      "outputs": []
    },
    {
      "cell_type": "code",
      "source": [
        "def train(epoch, best_model_state, best_loss):\n",
        "    model.train()\n",
        "    for _,data in enumerate(train_loader, 0):\n",
        "        ids = data['input_ids'].to(device, dtype = torch.long)\n",
        "        mask = data['attention_mask'].to(device, dtype = torch.long)\n",
        "        token_type_ids = data['token_type_ids'].to(device, dtype = torch.long)\n",
        "        targets = data['targets'].to(device, dtype = torch.float)\n",
        "\n",
        "        outputs = model(ids, mask, token_type_ids)\n",
        "\n",
        "        loss = loss_fn(outputs, targets)\n",
        "        if _%500 == 0:\n",
        "            print(f'Epoch: {epoch}, Loss:  {loss.item()}')\n",
        "\n",
        "        optimizer.zero_grad()\n",
        "        outputs = model(ids, mask)\n",
        "        loss = loss_fn(outputs, targets)\n",
        "        loss.backward()\n",
        "        optimizer.step()\n",
        "\n",
        "        current_loss = round(loss.item(), 5)\n",
        "        if abs(current_loss) < abs(best_loss):\n",
        "            best_loss = current_loss\n",
        "            best_model_state = model.state_dict()\n",
        "            print(f'Epoch: {epoch}, New Best Loss: {best_loss}')\n",
        "\n",
        "    return best_loss, best_model_state"
      ],
      "metadata": {
        "id": "rXFLaPhElNx8"
      },
      "execution_count": null,
      "outputs": []
    },
    {
      "cell_type": "code",
      "source": [
        "best_model_state = None  # To store the best model state\n",
        "best_loss = float('inf')\n",
        "\n",
        "for epoch in range(EPOCHS):\n",
        "    current_loss, current_model_state  = train(epoch, best_model_state, best_loss)\n",
        "    if current_model_state is not None:\n",
        "        best_loss = current_loss  # current_loss is already rounded\n",
        "        best_model_state = current_model_state\n",
        "\n",
        "# Save the best model after all epochs\n",
        "model_path = f'/content/drive/My Drive/nlp-projects/models/text-to-vector/en/{model_name}-{best_loss}'\n",
        "if best_model_state is not None:\n",
        "    torch.save(best_model_state, model_path)\n",
        "    print(\"Best model saved with loss:\", best_loss)\n"
      ],
      "metadata": {
        "colab": {
          "base_uri": "https://localhost:8080/"
        },
        "id": "D2KqXynUiwUl",
        "outputId": "03cdca7c-af83-42e0-c49f-b069b549087e"
      },
      "execution_count": null,
      "outputs": [
        {
          "output_type": "stream",
          "name": "stdout",
          "text": [
            "Epoch: 0, Loss:  0.025505701079964638\n",
            "Epoch: 0, New Best Loss: 0.02264\n",
            "Epoch: 0, New Best Loss: 0.0151\n",
            "Epoch: 0, New Best Loss: 0.01006\n",
            "Epoch: 0, New Best Loss: 0.00638\n",
            "Epoch: 0, New Best Loss: 0.00562\n",
            "Epoch: 0, New Best Loss: 0.00449\n",
            "Epoch: 1, Loss:  0.010809684172272682\n",
            "Epoch: 1, New Best Loss: 0.00388\n",
            "Epoch: 1, New Best Loss: 0.00352\n",
            "Epoch: 1, New Best Loss: 0.00333\n",
            "Epoch: 2, Loss:  0.010315944440662861\n",
            "Epoch: 2, New Best Loss: 0.00305\n",
            "Epoch: 3, Loss:  0.009062416851520538\n",
            "Epoch: 4, Loss:  0.004861805588006973\n",
            "Epoch: 4, New Best Loss: 0.00299\n",
            "Epoch: 5, Loss:  0.006277734879404306\n",
            "Epoch: 6, Loss:  0.004275864455848932\n",
            "Epoch: 6, New Best Loss: 0.00297\n",
            "Epoch: 6, New Best Loss: 0.00286\n",
            "Epoch: 6, New Best Loss: 0.00245\n",
            "Epoch: 7, Loss:  0.003445491660386324\n",
            "Epoch: 7, New Best Loss: 0.00204\n",
            "Epoch: 8, Loss:  0.006549503654241562\n",
            "Epoch: 9, Loss:  0.009049692191183567\n",
            "Epoch: 9, New Best Loss: 0.0018\n",
            "Epoch: 9, New Best Loss: 0.00178\n",
            "Best model saved with loss: 0.00178\n"
          ]
        }
      ]
    },
    {
      "cell_type": "code",
      "source": [
        "def validate(model, val_loader, loss_fn, device):\n",
        "    model.eval()\n",
        "    total_loss = 0\n",
        "    total_samples = 0\n",
        "\n",
        "    with torch.no_grad():\n",
        "        for data in val_loader:\n",
        "            inputs = data['input_ids'].to(device)\n",
        "            masks = data['attention_mask'].to(device)\n",
        "            targets = data['targets'].to(device)\n",
        "\n",
        "            outputs = model(inputs, masks)\n",
        "            loss = loss_fn(outputs, targets)\n",
        "            total_loss += loss.item() * inputs.size(0)\n",
        "            total_samples += inputs.size(0)\n",
        "\n",
        "    avg_loss = total_loss / total_samples\n",
        "    return avg_loss\n"
      ],
      "metadata": {
        "id": "_Ug0ID5cKaFu"
      },
      "execution_count": null,
      "outputs": []
    },
    {
      "cell_type": "code",
      "source": [
        "device = torch.device(\"cuda\" if torch.cuda.is_available() else \"cpu\")\n",
        "\n",
        "model.load_state_dict(torch.load(model_path))\n",
        "\n",
        "# Validate the model\n",
        "validation_loss = validate(model, val_loader, loss_fn, device)\n",
        "print(f\"Validation Loss for the Best Model: {validation_loss}\")"
      ],
      "metadata": {
        "colab": {
          "base_uri": "https://localhost:8080/"
        },
        "id": "4mFhg1LbKZYk",
        "outputId": "e8bf56ff-9a9d-405a-a34d-2a5d383a9256"
      },
      "execution_count": null,
      "outputs": [
        {
          "output_type": "stream",
          "name": "stdout",
          "text": [
            "Validation Loss for the Best Model: 0.312919408597876\n"
          ]
        }
      ]
    },
    {
      "cell_type": "code",
      "source": [
        "def validation(model, val_loader, loss_fn, device):\n",
        "    model.eval()\n",
        "    fin_targets = []\n",
        "    fin_outputs = []\n",
        "    total_loss = 0.0\n",
        "    total_count = 0\n",
        "\n",
        "    with torch.no_grad():\n",
        "        for _, data in enumerate(val_loader, 0):\n",
        "            ids = data['input_ids'].to(device, dtype=torch.long)\n",
        "            mask = data['attention_mask'].to(device, dtype=torch.long)\n",
        "            token_type_ids = data['token_type_ids'].to(device, dtype=torch.long)\n",
        "            targets = data['targets'].to(device, dtype=torch.float)\n",
        "\n",
        "            outputs = model(ids, mask, token_type_ids)\n",
        "            loss = loss_fn(outputs, targets)\n",
        "            total_loss += loss.item() * data['input_ids'].size(0)\n",
        "            total_count += data['input_ids'].size(0)\n",
        "\n",
        "            fin_targets.extend(targets.cpu().detach().numpy().tolist())\n",
        "            fin_outputs.extend(torch.sigmoid(outputs).cpu().detach().numpy().tolist())\n",
        "\n",
        "    average_loss = total_loss / total_count\n",
        "    return fin_outputs, fin_targets, average_loss\n"
      ],
      "metadata": {
        "id": "QWZNTrYYDtPd"
      },
      "execution_count": null,
      "outputs": []
    },
    {
      "cell_type": "code",
      "source": [],
      "metadata": {
        "id": "uK8bPnMQKXyy"
      },
      "execution_count": null,
      "outputs": []
    },
    {
      "cell_type": "code",
      "source": [
        "loss_fn = torch.nn.BCEWithLogitsLoss()  # Adjust according to your specific needs\n",
        "outputs, targets, val_loss = validation(model, val_loader, loss_fn, device)\n",
        "print(f\"Validation Loss: {val_loss}\")\n",
        "\n",
        "outputs = np.array(outputs)\n",
        "targets = np.array(targets)\n",
        "\n",
        "# Ensure targets are in the correct format if needed\n",
        "outputs = (outputs >= 0.5).astype(int)\n",
        "\n",
        "# Calculate metrics\n",
        "try:\n",
        "    accuracy = metrics.accuracy_score(targets, outputs)\n",
        "    f1_score_micro = metrics.f1_score(targets, outputs, average='micro')\n",
        "    f1_score_macro = metrics.f1_score(targets, outputs, average='macro')\n",
        "    print(f\"Accuracy Score = {accuracy}\")\n",
        "    print(f\"F1 Score (Micro) = {f1_score_micro}\")\n",
        "    print(f\"F1 Score (Macro) = {f1_score_macro}\")\n",
        "except Exception as e:\n",
        "    print(f\"An error occurred while calculating metrics: {str(e)}\")\n",
        "\n"
      ],
      "metadata": {
        "colab": {
          "base_uri": "https://localhost:8080/"
        },
        "id": "6wwmicNJD_KX",
        "outputId": "5a63a285-5232-44c4-e0b0-490171015b21"
      },
      "execution_count": null,
      "outputs": [
        {
          "output_type": "stream",
          "name": "stdout",
          "text": [
            "Validation Loss: 0.312919408597876\n",
            "An error occurred while calculating metrics: Classification metrics can't handle a mix of multiclass-multioutput and multilabel-indicator targets\n"
          ]
        }
      ]
    },
    {
      "cell_type": "code",
      "source": [
        "def predict(text, model, tokenizer, device, max_length=512):\n",
        "    # Tokenize the text\n",
        "    encoding = tokenizer.encode_plus(\n",
        "        text,\n",
        "        max_length=max_length,\n",
        "        add_special_tokens=True,\n",
        "        padding='max_length',\n",
        "        truncation=True,\n",
        "        return_attention_mask=True,\n",
        "        return_tensors='pt'\n",
        "    )\n",
        "\n",
        "    # Move tensors to the appropriate device\n",
        "    input_ids = encoding['input_ids'].to(device)\n",
        "    attention_mask = encoding['attention_mask'].to(device)\n",
        "\n",
        "    # Forward pass through the model\n",
        "    with torch.no_grad():\n",
        "        outputs = model(input_ids=input_ids, attention_mask=attention_mask)\n",
        "        logits = outputs[1] if isinstance(outputs, tuple) else outputs\n",
        "\n",
        "    # Move logits back to CPU and convert to numpy\n",
        "    logits = logits.cpu().numpy()\n",
        "\n",
        "    # Apply sigmoid to get probabilities\n",
        "    probabilities = torch.sigmoid(torch.tensor(logits)).numpy()\n",
        "\n",
        "    # Convert probabilities to binary outputs based on a threshold of 0.5\n",
        "    binary_predictions = (probabilities > 0.5).astype(int)\n",
        "\n",
        "\n",
        "    return probabilities, binary_predictions\n"
      ],
      "metadata": {
        "id": "onuGI0Hvniix"
      },
      "execution_count": null,
      "outputs": []
    },
    {
      "cell_type": "code",
      "source": [
        "# Example usage\n",
        "text = \"\"\"\n",
        "Hi\n",
        "I need help\n",
        "I am diagnosed with cptsd from sexual abuse\n",
        "And I have urges now to actually hurt myself\n",
        "I'm just in a never-ending loop of self-harm\n",
        "I had 2 surgeries in the last month\n",
        "And I have no regrets\n",
        "what am I doing now?\n",
        "at the parents' house\n",
        "no they sleep\n",
        "Yes, they know, but they no longer have the power\n",
        "No\n",
        "Oof\n",
        "Not really..\n",
        "No. But thanks\n",
        "\n",
        "\"\"\"\n",
        "probabilities, binary_outputs = predict(text, model, tokenizer, device)\n",
        "print(probabilities)\n",
        "print(binary_outputs)"
      ],
      "metadata": {
        "id": "hXd3YHJ7pHmF",
        "colab": {
          "base_uri": "https://localhost:8080/"
        },
        "outputId": "b89aa7dc-7d46-456c-c715-92341fdfa5ab"
      },
      "execution_count": null,
      "outputs": [
        {
          "output_type": "stream",
          "name": "stdout",
          "text": [
            "[[0.00704856 0.9880024  0.00362298 0.00574435 0.01318907 0.00452596\n",
            "  0.00473882 0.9999759  0.00483328 0.00474799]]\n",
            "[[0 1 0 0 0 0 0 1 0 0]]\n"
          ]
        }
      ]
    }
  ],
  "metadata": {
    "kernelspec": {
      "display_name": "Python 3",
      "name": "python3"
    },
    "language_info": {
      "codemirror_mode": {
        "name": "ipython",
        "version": 3
      },
      "file_extension": ".py",
      "mimetype": "text/x-python",
      "name": "python",
      "nbconvert_exporter": "python",
      "pygments_lexer": "ipython3",
      "version": "3.7.9"
    },
    "papermill": {
      "default_parameters": {},
      "duration": 5258.830687,
      "end_time": "2021-06-11T22:56:20.628315",
      "environment_variables": {},
      "exception": null,
      "input_path": "__notebook__.ipynb",
      "output_path": "__notebook__.ipynb",
      "parameters": {},
      "start_time": "2021-06-11T21:28:41.797628",
      "version": "2.2.2"
    },
    "widgets": {
      "application/vnd.jupyter.widget-state+json": {
        "0de557beba864a438b628e06d058d6c9": {
          "model_module": "@jupyter-widgets/controls",
          "model_name": "HBoxModel",
          "model_module_version": "1.5.0",
          "state": {
            "_dom_classes": [],
            "_model_module": "@jupyter-widgets/controls",
            "_model_module_version": "1.5.0",
            "_model_name": "HBoxModel",
            "_view_count": null,
            "_view_module": "@jupyter-widgets/controls",
            "_view_module_version": "1.5.0",
            "_view_name": "HBoxView",
            "box_style": "",
            "children": [
              "IPY_MODEL_3c2614f77d754d4ca319373e1f2b6329",
              "IPY_MODEL_76e5573b6b4b41d3a7d579b67f6da8ac",
              "IPY_MODEL_ab570d131df84273928c2141e06361e1"
            ],
            "layout": "IPY_MODEL_efef1d84ba8c4496ac1558117fbbef7f"
          }
        },
        "3c2614f77d754d4ca319373e1f2b6329": {
          "model_module": "@jupyter-widgets/controls",
          "model_name": "HTMLModel",
          "model_module_version": "1.5.0",
          "state": {
            "_dom_classes": [],
            "_model_module": "@jupyter-widgets/controls",
            "_model_module_version": "1.5.0",
            "_model_name": "HTMLModel",
            "_view_count": null,
            "_view_module": "@jupyter-widgets/controls",
            "_view_module_version": "1.5.0",
            "_view_name": "HTMLView",
            "description": "",
            "description_tooltip": null,
            "layout": "IPY_MODEL_721ac6f7777b440ab598c5f8cf410550",
            "placeholder": "​",
            "style": "IPY_MODEL_5d8b5ba4d88f465dad40fdf5fc4e4f19",
            "value": "tokenizer_config.json: 100%"
          }
        },
        "76e5573b6b4b41d3a7d579b67f6da8ac": {
          "model_module": "@jupyter-widgets/controls",
          "model_name": "FloatProgressModel",
          "model_module_version": "1.5.0",
          "state": {
            "_dom_classes": [],
            "_model_module": "@jupyter-widgets/controls",
            "_model_module_version": "1.5.0",
            "_model_name": "FloatProgressModel",
            "_view_count": null,
            "_view_module": "@jupyter-widgets/controls",
            "_view_module_version": "1.5.0",
            "_view_name": "ProgressView",
            "bar_style": "success",
            "description": "",
            "description_tooltip": null,
            "layout": "IPY_MODEL_213f9e82a2134eb1a4430ec8c6581539",
            "max": 25,
            "min": 0,
            "orientation": "horizontal",
            "style": "IPY_MODEL_426ea906e1464ff59131c5261090ffd8",
            "value": 25
          }
        },
        "ab570d131df84273928c2141e06361e1": {
          "model_module": "@jupyter-widgets/controls",
          "model_name": "HTMLModel",
          "model_module_version": "1.5.0",
          "state": {
            "_dom_classes": [],
            "_model_module": "@jupyter-widgets/controls",
            "_model_module_version": "1.5.0",
            "_model_name": "HTMLModel",
            "_view_count": null,
            "_view_module": "@jupyter-widgets/controls",
            "_view_module_version": "1.5.0",
            "_view_name": "HTMLView",
            "description": "",
            "description_tooltip": null,
            "layout": "IPY_MODEL_fc97b7e822124edeacbcd60cd35197d0",
            "placeholder": "​",
            "style": "IPY_MODEL_9ce8d60497a7442ca6a56f09d4fc48e5",
            "value": " 25.0/25.0 [00:00&lt;00:00, 749B/s]"
          }
        },
        "efef1d84ba8c4496ac1558117fbbef7f": {
          "model_module": "@jupyter-widgets/base",
          "model_name": "LayoutModel",
          "model_module_version": "1.2.0",
          "state": {
            "_model_module": "@jupyter-widgets/base",
            "_model_module_version": "1.2.0",
            "_model_name": "LayoutModel",
            "_view_count": null,
            "_view_module": "@jupyter-widgets/base",
            "_view_module_version": "1.2.0",
            "_view_name": "LayoutView",
            "align_content": null,
            "align_items": null,
            "align_self": null,
            "border": null,
            "bottom": null,
            "display": null,
            "flex": null,
            "flex_flow": null,
            "grid_area": null,
            "grid_auto_columns": null,
            "grid_auto_flow": null,
            "grid_auto_rows": null,
            "grid_column": null,
            "grid_gap": null,
            "grid_row": null,
            "grid_template_areas": null,
            "grid_template_columns": null,
            "grid_template_rows": null,
            "height": null,
            "justify_content": null,
            "justify_items": null,
            "left": null,
            "margin": null,
            "max_height": null,
            "max_width": null,
            "min_height": null,
            "min_width": null,
            "object_fit": null,
            "object_position": null,
            "order": null,
            "overflow": null,
            "overflow_x": null,
            "overflow_y": null,
            "padding": null,
            "right": null,
            "top": null,
            "visibility": null,
            "width": null
          }
        },
        "721ac6f7777b440ab598c5f8cf410550": {
          "model_module": "@jupyter-widgets/base",
          "model_name": "LayoutModel",
          "model_module_version": "1.2.0",
          "state": {
            "_model_module": "@jupyter-widgets/base",
            "_model_module_version": "1.2.0",
            "_model_name": "LayoutModel",
            "_view_count": null,
            "_view_module": "@jupyter-widgets/base",
            "_view_module_version": "1.2.0",
            "_view_name": "LayoutView",
            "align_content": null,
            "align_items": null,
            "align_self": null,
            "border": null,
            "bottom": null,
            "display": null,
            "flex": null,
            "flex_flow": null,
            "grid_area": null,
            "grid_auto_columns": null,
            "grid_auto_flow": null,
            "grid_auto_rows": null,
            "grid_column": null,
            "grid_gap": null,
            "grid_row": null,
            "grid_template_areas": null,
            "grid_template_columns": null,
            "grid_template_rows": null,
            "height": null,
            "justify_content": null,
            "justify_items": null,
            "left": null,
            "margin": null,
            "max_height": null,
            "max_width": null,
            "min_height": null,
            "min_width": null,
            "object_fit": null,
            "object_position": null,
            "order": null,
            "overflow": null,
            "overflow_x": null,
            "overflow_y": null,
            "padding": null,
            "right": null,
            "top": null,
            "visibility": null,
            "width": null
          }
        },
        "5d8b5ba4d88f465dad40fdf5fc4e4f19": {
          "model_module": "@jupyter-widgets/controls",
          "model_name": "DescriptionStyleModel",
          "model_module_version": "1.5.0",
          "state": {
            "_model_module": "@jupyter-widgets/controls",
            "_model_module_version": "1.5.0",
            "_model_name": "DescriptionStyleModel",
            "_view_count": null,
            "_view_module": "@jupyter-widgets/base",
            "_view_module_version": "1.2.0",
            "_view_name": "StyleView",
            "description_width": ""
          }
        },
        "213f9e82a2134eb1a4430ec8c6581539": {
          "model_module": "@jupyter-widgets/base",
          "model_name": "LayoutModel",
          "model_module_version": "1.2.0",
          "state": {
            "_model_module": "@jupyter-widgets/base",
            "_model_module_version": "1.2.0",
            "_model_name": "LayoutModel",
            "_view_count": null,
            "_view_module": "@jupyter-widgets/base",
            "_view_module_version": "1.2.0",
            "_view_name": "LayoutView",
            "align_content": null,
            "align_items": null,
            "align_self": null,
            "border": null,
            "bottom": null,
            "display": null,
            "flex": null,
            "flex_flow": null,
            "grid_area": null,
            "grid_auto_columns": null,
            "grid_auto_flow": null,
            "grid_auto_rows": null,
            "grid_column": null,
            "grid_gap": null,
            "grid_row": null,
            "grid_template_areas": null,
            "grid_template_columns": null,
            "grid_template_rows": null,
            "height": null,
            "justify_content": null,
            "justify_items": null,
            "left": null,
            "margin": null,
            "max_height": null,
            "max_width": null,
            "min_height": null,
            "min_width": null,
            "object_fit": null,
            "object_position": null,
            "order": null,
            "overflow": null,
            "overflow_x": null,
            "overflow_y": null,
            "padding": null,
            "right": null,
            "top": null,
            "visibility": null,
            "width": null
          }
        },
        "426ea906e1464ff59131c5261090ffd8": {
          "model_module": "@jupyter-widgets/controls",
          "model_name": "ProgressStyleModel",
          "model_module_version": "1.5.0",
          "state": {
            "_model_module": "@jupyter-widgets/controls",
            "_model_module_version": "1.5.0",
            "_model_name": "ProgressStyleModel",
            "_view_count": null,
            "_view_module": "@jupyter-widgets/base",
            "_view_module_version": "1.2.0",
            "_view_name": "StyleView",
            "bar_color": null,
            "description_width": ""
          }
        },
        "fc97b7e822124edeacbcd60cd35197d0": {
          "model_module": "@jupyter-widgets/base",
          "model_name": "LayoutModel",
          "model_module_version": "1.2.0",
          "state": {
            "_model_module": "@jupyter-widgets/base",
            "_model_module_version": "1.2.0",
            "_model_name": "LayoutModel",
            "_view_count": null,
            "_view_module": "@jupyter-widgets/base",
            "_view_module_version": "1.2.0",
            "_view_name": "LayoutView",
            "align_content": null,
            "align_items": null,
            "align_self": null,
            "border": null,
            "bottom": null,
            "display": null,
            "flex": null,
            "flex_flow": null,
            "grid_area": null,
            "grid_auto_columns": null,
            "grid_auto_flow": null,
            "grid_auto_rows": null,
            "grid_column": null,
            "grid_gap": null,
            "grid_row": null,
            "grid_template_areas": null,
            "grid_template_columns": null,
            "grid_template_rows": null,
            "height": null,
            "justify_content": null,
            "justify_items": null,
            "left": null,
            "margin": null,
            "max_height": null,
            "max_width": null,
            "min_height": null,
            "min_width": null,
            "object_fit": null,
            "object_position": null,
            "order": null,
            "overflow": null,
            "overflow_x": null,
            "overflow_y": null,
            "padding": null,
            "right": null,
            "top": null,
            "visibility": null,
            "width": null
          }
        },
        "9ce8d60497a7442ca6a56f09d4fc48e5": {
          "model_module": "@jupyter-widgets/controls",
          "model_name": "DescriptionStyleModel",
          "model_module_version": "1.5.0",
          "state": {
            "_model_module": "@jupyter-widgets/controls",
            "_model_module_version": "1.5.0",
            "_model_name": "DescriptionStyleModel",
            "_view_count": null,
            "_view_module": "@jupyter-widgets/base",
            "_view_module_version": "1.2.0",
            "_view_name": "StyleView",
            "description_width": ""
          }
        },
        "fba883b9bf134863b4dff32e5f47b061": {
          "model_module": "@jupyter-widgets/controls",
          "model_name": "HBoxModel",
          "model_module_version": "1.5.0",
          "state": {
            "_dom_classes": [],
            "_model_module": "@jupyter-widgets/controls",
            "_model_module_version": "1.5.0",
            "_model_name": "HBoxModel",
            "_view_count": null,
            "_view_module": "@jupyter-widgets/controls",
            "_view_module_version": "1.5.0",
            "_view_name": "HBoxView",
            "box_style": "",
            "children": [
              "IPY_MODEL_d4479286bac64bc19e57efb3e1bf219c",
              "IPY_MODEL_255ccbd19ad34ec78fd764b22c7b555f",
              "IPY_MODEL_d6b872166da54e67a03ef3d34db8e14a"
            ],
            "layout": "IPY_MODEL_b2098d0adb9349b293977c7404fae713"
          }
        },
        "d4479286bac64bc19e57efb3e1bf219c": {
          "model_module": "@jupyter-widgets/controls",
          "model_name": "HTMLModel",
          "model_module_version": "1.5.0",
          "state": {
            "_dom_classes": [],
            "_model_module": "@jupyter-widgets/controls",
            "_model_module_version": "1.5.0",
            "_model_name": "HTMLModel",
            "_view_count": null,
            "_view_module": "@jupyter-widgets/controls",
            "_view_module_version": "1.5.0",
            "_view_name": "HTMLView",
            "description": "",
            "description_tooltip": null,
            "layout": "IPY_MODEL_7928cdcb84bd4282a5893fbadda01fd8",
            "placeholder": "​",
            "style": "IPY_MODEL_4cf6c83ce9644817bce630a43e5e600f",
            "value": "config.json: 100%"
          }
        },
        "255ccbd19ad34ec78fd764b22c7b555f": {
          "model_module": "@jupyter-widgets/controls",
          "model_name": "FloatProgressModel",
          "model_module_version": "1.5.0",
          "state": {
            "_dom_classes": [],
            "_model_module": "@jupyter-widgets/controls",
            "_model_module_version": "1.5.0",
            "_model_name": "FloatProgressModel",
            "_view_count": null,
            "_view_module": "@jupyter-widgets/controls",
            "_view_module_version": "1.5.0",
            "_view_name": "ProgressView",
            "bar_style": "success",
            "description": "",
            "description_tooltip": null,
            "layout": "IPY_MODEL_359df60f225d4a2db722960d7e432e7f",
            "max": 481,
            "min": 0,
            "orientation": "horizontal",
            "style": "IPY_MODEL_13460c52d3f24ba0b30cad322f9c20c5",
            "value": 481
          }
        },
        "d6b872166da54e67a03ef3d34db8e14a": {
          "model_module": "@jupyter-widgets/controls",
          "model_name": "HTMLModel",
          "model_module_version": "1.5.0",
          "state": {
            "_dom_classes": [],
            "_model_module": "@jupyter-widgets/controls",
            "_model_module_version": "1.5.0",
            "_model_name": "HTMLModel",
            "_view_count": null,
            "_view_module": "@jupyter-widgets/controls",
            "_view_module_version": "1.5.0",
            "_view_name": "HTMLView",
            "description": "",
            "description_tooltip": null,
            "layout": "IPY_MODEL_a2f8154732a74403bd86d6ce2b8b56c2",
            "placeholder": "​",
            "style": "IPY_MODEL_21b74d4bac1440deb11fbadb604b9783",
            "value": " 481/481 [00:00&lt;00:00, 20.7kB/s]"
          }
        },
        "b2098d0adb9349b293977c7404fae713": {
          "model_module": "@jupyter-widgets/base",
          "model_name": "LayoutModel",
          "model_module_version": "1.2.0",
          "state": {
            "_model_module": "@jupyter-widgets/base",
            "_model_module_version": "1.2.0",
            "_model_name": "LayoutModel",
            "_view_count": null,
            "_view_module": "@jupyter-widgets/base",
            "_view_module_version": "1.2.0",
            "_view_name": "LayoutView",
            "align_content": null,
            "align_items": null,
            "align_self": null,
            "border": null,
            "bottom": null,
            "display": null,
            "flex": null,
            "flex_flow": null,
            "grid_area": null,
            "grid_auto_columns": null,
            "grid_auto_flow": null,
            "grid_auto_rows": null,
            "grid_column": null,
            "grid_gap": null,
            "grid_row": null,
            "grid_template_areas": null,
            "grid_template_columns": null,
            "grid_template_rows": null,
            "height": null,
            "justify_content": null,
            "justify_items": null,
            "left": null,
            "margin": null,
            "max_height": null,
            "max_width": null,
            "min_height": null,
            "min_width": null,
            "object_fit": null,
            "object_position": null,
            "order": null,
            "overflow": null,
            "overflow_x": null,
            "overflow_y": null,
            "padding": null,
            "right": null,
            "top": null,
            "visibility": null,
            "width": null
          }
        },
        "7928cdcb84bd4282a5893fbadda01fd8": {
          "model_module": "@jupyter-widgets/base",
          "model_name": "LayoutModel",
          "model_module_version": "1.2.0",
          "state": {
            "_model_module": "@jupyter-widgets/base",
            "_model_module_version": "1.2.0",
            "_model_name": "LayoutModel",
            "_view_count": null,
            "_view_module": "@jupyter-widgets/base",
            "_view_module_version": "1.2.0",
            "_view_name": "LayoutView",
            "align_content": null,
            "align_items": null,
            "align_self": null,
            "border": null,
            "bottom": null,
            "display": null,
            "flex": null,
            "flex_flow": null,
            "grid_area": null,
            "grid_auto_columns": null,
            "grid_auto_flow": null,
            "grid_auto_rows": null,
            "grid_column": null,
            "grid_gap": null,
            "grid_row": null,
            "grid_template_areas": null,
            "grid_template_columns": null,
            "grid_template_rows": null,
            "height": null,
            "justify_content": null,
            "justify_items": null,
            "left": null,
            "margin": null,
            "max_height": null,
            "max_width": null,
            "min_height": null,
            "min_width": null,
            "object_fit": null,
            "object_position": null,
            "order": null,
            "overflow": null,
            "overflow_x": null,
            "overflow_y": null,
            "padding": null,
            "right": null,
            "top": null,
            "visibility": null,
            "width": null
          }
        },
        "4cf6c83ce9644817bce630a43e5e600f": {
          "model_module": "@jupyter-widgets/controls",
          "model_name": "DescriptionStyleModel",
          "model_module_version": "1.5.0",
          "state": {
            "_model_module": "@jupyter-widgets/controls",
            "_model_module_version": "1.5.0",
            "_model_name": "DescriptionStyleModel",
            "_view_count": null,
            "_view_module": "@jupyter-widgets/base",
            "_view_module_version": "1.2.0",
            "_view_name": "StyleView",
            "description_width": ""
          }
        },
        "359df60f225d4a2db722960d7e432e7f": {
          "model_module": "@jupyter-widgets/base",
          "model_name": "LayoutModel",
          "model_module_version": "1.2.0",
          "state": {
            "_model_module": "@jupyter-widgets/base",
            "_model_module_version": "1.2.0",
            "_model_name": "LayoutModel",
            "_view_count": null,
            "_view_module": "@jupyter-widgets/base",
            "_view_module_version": "1.2.0",
            "_view_name": "LayoutView",
            "align_content": null,
            "align_items": null,
            "align_self": null,
            "border": null,
            "bottom": null,
            "display": null,
            "flex": null,
            "flex_flow": null,
            "grid_area": null,
            "grid_auto_columns": null,
            "grid_auto_flow": null,
            "grid_auto_rows": null,
            "grid_column": null,
            "grid_gap": null,
            "grid_row": null,
            "grid_template_areas": null,
            "grid_template_columns": null,
            "grid_template_rows": null,
            "height": null,
            "justify_content": null,
            "justify_items": null,
            "left": null,
            "margin": null,
            "max_height": null,
            "max_width": null,
            "min_height": null,
            "min_width": null,
            "object_fit": null,
            "object_position": null,
            "order": null,
            "overflow": null,
            "overflow_x": null,
            "overflow_y": null,
            "padding": null,
            "right": null,
            "top": null,
            "visibility": null,
            "width": null
          }
        },
        "13460c52d3f24ba0b30cad322f9c20c5": {
          "model_module": "@jupyter-widgets/controls",
          "model_name": "ProgressStyleModel",
          "model_module_version": "1.5.0",
          "state": {
            "_model_module": "@jupyter-widgets/controls",
            "_model_module_version": "1.5.0",
            "_model_name": "ProgressStyleModel",
            "_view_count": null,
            "_view_module": "@jupyter-widgets/base",
            "_view_module_version": "1.2.0",
            "_view_name": "StyleView",
            "bar_color": null,
            "description_width": ""
          }
        },
        "a2f8154732a74403bd86d6ce2b8b56c2": {
          "model_module": "@jupyter-widgets/base",
          "model_name": "LayoutModel",
          "model_module_version": "1.2.0",
          "state": {
            "_model_module": "@jupyter-widgets/base",
            "_model_module_version": "1.2.0",
            "_model_name": "LayoutModel",
            "_view_count": null,
            "_view_module": "@jupyter-widgets/base",
            "_view_module_version": "1.2.0",
            "_view_name": "LayoutView",
            "align_content": null,
            "align_items": null,
            "align_self": null,
            "border": null,
            "bottom": null,
            "display": null,
            "flex": null,
            "flex_flow": null,
            "grid_area": null,
            "grid_auto_columns": null,
            "grid_auto_flow": null,
            "grid_auto_rows": null,
            "grid_column": null,
            "grid_gap": null,
            "grid_row": null,
            "grid_template_areas": null,
            "grid_template_columns": null,
            "grid_template_rows": null,
            "height": null,
            "justify_content": null,
            "justify_items": null,
            "left": null,
            "margin": null,
            "max_height": null,
            "max_width": null,
            "min_height": null,
            "min_width": null,
            "object_fit": null,
            "object_position": null,
            "order": null,
            "overflow": null,
            "overflow_x": null,
            "overflow_y": null,
            "padding": null,
            "right": null,
            "top": null,
            "visibility": null,
            "width": null
          }
        },
        "21b74d4bac1440deb11fbadb604b9783": {
          "model_module": "@jupyter-widgets/controls",
          "model_name": "DescriptionStyleModel",
          "model_module_version": "1.5.0",
          "state": {
            "_model_module": "@jupyter-widgets/controls",
            "_model_module_version": "1.5.0",
            "_model_name": "DescriptionStyleModel",
            "_view_count": null,
            "_view_module": "@jupyter-widgets/base",
            "_view_module_version": "1.2.0",
            "_view_name": "StyleView",
            "description_width": ""
          }
        },
        "5b0212b15c4c40f790bd49021545d279": {
          "model_module": "@jupyter-widgets/controls",
          "model_name": "HBoxModel",
          "model_module_version": "1.5.0",
          "state": {
            "_dom_classes": [],
            "_model_module": "@jupyter-widgets/controls",
            "_model_module_version": "1.5.0",
            "_model_name": "HBoxModel",
            "_view_count": null,
            "_view_module": "@jupyter-widgets/controls",
            "_view_module_version": "1.5.0",
            "_view_name": "HBoxView",
            "box_style": "",
            "children": [
              "IPY_MODEL_0a94a1d891b14e2a82ea88fc12016572",
              "IPY_MODEL_dfa0a0fc13a742f8b7e215ccf6c58180",
              "IPY_MODEL_812bd69340f04fa49a540a772e6359aa"
            ],
            "layout": "IPY_MODEL_92376908592345ee9df4a530642b9517"
          }
        },
        "0a94a1d891b14e2a82ea88fc12016572": {
          "model_module": "@jupyter-widgets/controls",
          "model_name": "HTMLModel",
          "model_module_version": "1.5.0",
          "state": {
            "_dom_classes": [],
            "_model_module": "@jupyter-widgets/controls",
            "_model_module_version": "1.5.0",
            "_model_name": "HTMLModel",
            "_view_count": null,
            "_view_module": "@jupyter-widgets/controls",
            "_view_module_version": "1.5.0",
            "_view_name": "HTMLView",
            "description": "",
            "description_tooltip": null,
            "layout": "IPY_MODEL_f4c75c0e89904ac08b68ea738c2996c5",
            "placeholder": "​",
            "style": "IPY_MODEL_826979ef458b448283835123e5d6b4b2",
            "value": "vocab.json: 100%"
          }
        },
        "dfa0a0fc13a742f8b7e215ccf6c58180": {
          "model_module": "@jupyter-widgets/controls",
          "model_name": "FloatProgressModel",
          "model_module_version": "1.5.0",
          "state": {
            "_dom_classes": [],
            "_model_module": "@jupyter-widgets/controls",
            "_model_module_version": "1.5.0",
            "_model_name": "FloatProgressModel",
            "_view_count": null,
            "_view_module": "@jupyter-widgets/controls",
            "_view_module_version": "1.5.0",
            "_view_name": "ProgressView",
            "bar_style": "success",
            "description": "",
            "description_tooltip": null,
            "layout": "IPY_MODEL_4e32113e72dd4b05b2aa120158314d7f",
            "max": 898823,
            "min": 0,
            "orientation": "horizontal",
            "style": "IPY_MODEL_e4aa160ecd15473d9fc07adba0923e7c",
            "value": 898823
          }
        },
        "812bd69340f04fa49a540a772e6359aa": {
          "model_module": "@jupyter-widgets/controls",
          "model_name": "HTMLModel",
          "model_module_version": "1.5.0",
          "state": {
            "_dom_classes": [],
            "_model_module": "@jupyter-widgets/controls",
            "_model_module_version": "1.5.0",
            "_model_name": "HTMLModel",
            "_view_count": null,
            "_view_module": "@jupyter-widgets/controls",
            "_view_module_version": "1.5.0",
            "_view_name": "HTMLView",
            "description": "",
            "description_tooltip": null,
            "layout": "IPY_MODEL_40ec773cab744a6797e96f63957cd609",
            "placeholder": "​",
            "style": "IPY_MODEL_6c02ba59ec7e4ae1be173b216a5833c1",
            "value": " 899k/899k [00:00&lt;00:00, 7.72MB/s]"
          }
        },
        "92376908592345ee9df4a530642b9517": {
          "model_module": "@jupyter-widgets/base",
          "model_name": "LayoutModel",
          "model_module_version": "1.2.0",
          "state": {
            "_model_module": "@jupyter-widgets/base",
            "_model_module_version": "1.2.0",
            "_model_name": "LayoutModel",
            "_view_count": null,
            "_view_module": "@jupyter-widgets/base",
            "_view_module_version": "1.2.0",
            "_view_name": "LayoutView",
            "align_content": null,
            "align_items": null,
            "align_self": null,
            "border": null,
            "bottom": null,
            "display": null,
            "flex": null,
            "flex_flow": null,
            "grid_area": null,
            "grid_auto_columns": null,
            "grid_auto_flow": null,
            "grid_auto_rows": null,
            "grid_column": null,
            "grid_gap": null,
            "grid_row": null,
            "grid_template_areas": null,
            "grid_template_columns": null,
            "grid_template_rows": null,
            "height": null,
            "justify_content": null,
            "justify_items": null,
            "left": null,
            "margin": null,
            "max_height": null,
            "max_width": null,
            "min_height": null,
            "min_width": null,
            "object_fit": null,
            "object_position": null,
            "order": null,
            "overflow": null,
            "overflow_x": null,
            "overflow_y": null,
            "padding": null,
            "right": null,
            "top": null,
            "visibility": null,
            "width": null
          }
        },
        "f4c75c0e89904ac08b68ea738c2996c5": {
          "model_module": "@jupyter-widgets/base",
          "model_name": "LayoutModel",
          "model_module_version": "1.2.0",
          "state": {
            "_model_module": "@jupyter-widgets/base",
            "_model_module_version": "1.2.0",
            "_model_name": "LayoutModel",
            "_view_count": null,
            "_view_module": "@jupyter-widgets/base",
            "_view_module_version": "1.2.0",
            "_view_name": "LayoutView",
            "align_content": null,
            "align_items": null,
            "align_self": null,
            "border": null,
            "bottom": null,
            "display": null,
            "flex": null,
            "flex_flow": null,
            "grid_area": null,
            "grid_auto_columns": null,
            "grid_auto_flow": null,
            "grid_auto_rows": null,
            "grid_column": null,
            "grid_gap": null,
            "grid_row": null,
            "grid_template_areas": null,
            "grid_template_columns": null,
            "grid_template_rows": null,
            "height": null,
            "justify_content": null,
            "justify_items": null,
            "left": null,
            "margin": null,
            "max_height": null,
            "max_width": null,
            "min_height": null,
            "min_width": null,
            "object_fit": null,
            "object_position": null,
            "order": null,
            "overflow": null,
            "overflow_x": null,
            "overflow_y": null,
            "padding": null,
            "right": null,
            "top": null,
            "visibility": null,
            "width": null
          }
        },
        "826979ef458b448283835123e5d6b4b2": {
          "model_module": "@jupyter-widgets/controls",
          "model_name": "DescriptionStyleModel",
          "model_module_version": "1.5.0",
          "state": {
            "_model_module": "@jupyter-widgets/controls",
            "_model_module_version": "1.5.0",
            "_model_name": "DescriptionStyleModel",
            "_view_count": null,
            "_view_module": "@jupyter-widgets/base",
            "_view_module_version": "1.2.0",
            "_view_name": "StyleView",
            "description_width": ""
          }
        },
        "4e32113e72dd4b05b2aa120158314d7f": {
          "model_module": "@jupyter-widgets/base",
          "model_name": "LayoutModel",
          "model_module_version": "1.2.0",
          "state": {
            "_model_module": "@jupyter-widgets/base",
            "_model_module_version": "1.2.0",
            "_model_name": "LayoutModel",
            "_view_count": null,
            "_view_module": "@jupyter-widgets/base",
            "_view_module_version": "1.2.0",
            "_view_name": "LayoutView",
            "align_content": null,
            "align_items": null,
            "align_self": null,
            "border": null,
            "bottom": null,
            "display": null,
            "flex": null,
            "flex_flow": null,
            "grid_area": null,
            "grid_auto_columns": null,
            "grid_auto_flow": null,
            "grid_auto_rows": null,
            "grid_column": null,
            "grid_gap": null,
            "grid_row": null,
            "grid_template_areas": null,
            "grid_template_columns": null,
            "grid_template_rows": null,
            "height": null,
            "justify_content": null,
            "justify_items": null,
            "left": null,
            "margin": null,
            "max_height": null,
            "max_width": null,
            "min_height": null,
            "min_width": null,
            "object_fit": null,
            "object_position": null,
            "order": null,
            "overflow": null,
            "overflow_x": null,
            "overflow_y": null,
            "padding": null,
            "right": null,
            "top": null,
            "visibility": null,
            "width": null
          }
        },
        "e4aa160ecd15473d9fc07adba0923e7c": {
          "model_module": "@jupyter-widgets/controls",
          "model_name": "ProgressStyleModel",
          "model_module_version": "1.5.0",
          "state": {
            "_model_module": "@jupyter-widgets/controls",
            "_model_module_version": "1.5.0",
            "_model_name": "ProgressStyleModel",
            "_view_count": null,
            "_view_module": "@jupyter-widgets/base",
            "_view_module_version": "1.2.0",
            "_view_name": "StyleView",
            "bar_color": null,
            "description_width": ""
          }
        },
        "40ec773cab744a6797e96f63957cd609": {
          "model_module": "@jupyter-widgets/base",
          "model_name": "LayoutModel",
          "model_module_version": "1.2.0",
          "state": {
            "_model_module": "@jupyter-widgets/base",
            "_model_module_version": "1.2.0",
            "_model_name": "LayoutModel",
            "_view_count": null,
            "_view_module": "@jupyter-widgets/base",
            "_view_module_version": "1.2.0",
            "_view_name": "LayoutView",
            "align_content": null,
            "align_items": null,
            "align_self": null,
            "border": null,
            "bottom": null,
            "display": null,
            "flex": null,
            "flex_flow": null,
            "grid_area": null,
            "grid_auto_columns": null,
            "grid_auto_flow": null,
            "grid_auto_rows": null,
            "grid_column": null,
            "grid_gap": null,
            "grid_row": null,
            "grid_template_areas": null,
            "grid_template_columns": null,
            "grid_template_rows": null,
            "height": null,
            "justify_content": null,
            "justify_items": null,
            "left": null,
            "margin": null,
            "max_height": null,
            "max_width": null,
            "min_height": null,
            "min_width": null,
            "object_fit": null,
            "object_position": null,
            "order": null,
            "overflow": null,
            "overflow_x": null,
            "overflow_y": null,
            "padding": null,
            "right": null,
            "top": null,
            "visibility": null,
            "width": null
          }
        },
        "6c02ba59ec7e4ae1be173b216a5833c1": {
          "model_module": "@jupyter-widgets/controls",
          "model_name": "DescriptionStyleModel",
          "model_module_version": "1.5.0",
          "state": {
            "_model_module": "@jupyter-widgets/controls",
            "_model_module_version": "1.5.0",
            "_model_name": "DescriptionStyleModel",
            "_view_count": null,
            "_view_module": "@jupyter-widgets/base",
            "_view_module_version": "1.2.0",
            "_view_name": "StyleView",
            "description_width": ""
          }
        },
        "53b636798baa4e8280e5c9b0654c88b2": {
          "model_module": "@jupyter-widgets/controls",
          "model_name": "HBoxModel",
          "model_module_version": "1.5.0",
          "state": {
            "_dom_classes": [],
            "_model_module": "@jupyter-widgets/controls",
            "_model_module_version": "1.5.0",
            "_model_name": "HBoxModel",
            "_view_count": null,
            "_view_module": "@jupyter-widgets/controls",
            "_view_module_version": "1.5.0",
            "_view_name": "HBoxView",
            "box_style": "",
            "children": [
              "IPY_MODEL_fa7e34f1d9ca4c34963e168a8f67b99a",
              "IPY_MODEL_0db0d89daa3043d48a0df9d38856f621",
              "IPY_MODEL_135798d6d18f41799d68685b95be5482"
            ],
            "layout": "IPY_MODEL_01cb9a53bcc54f989a09c9df799d4158"
          }
        },
        "fa7e34f1d9ca4c34963e168a8f67b99a": {
          "model_module": "@jupyter-widgets/controls",
          "model_name": "HTMLModel",
          "model_module_version": "1.5.0",
          "state": {
            "_dom_classes": [],
            "_model_module": "@jupyter-widgets/controls",
            "_model_module_version": "1.5.0",
            "_model_name": "HTMLModel",
            "_view_count": null,
            "_view_module": "@jupyter-widgets/controls",
            "_view_module_version": "1.5.0",
            "_view_name": "HTMLView",
            "description": "",
            "description_tooltip": null,
            "layout": "IPY_MODEL_b89fc46b6eb54949bf69938a4f76e261",
            "placeholder": "​",
            "style": "IPY_MODEL_2f6a1bd7e89a498aada1d22603b109fa",
            "value": "merges.txt: 100%"
          }
        },
        "0db0d89daa3043d48a0df9d38856f621": {
          "model_module": "@jupyter-widgets/controls",
          "model_name": "FloatProgressModel",
          "model_module_version": "1.5.0",
          "state": {
            "_dom_classes": [],
            "_model_module": "@jupyter-widgets/controls",
            "_model_module_version": "1.5.0",
            "_model_name": "FloatProgressModel",
            "_view_count": null,
            "_view_module": "@jupyter-widgets/controls",
            "_view_module_version": "1.5.0",
            "_view_name": "ProgressView",
            "bar_style": "success",
            "description": "",
            "description_tooltip": null,
            "layout": "IPY_MODEL_6d4fa8be27b34da78caa98940d8d226f",
            "max": 456318,
            "min": 0,
            "orientation": "horizontal",
            "style": "IPY_MODEL_5a5742bf773443f2a2c5fbacda5b62a9",
            "value": 456318
          }
        },
        "135798d6d18f41799d68685b95be5482": {
          "model_module": "@jupyter-widgets/controls",
          "model_name": "HTMLModel",
          "model_module_version": "1.5.0",
          "state": {
            "_dom_classes": [],
            "_model_module": "@jupyter-widgets/controls",
            "_model_module_version": "1.5.0",
            "_model_name": "HTMLModel",
            "_view_count": null,
            "_view_module": "@jupyter-widgets/controls",
            "_view_module_version": "1.5.0",
            "_view_name": "HTMLView",
            "description": "",
            "description_tooltip": null,
            "layout": "IPY_MODEL_c3e4ad1468ec4397bf36f502d71effc1",
            "placeholder": "​",
            "style": "IPY_MODEL_9e42a448691248a9aefc416894f99960",
            "value": " 456k/456k [00:00&lt;00:00, 15.5MB/s]"
          }
        },
        "01cb9a53bcc54f989a09c9df799d4158": {
          "model_module": "@jupyter-widgets/base",
          "model_name": "LayoutModel",
          "model_module_version": "1.2.0",
          "state": {
            "_model_module": "@jupyter-widgets/base",
            "_model_module_version": "1.2.0",
            "_model_name": "LayoutModel",
            "_view_count": null,
            "_view_module": "@jupyter-widgets/base",
            "_view_module_version": "1.2.0",
            "_view_name": "LayoutView",
            "align_content": null,
            "align_items": null,
            "align_self": null,
            "border": null,
            "bottom": null,
            "display": null,
            "flex": null,
            "flex_flow": null,
            "grid_area": null,
            "grid_auto_columns": null,
            "grid_auto_flow": null,
            "grid_auto_rows": null,
            "grid_column": null,
            "grid_gap": null,
            "grid_row": null,
            "grid_template_areas": null,
            "grid_template_columns": null,
            "grid_template_rows": null,
            "height": null,
            "justify_content": null,
            "justify_items": null,
            "left": null,
            "margin": null,
            "max_height": null,
            "max_width": null,
            "min_height": null,
            "min_width": null,
            "object_fit": null,
            "object_position": null,
            "order": null,
            "overflow": null,
            "overflow_x": null,
            "overflow_y": null,
            "padding": null,
            "right": null,
            "top": null,
            "visibility": null,
            "width": null
          }
        },
        "b89fc46b6eb54949bf69938a4f76e261": {
          "model_module": "@jupyter-widgets/base",
          "model_name": "LayoutModel",
          "model_module_version": "1.2.0",
          "state": {
            "_model_module": "@jupyter-widgets/base",
            "_model_module_version": "1.2.0",
            "_model_name": "LayoutModel",
            "_view_count": null,
            "_view_module": "@jupyter-widgets/base",
            "_view_module_version": "1.2.0",
            "_view_name": "LayoutView",
            "align_content": null,
            "align_items": null,
            "align_self": null,
            "border": null,
            "bottom": null,
            "display": null,
            "flex": null,
            "flex_flow": null,
            "grid_area": null,
            "grid_auto_columns": null,
            "grid_auto_flow": null,
            "grid_auto_rows": null,
            "grid_column": null,
            "grid_gap": null,
            "grid_row": null,
            "grid_template_areas": null,
            "grid_template_columns": null,
            "grid_template_rows": null,
            "height": null,
            "justify_content": null,
            "justify_items": null,
            "left": null,
            "margin": null,
            "max_height": null,
            "max_width": null,
            "min_height": null,
            "min_width": null,
            "object_fit": null,
            "object_position": null,
            "order": null,
            "overflow": null,
            "overflow_x": null,
            "overflow_y": null,
            "padding": null,
            "right": null,
            "top": null,
            "visibility": null,
            "width": null
          }
        },
        "2f6a1bd7e89a498aada1d22603b109fa": {
          "model_module": "@jupyter-widgets/controls",
          "model_name": "DescriptionStyleModel",
          "model_module_version": "1.5.0",
          "state": {
            "_model_module": "@jupyter-widgets/controls",
            "_model_module_version": "1.5.0",
            "_model_name": "DescriptionStyleModel",
            "_view_count": null,
            "_view_module": "@jupyter-widgets/base",
            "_view_module_version": "1.2.0",
            "_view_name": "StyleView",
            "description_width": ""
          }
        },
        "6d4fa8be27b34da78caa98940d8d226f": {
          "model_module": "@jupyter-widgets/base",
          "model_name": "LayoutModel",
          "model_module_version": "1.2.0",
          "state": {
            "_model_module": "@jupyter-widgets/base",
            "_model_module_version": "1.2.0",
            "_model_name": "LayoutModel",
            "_view_count": null,
            "_view_module": "@jupyter-widgets/base",
            "_view_module_version": "1.2.0",
            "_view_name": "LayoutView",
            "align_content": null,
            "align_items": null,
            "align_self": null,
            "border": null,
            "bottom": null,
            "display": null,
            "flex": null,
            "flex_flow": null,
            "grid_area": null,
            "grid_auto_columns": null,
            "grid_auto_flow": null,
            "grid_auto_rows": null,
            "grid_column": null,
            "grid_gap": null,
            "grid_row": null,
            "grid_template_areas": null,
            "grid_template_columns": null,
            "grid_template_rows": null,
            "height": null,
            "justify_content": null,
            "justify_items": null,
            "left": null,
            "margin": null,
            "max_height": null,
            "max_width": null,
            "min_height": null,
            "min_width": null,
            "object_fit": null,
            "object_position": null,
            "order": null,
            "overflow": null,
            "overflow_x": null,
            "overflow_y": null,
            "padding": null,
            "right": null,
            "top": null,
            "visibility": null,
            "width": null
          }
        },
        "5a5742bf773443f2a2c5fbacda5b62a9": {
          "model_module": "@jupyter-widgets/controls",
          "model_name": "ProgressStyleModel",
          "model_module_version": "1.5.0",
          "state": {
            "_model_module": "@jupyter-widgets/controls",
            "_model_module_version": "1.5.0",
            "_model_name": "ProgressStyleModel",
            "_view_count": null,
            "_view_module": "@jupyter-widgets/base",
            "_view_module_version": "1.2.0",
            "_view_name": "StyleView",
            "bar_color": null,
            "description_width": ""
          }
        },
        "c3e4ad1468ec4397bf36f502d71effc1": {
          "model_module": "@jupyter-widgets/base",
          "model_name": "LayoutModel",
          "model_module_version": "1.2.0",
          "state": {
            "_model_module": "@jupyter-widgets/base",
            "_model_module_version": "1.2.0",
            "_model_name": "LayoutModel",
            "_view_count": null,
            "_view_module": "@jupyter-widgets/base",
            "_view_module_version": "1.2.0",
            "_view_name": "LayoutView",
            "align_content": null,
            "align_items": null,
            "align_self": null,
            "border": null,
            "bottom": null,
            "display": null,
            "flex": null,
            "flex_flow": null,
            "grid_area": null,
            "grid_auto_columns": null,
            "grid_auto_flow": null,
            "grid_auto_rows": null,
            "grid_column": null,
            "grid_gap": null,
            "grid_row": null,
            "grid_template_areas": null,
            "grid_template_columns": null,
            "grid_template_rows": null,
            "height": null,
            "justify_content": null,
            "justify_items": null,
            "left": null,
            "margin": null,
            "max_height": null,
            "max_width": null,
            "min_height": null,
            "min_width": null,
            "object_fit": null,
            "object_position": null,
            "order": null,
            "overflow": null,
            "overflow_x": null,
            "overflow_y": null,
            "padding": null,
            "right": null,
            "top": null,
            "visibility": null,
            "width": null
          }
        },
        "9e42a448691248a9aefc416894f99960": {
          "model_module": "@jupyter-widgets/controls",
          "model_name": "DescriptionStyleModel",
          "model_module_version": "1.5.0",
          "state": {
            "_model_module": "@jupyter-widgets/controls",
            "_model_module_version": "1.5.0",
            "_model_name": "DescriptionStyleModel",
            "_view_count": null,
            "_view_module": "@jupyter-widgets/base",
            "_view_module_version": "1.2.0",
            "_view_name": "StyleView",
            "description_width": ""
          }
        },
        "afb0ba215edc474296248cd2a06ec178": {
          "model_module": "@jupyter-widgets/controls",
          "model_name": "HBoxModel",
          "model_module_version": "1.5.0",
          "state": {
            "_dom_classes": [],
            "_model_module": "@jupyter-widgets/controls",
            "_model_module_version": "1.5.0",
            "_model_name": "HBoxModel",
            "_view_count": null,
            "_view_module": "@jupyter-widgets/controls",
            "_view_module_version": "1.5.0",
            "_view_name": "HBoxView",
            "box_style": "",
            "children": [
              "IPY_MODEL_3c9c5d8131fd4520b74c7b96c695595a",
              "IPY_MODEL_91d63f428de84d76b0db4aea6fbc494f",
              "IPY_MODEL_3c24b2ac55bb42f38c22a0f61a06e397"
            ],
            "layout": "IPY_MODEL_b8c40d5e1a0b4bd0a851c42a13c8ba30"
          }
        },
        "3c9c5d8131fd4520b74c7b96c695595a": {
          "model_module": "@jupyter-widgets/controls",
          "model_name": "HTMLModel",
          "model_module_version": "1.5.0",
          "state": {
            "_dom_classes": [],
            "_model_module": "@jupyter-widgets/controls",
            "_model_module_version": "1.5.0",
            "_model_name": "HTMLModel",
            "_view_count": null,
            "_view_module": "@jupyter-widgets/controls",
            "_view_module_version": "1.5.0",
            "_view_name": "HTMLView",
            "description": "",
            "description_tooltip": null,
            "layout": "IPY_MODEL_e82819b3d4944ea0b1ddf5c54af50d16",
            "placeholder": "​",
            "style": "IPY_MODEL_3484aa95e4b847c38ce6fecf01fc5a5e",
            "value": "tokenizer.json: 100%"
          }
        },
        "91d63f428de84d76b0db4aea6fbc494f": {
          "model_module": "@jupyter-widgets/controls",
          "model_name": "FloatProgressModel",
          "model_module_version": "1.5.0",
          "state": {
            "_dom_classes": [],
            "_model_module": "@jupyter-widgets/controls",
            "_model_module_version": "1.5.0",
            "_model_name": "FloatProgressModel",
            "_view_count": null,
            "_view_module": "@jupyter-widgets/controls",
            "_view_module_version": "1.5.0",
            "_view_name": "ProgressView",
            "bar_style": "success",
            "description": "",
            "description_tooltip": null,
            "layout": "IPY_MODEL_300654722e794456942f43dfb27e77e6",
            "max": 1355863,
            "min": 0,
            "orientation": "horizontal",
            "style": "IPY_MODEL_7a55bb53992648fe9e7a49576f78d5fe",
            "value": 1355863
          }
        },
        "3c24b2ac55bb42f38c22a0f61a06e397": {
          "model_module": "@jupyter-widgets/controls",
          "model_name": "HTMLModel",
          "model_module_version": "1.5.0",
          "state": {
            "_dom_classes": [],
            "_model_module": "@jupyter-widgets/controls",
            "_model_module_version": "1.5.0",
            "_model_name": "HTMLModel",
            "_view_count": null,
            "_view_module": "@jupyter-widgets/controls",
            "_view_module_version": "1.5.0",
            "_view_name": "HTMLView",
            "description": "",
            "description_tooltip": null,
            "layout": "IPY_MODEL_a2c57ea3747041098a7cbb1fc6e1cf71",
            "placeholder": "​",
            "style": "IPY_MODEL_d714cc8d23d64adb861c3ae8e611c885",
            "value": " 1.36M/1.36M [00:00&lt;00:00, 24.5MB/s]"
          }
        },
        "b8c40d5e1a0b4bd0a851c42a13c8ba30": {
          "model_module": "@jupyter-widgets/base",
          "model_name": "LayoutModel",
          "model_module_version": "1.2.0",
          "state": {
            "_model_module": "@jupyter-widgets/base",
            "_model_module_version": "1.2.0",
            "_model_name": "LayoutModel",
            "_view_count": null,
            "_view_module": "@jupyter-widgets/base",
            "_view_module_version": "1.2.0",
            "_view_name": "LayoutView",
            "align_content": null,
            "align_items": null,
            "align_self": null,
            "border": null,
            "bottom": null,
            "display": null,
            "flex": null,
            "flex_flow": null,
            "grid_area": null,
            "grid_auto_columns": null,
            "grid_auto_flow": null,
            "grid_auto_rows": null,
            "grid_column": null,
            "grid_gap": null,
            "grid_row": null,
            "grid_template_areas": null,
            "grid_template_columns": null,
            "grid_template_rows": null,
            "height": null,
            "justify_content": null,
            "justify_items": null,
            "left": null,
            "margin": null,
            "max_height": null,
            "max_width": null,
            "min_height": null,
            "min_width": null,
            "object_fit": null,
            "object_position": null,
            "order": null,
            "overflow": null,
            "overflow_x": null,
            "overflow_y": null,
            "padding": null,
            "right": null,
            "top": null,
            "visibility": null,
            "width": null
          }
        },
        "e82819b3d4944ea0b1ddf5c54af50d16": {
          "model_module": "@jupyter-widgets/base",
          "model_name": "LayoutModel",
          "model_module_version": "1.2.0",
          "state": {
            "_model_module": "@jupyter-widgets/base",
            "_model_module_version": "1.2.0",
            "_model_name": "LayoutModel",
            "_view_count": null,
            "_view_module": "@jupyter-widgets/base",
            "_view_module_version": "1.2.0",
            "_view_name": "LayoutView",
            "align_content": null,
            "align_items": null,
            "align_self": null,
            "border": null,
            "bottom": null,
            "display": null,
            "flex": null,
            "flex_flow": null,
            "grid_area": null,
            "grid_auto_columns": null,
            "grid_auto_flow": null,
            "grid_auto_rows": null,
            "grid_column": null,
            "grid_gap": null,
            "grid_row": null,
            "grid_template_areas": null,
            "grid_template_columns": null,
            "grid_template_rows": null,
            "height": null,
            "justify_content": null,
            "justify_items": null,
            "left": null,
            "margin": null,
            "max_height": null,
            "max_width": null,
            "min_height": null,
            "min_width": null,
            "object_fit": null,
            "object_position": null,
            "order": null,
            "overflow": null,
            "overflow_x": null,
            "overflow_y": null,
            "padding": null,
            "right": null,
            "top": null,
            "visibility": null,
            "width": null
          }
        },
        "3484aa95e4b847c38ce6fecf01fc5a5e": {
          "model_module": "@jupyter-widgets/controls",
          "model_name": "DescriptionStyleModel",
          "model_module_version": "1.5.0",
          "state": {
            "_model_module": "@jupyter-widgets/controls",
            "_model_module_version": "1.5.0",
            "_model_name": "DescriptionStyleModel",
            "_view_count": null,
            "_view_module": "@jupyter-widgets/base",
            "_view_module_version": "1.2.0",
            "_view_name": "StyleView",
            "description_width": ""
          }
        },
        "300654722e794456942f43dfb27e77e6": {
          "model_module": "@jupyter-widgets/base",
          "model_name": "LayoutModel",
          "model_module_version": "1.2.0",
          "state": {
            "_model_module": "@jupyter-widgets/base",
            "_model_module_version": "1.2.0",
            "_model_name": "LayoutModel",
            "_view_count": null,
            "_view_module": "@jupyter-widgets/base",
            "_view_module_version": "1.2.0",
            "_view_name": "LayoutView",
            "align_content": null,
            "align_items": null,
            "align_self": null,
            "border": null,
            "bottom": null,
            "display": null,
            "flex": null,
            "flex_flow": null,
            "grid_area": null,
            "grid_auto_columns": null,
            "grid_auto_flow": null,
            "grid_auto_rows": null,
            "grid_column": null,
            "grid_gap": null,
            "grid_row": null,
            "grid_template_areas": null,
            "grid_template_columns": null,
            "grid_template_rows": null,
            "height": null,
            "justify_content": null,
            "justify_items": null,
            "left": null,
            "margin": null,
            "max_height": null,
            "max_width": null,
            "min_height": null,
            "min_width": null,
            "object_fit": null,
            "object_position": null,
            "order": null,
            "overflow": null,
            "overflow_x": null,
            "overflow_y": null,
            "padding": null,
            "right": null,
            "top": null,
            "visibility": null,
            "width": null
          }
        },
        "7a55bb53992648fe9e7a49576f78d5fe": {
          "model_module": "@jupyter-widgets/controls",
          "model_name": "ProgressStyleModel",
          "model_module_version": "1.5.0",
          "state": {
            "_model_module": "@jupyter-widgets/controls",
            "_model_module_version": "1.5.0",
            "_model_name": "ProgressStyleModel",
            "_view_count": null,
            "_view_module": "@jupyter-widgets/base",
            "_view_module_version": "1.2.0",
            "_view_name": "StyleView",
            "bar_color": null,
            "description_width": ""
          }
        },
        "a2c57ea3747041098a7cbb1fc6e1cf71": {
          "model_module": "@jupyter-widgets/base",
          "model_name": "LayoutModel",
          "model_module_version": "1.2.0",
          "state": {
            "_model_module": "@jupyter-widgets/base",
            "_model_module_version": "1.2.0",
            "_model_name": "LayoutModel",
            "_view_count": null,
            "_view_module": "@jupyter-widgets/base",
            "_view_module_version": "1.2.0",
            "_view_name": "LayoutView",
            "align_content": null,
            "align_items": null,
            "align_self": null,
            "border": null,
            "bottom": null,
            "display": null,
            "flex": null,
            "flex_flow": null,
            "grid_area": null,
            "grid_auto_columns": null,
            "grid_auto_flow": null,
            "grid_auto_rows": null,
            "grid_column": null,
            "grid_gap": null,
            "grid_row": null,
            "grid_template_areas": null,
            "grid_template_columns": null,
            "grid_template_rows": null,
            "height": null,
            "justify_content": null,
            "justify_items": null,
            "left": null,
            "margin": null,
            "max_height": null,
            "max_width": null,
            "min_height": null,
            "min_width": null,
            "object_fit": null,
            "object_position": null,
            "order": null,
            "overflow": null,
            "overflow_x": null,
            "overflow_y": null,
            "padding": null,
            "right": null,
            "top": null,
            "visibility": null,
            "width": null
          }
        },
        "d714cc8d23d64adb861c3ae8e611c885": {
          "model_module": "@jupyter-widgets/controls",
          "model_name": "DescriptionStyleModel",
          "model_module_version": "1.5.0",
          "state": {
            "_model_module": "@jupyter-widgets/controls",
            "_model_module_version": "1.5.0",
            "_model_name": "DescriptionStyleModel",
            "_view_count": null,
            "_view_module": "@jupyter-widgets/base",
            "_view_module_version": "1.2.0",
            "_view_name": "StyleView",
            "description_width": ""
          }
        },
        "b2858631324f44b9aaa428f4618e5be1": {
          "model_module": "@jupyter-widgets/controls",
          "model_name": "HBoxModel",
          "model_module_version": "1.5.0",
          "state": {
            "_dom_classes": [],
            "_model_module": "@jupyter-widgets/controls",
            "_model_module_version": "1.5.0",
            "_model_name": "HBoxModel",
            "_view_count": null,
            "_view_module": "@jupyter-widgets/controls",
            "_view_module_version": "1.5.0",
            "_view_name": "HBoxView",
            "box_style": "",
            "children": [
              "IPY_MODEL_f5fb768cb4244eafb5df89259a35772b",
              "IPY_MODEL_ebb1a8be9c93423c935061ce85c6342b",
              "IPY_MODEL_2864c98721594434bfc12eec3143d91c"
            ],
            "layout": "IPY_MODEL_f1b54636a6ba4509bb1357b878d6523f"
          }
        },
        "f5fb768cb4244eafb5df89259a35772b": {
          "model_module": "@jupyter-widgets/controls",
          "model_name": "HTMLModel",
          "model_module_version": "1.5.0",
          "state": {
            "_dom_classes": [],
            "_model_module": "@jupyter-widgets/controls",
            "_model_module_version": "1.5.0",
            "_model_name": "HTMLModel",
            "_view_count": null,
            "_view_module": "@jupyter-widgets/controls",
            "_view_module_version": "1.5.0",
            "_view_name": "HTMLView",
            "description": "",
            "description_tooltip": null,
            "layout": "IPY_MODEL_a1d0eb7674ed4fe1a26235ab9827a85f",
            "placeholder": "​",
            "style": "IPY_MODEL_3317ae95c7324563980288e1873259a3",
            "value": "model.safetensors: 100%"
          }
        },
        "ebb1a8be9c93423c935061ce85c6342b": {
          "model_module": "@jupyter-widgets/controls",
          "model_name": "FloatProgressModel",
          "model_module_version": "1.5.0",
          "state": {
            "_dom_classes": [],
            "_model_module": "@jupyter-widgets/controls",
            "_model_module_version": "1.5.0",
            "_model_name": "FloatProgressModel",
            "_view_count": null,
            "_view_module": "@jupyter-widgets/controls",
            "_view_module_version": "1.5.0",
            "_view_name": "ProgressView",
            "bar_style": "success",
            "description": "",
            "description_tooltip": null,
            "layout": "IPY_MODEL_9cdca627f4324ea89c0cc48edfcbec9e",
            "max": 498818054,
            "min": 0,
            "orientation": "horizontal",
            "style": "IPY_MODEL_37445ac4cd304af8bf9d9bfad7791c2f",
            "value": 498818054
          }
        },
        "2864c98721594434bfc12eec3143d91c": {
          "model_module": "@jupyter-widgets/controls",
          "model_name": "HTMLModel",
          "model_module_version": "1.5.0",
          "state": {
            "_dom_classes": [],
            "_model_module": "@jupyter-widgets/controls",
            "_model_module_version": "1.5.0",
            "_model_name": "HTMLModel",
            "_view_count": null,
            "_view_module": "@jupyter-widgets/controls",
            "_view_module_version": "1.5.0",
            "_view_name": "HTMLView",
            "description": "",
            "description_tooltip": null,
            "layout": "IPY_MODEL_5dd2d1c618744299abf01e3eaf06989b",
            "placeholder": "​",
            "style": "IPY_MODEL_634393890f3740448aa95b0b78f765a8",
            "value": " 499M/499M [00:07&lt;00:00, 83.8MB/s]"
          }
        },
        "f1b54636a6ba4509bb1357b878d6523f": {
          "model_module": "@jupyter-widgets/base",
          "model_name": "LayoutModel",
          "model_module_version": "1.2.0",
          "state": {
            "_model_module": "@jupyter-widgets/base",
            "_model_module_version": "1.2.0",
            "_model_name": "LayoutModel",
            "_view_count": null,
            "_view_module": "@jupyter-widgets/base",
            "_view_module_version": "1.2.0",
            "_view_name": "LayoutView",
            "align_content": null,
            "align_items": null,
            "align_self": null,
            "border": null,
            "bottom": null,
            "display": null,
            "flex": null,
            "flex_flow": null,
            "grid_area": null,
            "grid_auto_columns": null,
            "grid_auto_flow": null,
            "grid_auto_rows": null,
            "grid_column": null,
            "grid_gap": null,
            "grid_row": null,
            "grid_template_areas": null,
            "grid_template_columns": null,
            "grid_template_rows": null,
            "height": null,
            "justify_content": null,
            "justify_items": null,
            "left": null,
            "margin": null,
            "max_height": null,
            "max_width": null,
            "min_height": null,
            "min_width": null,
            "object_fit": null,
            "object_position": null,
            "order": null,
            "overflow": null,
            "overflow_x": null,
            "overflow_y": null,
            "padding": null,
            "right": null,
            "top": null,
            "visibility": null,
            "width": null
          }
        },
        "a1d0eb7674ed4fe1a26235ab9827a85f": {
          "model_module": "@jupyter-widgets/base",
          "model_name": "LayoutModel",
          "model_module_version": "1.2.0",
          "state": {
            "_model_module": "@jupyter-widgets/base",
            "_model_module_version": "1.2.0",
            "_model_name": "LayoutModel",
            "_view_count": null,
            "_view_module": "@jupyter-widgets/base",
            "_view_module_version": "1.2.0",
            "_view_name": "LayoutView",
            "align_content": null,
            "align_items": null,
            "align_self": null,
            "border": null,
            "bottom": null,
            "display": null,
            "flex": null,
            "flex_flow": null,
            "grid_area": null,
            "grid_auto_columns": null,
            "grid_auto_flow": null,
            "grid_auto_rows": null,
            "grid_column": null,
            "grid_gap": null,
            "grid_row": null,
            "grid_template_areas": null,
            "grid_template_columns": null,
            "grid_template_rows": null,
            "height": null,
            "justify_content": null,
            "justify_items": null,
            "left": null,
            "margin": null,
            "max_height": null,
            "max_width": null,
            "min_height": null,
            "min_width": null,
            "object_fit": null,
            "object_position": null,
            "order": null,
            "overflow": null,
            "overflow_x": null,
            "overflow_y": null,
            "padding": null,
            "right": null,
            "top": null,
            "visibility": null,
            "width": null
          }
        },
        "3317ae95c7324563980288e1873259a3": {
          "model_module": "@jupyter-widgets/controls",
          "model_name": "DescriptionStyleModel",
          "model_module_version": "1.5.0",
          "state": {
            "_model_module": "@jupyter-widgets/controls",
            "_model_module_version": "1.5.0",
            "_model_name": "DescriptionStyleModel",
            "_view_count": null,
            "_view_module": "@jupyter-widgets/base",
            "_view_module_version": "1.2.0",
            "_view_name": "StyleView",
            "description_width": ""
          }
        },
        "9cdca627f4324ea89c0cc48edfcbec9e": {
          "model_module": "@jupyter-widgets/base",
          "model_name": "LayoutModel",
          "model_module_version": "1.2.0",
          "state": {
            "_model_module": "@jupyter-widgets/base",
            "_model_module_version": "1.2.0",
            "_model_name": "LayoutModel",
            "_view_count": null,
            "_view_module": "@jupyter-widgets/base",
            "_view_module_version": "1.2.0",
            "_view_name": "LayoutView",
            "align_content": null,
            "align_items": null,
            "align_self": null,
            "border": null,
            "bottom": null,
            "display": null,
            "flex": null,
            "flex_flow": null,
            "grid_area": null,
            "grid_auto_columns": null,
            "grid_auto_flow": null,
            "grid_auto_rows": null,
            "grid_column": null,
            "grid_gap": null,
            "grid_row": null,
            "grid_template_areas": null,
            "grid_template_columns": null,
            "grid_template_rows": null,
            "height": null,
            "justify_content": null,
            "justify_items": null,
            "left": null,
            "margin": null,
            "max_height": null,
            "max_width": null,
            "min_height": null,
            "min_width": null,
            "object_fit": null,
            "object_position": null,
            "order": null,
            "overflow": null,
            "overflow_x": null,
            "overflow_y": null,
            "padding": null,
            "right": null,
            "top": null,
            "visibility": null,
            "width": null
          }
        },
        "37445ac4cd304af8bf9d9bfad7791c2f": {
          "model_module": "@jupyter-widgets/controls",
          "model_name": "ProgressStyleModel",
          "model_module_version": "1.5.0",
          "state": {
            "_model_module": "@jupyter-widgets/controls",
            "_model_module_version": "1.5.0",
            "_model_name": "ProgressStyleModel",
            "_view_count": null,
            "_view_module": "@jupyter-widgets/base",
            "_view_module_version": "1.2.0",
            "_view_name": "StyleView",
            "bar_color": null,
            "description_width": ""
          }
        },
        "5dd2d1c618744299abf01e3eaf06989b": {
          "model_module": "@jupyter-widgets/base",
          "model_name": "LayoutModel",
          "model_module_version": "1.2.0",
          "state": {
            "_model_module": "@jupyter-widgets/base",
            "_model_module_version": "1.2.0",
            "_model_name": "LayoutModel",
            "_view_count": null,
            "_view_module": "@jupyter-widgets/base",
            "_view_module_version": "1.2.0",
            "_view_name": "LayoutView",
            "align_content": null,
            "align_items": null,
            "align_self": null,
            "border": null,
            "bottom": null,
            "display": null,
            "flex": null,
            "flex_flow": null,
            "grid_area": null,
            "grid_auto_columns": null,
            "grid_auto_flow": null,
            "grid_auto_rows": null,
            "grid_column": null,
            "grid_gap": null,
            "grid_row": null,
            "grid_template_areas": null,
            "grid_template_columns": null,
            "grid_template_rows": null,
            "height": null,
            "justify_content": null,
            "justify_items": null,
            "left": null,
            "margin": null,
            "max_height": null,
            "max_width": null,
            "min_height": null,
            "min_width": null,
            "object_fit": null,
            "object_position": null,
            "order": null,
            "overflow": null,
            "overflow_x": null,
            "overflow_y": null,
            "padding": null,
            "right": null,
            "top": null,
            "visibility": null,
            "width": null
          }
        },
        "634393890f3740448aa95b0b78f765a8": {
          "model_module": "@jupyter-widgets/controls",
          "model_name": "DescriptionStyleModel",
          "model_module_version": "1.5.0",
          "state": {
            "_model_module": "@jupyter-widgets/controls",
            "_model_module_version": "1.5.0",
            "_model_name": "DescriptionStyleModel",
            "_view_count": null,
            "_view_module": "@jupyter-widgets/base",
            "_view_module_version": "1.2.0",
            "_view_name": "StyleView",
            "description_width": ""
          }
        },
        "0db0e8e9ee87488bb7d1ffdccf337059": {
          "model_module": "@jupyter-widgets/controls",
          "model_name": "HBoxModel",
          "model_module_version": "1.5.0",
          "state": {
            "_dom_classes": [],
            "_model_module": "@jupyter-widgets/controls",
            "_model_module_version": "1.5.0",
            "_model_name": "HBoxModel",
            "_view_count": null,
            "_view_module": "@jupyter-widgets/controls",
            "_view_module_version": "1.5.0",
            "_view_name": "HBoxView",
            "box_style": "",
            "children": [
              "IPY_MODEL_30b96f1216a34ee7b29dd9837d0445c0",
              "IPY_MODEL_71c729675e8841a8a33bb38d683da3b3",
              "IPY_MODEL_62bb295e9d8941be8bb22e7b9f74c22e"
            ],
            "layout": "IPY_MODEL_3b3ef01adf824aadb4cac3a1ab185949"
          }
        },
        "30b96f1216a34ee7b29dd9837d0445c0": {
          "model_module": "@jupyter-widgets/controls",
          "model_name": "HTMLModel",
          "model_module_version": "1.5.0",
          "state": {
            "_dom_classes": [],
            "_model_module": "@jupyter-widgets/controls",
            "_model_module_version": "1.5.0",
            "_model_name": "HTMLModel",
            "_view_count": null,
            "_view_module": "@jupyter-widgets/controls",
            "_view_module_version": "1.5.0",
            "_view_name": "HTMLView",
            "description": "",
            "description_tooltip": null,
            "layout": "IPY_MODEL_7aa538acfbc740ff9e9d5ae35266cb2f",
            "placeholder": "​",
            "style": "IPY_MODEL_c907071b1f5d406a9734669600af7069",
            "value": "config.json: 100%"
          }
        },
        "71c729675e8841a8a33bb38d683da3b3": {
          "model_module": "@jupyter-widgets/controls",
          "model_name": "FloatProgressModel",
          "model_module_version": "1.5.0",
          "state": {
            "_dom_classes": [],
            "_model_module": "@jupyter-widgets/controls",
            "_model_module_version": "1.5.0",
            "_model_name": "FloatProgressModel",
            "_view_count": null,
            "_view_module": "@jupyter-widgets/controls",
            "_view_module_version": "1.5.0",
            "_view_name": "ProgressView",
            "bar_style": "success",
            "description": "",
            "description_tooltip": null,
            "layout": "IPY_MODEL_4ce4e2488ae3460a9d457cb93dfe9772",
            "max": 570,
            "min": 0,
            "orientation": "horizontal",
            "style": "IPY_MODEL_0a1a32436d8a410c9af01249c6fc7938",
            "value": 570
          }
        },
        "62bb295e9d8941be8bb22e7b9f74c22e": {
          "model_module": "@jupyter-widgets/controls",
          "model_name": "HTMLModel",
          "model_module_version": "1.5.0",
          "state": {
            "_dom_classes": [],
            "_model_module": "@jupyter-widgets/controls",
            "_model_module_version": "1.5.0",
            "_model_name": "HTMLModel",
            "_view_count": null,
            "_view_module": "@jupyter-widgets/controls",
            "_view_module_version": "1.5.0",
            "_view_name": "HTMLView",
            "description": "",
            "description_tooltip": null,
            "layout": "IPY_MODEL_b6d29554d22c4e48ab58457e77963693",
            "placeholder": "​",
            "style": "IPY_MODEL_0250b6f8ad53462d8f64121f181c3a42",
            "value": " 570/570 [00:00&lt;00:00, 43.5kB/s]"
          }
        },
        "3b3ef01adf824aadb4cac3a1ab185949": {
          "model_module": "@jupyter-widgets/base",
          "model_name": "LayoutModel",
          "model_module_version": "1.2.0",
          "state": {
            "_model_module": "@jupyter-widgets/base",
            "_model_module_version": "1.2.0",
            "_model_name": "LayoutModel",
            "_view_count": null,
            "_view_module": "@jupyter-widgets/base",
            "_view_module_version": "1.2.0",
            "_view_name": "LayoutView",
            "align_content": null,
            "align_items": null,
            "align_self": null,
            "border": null,
            "bottom": null,
            "display": null,
            "flex": null,
            "flex_flow": null,
            "grid_area": null,
            "grid_auto_columns": null,
            "grid_auto_flow": null,
            "grid_auto_rows": null,
            "grid_column": null,
            "grid_gap": null,
            "grid_row": null,
            "grid_template_areas": null,
            "grid_template_columns": null,
            "grid_template_rows": null,
            "height": null,
            "justify_content": null,
            "justify_items": null,
            "left": null,
            "margin": null,
            "max_height": null,
            "max_width": null,
            "min_height": null,
            "min_width": null,
            "object_fit": null,
            "object_position": null,
            "order": null,
            "overflow": null,
            "overflow_x": null,
            "overflow_y": null,
            "padding": null,
            "right": null,
            "top": null,
            "visibility": null,
            "width": null
          }
        },
        "7aa538acfbc740ff9e9d5ae35266cb2f": {
          "model_module": "@jupyter-widgets/base",
          "model_name": "LayoutModel",
          "model_module_version": "1.2.0",
          "state": {
            "_model_module": "@jupyter-widgets/base",
            "_model_module_version": "1.2.0",
            "_model_name": "LayoutModel",
            "_view_count": null,
            "_view_module": "@jupyter-widgets/base",
            "_view_module_version": "1.2.0",
            "_view_name": "LayoutView",
            "align_content": null,
            "align_items": null,
            "align_self": null,
            "border": null,
            "bottom": null,
            "display": null,
            "flex": null,
            "flex_flow": null,
            "grid_area": null,
            "grid_auto_columns": null,
            "grid_auto_flow": null,
            "grid_auto_rows": null,
            "grid_column": null,
            "grid_gap": null,
            "grid_row": null,
            "grid_template_areas": null,
            "grid_template_columns": null,
            "grid_template_rows": null,
            "height": null,
            "justify_content": null,
            "justify_items": null,
            "left": null,
            "margin": null,
            "max_height": null,
            "max_width": null,
            "min_height": null,
            "min_width": null,
            "object_fit": null,
            "object_position": null,
            "order": null,
            "overflow": null,
            "overflow_x": null,
            "overflow_y": null,
            "padding": null,
            "right": null,
            "top": null,
            "visibility": null,
            "width": null
          }
        },
        "c907071b1f5d406a9734669600af7069": {
          "model_module": "@jupyter-widgets/controls",
          "model_name": "DescriptionStyleModel",
          "model_module_version": "1.5.0",
          "state": {
            "_model_module": "@jupyter-widgets/controls",
            "_model_module_version": "1.5.0",
            "_model_name": "DescriptionStyleModel",
            "_view_count": null,
            "_view_module": "@jupyter-widgets/base",
            "_view_module_version": "1.2.0",
            "_view_name": "StyleView",
            "description_width": ""
          }
        },
        "4ce4e2488ae3460a9d457cb93dfe9772": {
          "model_module": "@jupyter-widgets/base",
          "model_name": "LayoutModel",
          "model_module_version": "1.2.0",
          "state": {
            "_model_module": "@jupyter-widgets/base",
            "_model_module_version": "1.2.0",
            "_model_name": "LayoutModel",
            "_view_count": null,
            "_view_module": "@jupyter-widgets/base",
            "_view_module_version": "1.2.0",
            "_view_name": "LayoutView",
            "align_content": null,
            "align_items": null,
            "align_self": null,
            "border": null,
            "bottom": null,
            "display": null,
            "flex": null,
            "flex_flow": null,
            "grid_area": null,
            "grid_auto_columns": null,
            "grid_auto_flow": null,
            "grid_auto_rows": null,
            "grid_column": null,
            "grid_gap": null,
            "grid_row": null,
            "grid_template_areas": null,
            "grid_template_columns": null,
            "grid_template_rows": null,
            "height": null,
            "justify_content": null,
            "justify_items": null,
            "left": null,
            "margin": null,
            "max_height": null,
            "max_width": null,
            "min_height": null,
            "min_width": null,
            "object_fit": null,
            "object_position": null,
            "order": null,
            "overflow": null,
            "overflow_x": null,
            "overflow_y": null,
            "padding": null,
            "right": null,
            "top": null,
            "visibility": null,
            "width": null
          }
        },
        "0a1a32436d8a410c9af01249c6fc7938": {
          "model_module": "@jupyter-widgets/controls",
          "model_name": "ProgressStyleModel",
          "model_module_version": "1.5.0",
          "state": {
            "_model_module": "@jupyter-widgets/controls",
            "_model_module_version": "1.5.0",
            "_model_name": "ProgressStyleModel",
            "_view_count": null,
            "_view_module": "@jupyter-widgets/base",
            "_view_module_version": "1.2.0",
            "_view_name": "StyleView",
            "bar_color": null,
            "description_width": ""
          }
        },
        "b6d29554d22c4e48ab58457e77963693": {
          "model_module": "@jupyter-widgets/base",
          "model_name": "LayoutModel",
          "model_module_version": "1.2.0",
          "state": {
            "_model_module": "@jupyter-widgets/base",
            "_model_module_version": "1.2.0",
            "_model_name": "LayoutModel",
            "_view_count": null,
            "_view_module": "@jupyter-widgets/base",
            "_view_module_version": "1.2.0",
            "_view_name": "LayoutView",
            "align_content": null,
            "align_items": null,
            "align_self": null,
            "border": null,
            "bottom": null,
            "display": null,
            "flex": null,
            "flex_flow": null,
            "grid_area": null,
            "grid_auto_columns": null,
            "grid_auto_flow": null,
            "grid_auto_rows": null,
            "grid_column": null,
            "grid_gap": null,
            "grid_row": null,
            "grid_template_areas": null,
            "grid_template_columns": null,
            "grid_template_rows": null,
            "height": null,
            "justify_content": null,
            "justify_items": null,
            "left": null,
            "margin": null,
            "max_height": null,
            "max_width": null,
            "min_height": null,
            "min_width": null,
            "object_fit": null,
            "object_position": null,
            "order": null,
            "overflow": null,
            "overflow_x": null,
            "overflow_y": null,
            "padding": null,
            "right": null,
            "top": null,
            "visibility": null,
            "width": null
          }
        },
        "0250b6f8ad53462d8f64121f181c3a42": {
          "model_module": "@jupyter-widgets/controls",
          "model_name": "DescriptionStyleModel",
          "model_module_version": "1.5.0",
          "state": {
            "_model_module": "@jupyter-widgets/controls",
            "_model_module_version": "1.5.0",
            "_model_name": "DescriptionStyleModel",
            "_view_count": null,
            "_view_module": "@jupyter-widgets/base",
            "_view_module_version": "1.2.0",
            "_view_name": "StyleView",
            "description_width": ""
          }
        }
      }
    },
    "colab": {
      "provenance": [],
      "machine_shape": "hm",
      "gpuType": "L4"
    },
    "accelerator": "GPU"
  },
  "nbformat": 4,
  "nbformat_minor": 0
}