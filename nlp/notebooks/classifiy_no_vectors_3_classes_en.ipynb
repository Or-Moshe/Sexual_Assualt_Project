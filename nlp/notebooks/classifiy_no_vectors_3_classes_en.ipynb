{
  "cells": [
    {
      "cell_type": "code",
      "execution_count": null,
      "metadata": {
        "colab": {
          "base_uri": "https://localhost:8080/",
          "height": 36
        },
        "id": "WgMOb86o-BFx",
        "outputId": "82a32fe0-e24b-4559-dbcd-be2d32c8afbd"
      },
      "outputs": [
        {
          "output_type": "execute_result",
          "data": {
            "text/plain": [
              "'cuda'"
            ],
            "application/vnd.google.colaboratory.intrinsic+json": {
              "type": "string"
            }
          },
          "metadata": {},
          "execution_count": 1
        }
      ],
      "source": [
        "from torch import cuda\n",
        "device = 'cuda' if cuda.is_available() else 'cpu'\n",
        "device"
      ]
    },
    {
      "cell_type": "code",
      "execution_count": null,
      "metadata": {
        "id": "rUaYNuvD-Qmn"
      },
      "outputs": [],
      "source": [
        "import pandas as pd\n",
        "column_to_predict = 'transcriptConsumer_en'\n",
        "important_cols = ['conversationId', 'firstConversation', 'transcriptAll', 'transcriptConsumer', 'transcriptConsumer_en', 'classification', 'classification 2', 'despair',\t'loneliness', 'emotional overflow',\t'self blame',\t'anxiety',\t'distrust / confusion',\t'new assault / new exposure',\t'level of suicide/ level of risk',\t'obligation to report occording law',\t'support for support circuls']"
      ]
    },
    {
      "cell_type": "code",
      "execution_count": null,
      "metadata": {
        "colab": {
          "base_uri": "https://localhost:8080/"
        },
        "id": "p__a4tqg-T_8",
        "outputId": "4612dde3-c708-43ab-8d55-725d5e7ed17d"
      },
      "outputs": [
        {
          "output_type": "stream",
          "name": "stdout",
          "text": [
            "Drive already mounted at /content/drive; to attempt to forcibly remount, call drive.mount(\"/content/drive\", force_remount=True).\n"
          ]
        }
      ],
      "source": [
        "from google.colab import drive\n",
        "drive.mount('/content/drive')\n",
        "drive_path = '/content/drive/My Drive/nlp-projects/inputs/he/clean_1.8.23_19.9.23.xlsx'"
      ]
    },
    {
      "cell_type": "code",
      "source": [
        "def translate_columns(filtered_df, columns_to_translate, chunk_size, src='he', dest='en'):\n",
        "    # Initialize the Translator object\n",
        "    translator = Translator()\n",
        "\n",
        "    # Function to translate text\n",
        "    def translate_text(text):\n",
        "        if pd.isna(text):\n",
        "            return None  # Return None if text is NaN\n",
        "        try:\n",
        "            # Split text into chunks with a word count greater than 600\n",
        "            chunks = [text[i:i+chunk_size] for i in range(0, len(text), chunk_size)]\n",
        "            translated_chunks = []\n",
        "            # Translate each chunk\n",
        "            for chunk in chunks:\n",
        "                result = translator.translate(chunk, src=src, dest=dest)\n",
        "                translated_chunks.append(result.text)\n",
        "            # Concatenate translated chunks\n",
        "            translated_text = ' '.join(translated_chunks)\n",
        "            return translated_text\n",
        "        except Exception as e:\n",
        "            #print(f\"Error translating text: '{text}'. Error: {e}\")\n",
        "            return \"Translation failed\"\n",
        "\n",
        "    # Translate each specified column\n",
        "    for column in columns_to_translate:\n",
        "        # Apply translation to each row in the column\n",
        "        filtered_df[f'{column}_en'] = filtered_df[column].apply(translate_text)\n",
        "\n",
        "    return filtered_df"
      ],
      "metadata": {
        "id": "5dNdNwCSJI5W"
      },
      "execution_count": null,
      "outputs": []
    },
    {
      "cell_type": "code",
      "execution_count": null,
      "metadata": {
        "colab": {
          "base_uri": "https://localhost:8080/"
        },
        "id": "N3dI_koG_MhN",
        "outputId": "1f52a271-b0fa-4a96-e5eb-b6e5bef600a5"
      },
      "outputs": [
        {
          "output_type": "execute_result",
          "data": {
            "text/plain": [
              "(1037, 20)"
            ]
          },
          "metadata": {},
          "execution_count": 5
        }
      ],
      "source": [
        "df = pd.read_excel(drive_path)\n",
        "df.shape"
      ]
    },
    {
      "cell_type": "code",
      "source": [
        "!pip install googletrans==3.1.0a0\n",
        "from googletrans import Translator"
      ],
      "metadata": {
        "colab": {
          "base_uri": "https://localhost:8080/"
        },
        "id": "ePOTVbFMJMsH",
        "outputId": "3c5c999f-f8ec-48a4-a289-e62123ff5713"
      },
      "execution_count": null,
      "outputs": [
        {
          "output_type": "stream",
          "name": "stdout",
          "text": [
            "Requirement already satisfied: googletrans==3.1.0a0 in /usr/local/lib/python3.10/dist-packages (3.1.0a0)\n",
            "Requirement already satisfied: httpx==0.13.3 in /usr/local/lib/python3.10/dist-packages (from googletrans==3.1.0a0) (0.13.3)\n",
            "Requirement already satisfied: certifi in /usr/local/lib/python3.10/dist-packages (from httpx==0.13.3->googletrans==3.1.0a0) (2024.7.4)\n",
            "Requirement already satisfied: hstspreload in /usr/local/lib/python3.10/dist-packages (from httpx==0.13.3->googletrans==3.1.0a0) (2024.7.1)\n",
            "Requirement already satisfied: sniffio in /usr/local/lib/python3.10/dist-packages (from httpx==0.13.3->googletrans==3.1.0a0) (1.3.1)\n",
            "Requirement already satisfied: chardet==3.* in /usr/local/lib/python3.10/dist-packages (from httpx==0.13.3->googletrans==3.1.0a0) (3.0.4)\n",
            "Requirement already satisfied: idna==2.* in /usr/local/lib/python3.10/dist-packages (from httpx==0.13.3->googletrans==3.1.0a0) (2.10)\n",
            "Requirement already satisfied: rfc3986<2,>=1.3 in /usr/local/lib/python3.10/dist-packages (from httpx==0.13.3->googletrans==3.1.0a0) (1.5.0)\n",
            "Requirement already satisfied: httpcore==0.9.* in /usr/local/lib/python3.10/dist-packages (from httpx==0.13.3->googletrans==3.1.0a0) (0.9.1)\n",
            "Requirement already satisfied: h11<0.10,>=0.8 in /usr/local/lib/python3.10/dist-packages (from httpcore==0.9.*->httpx==0.13.3->googletrans==3.1.0a0) (0.9.0)\n",
            "Requirement already satisfied: h2==3.* in /usr/local/lib/python3.10/dist-packages (from httpcore==0.9.*->httpx==0.13.3->googletrans==3.1.0a0) (3.2.0)\n",
            "Requirement already satisfied: hyperframe<6,>=5.2.0 in /usr/local/lib/python3.10/dist-packages (from h2==3.*->httpcore==0.9.*->httpx==0.13.3->googletrans==3.1.0a0) (5.2.0)\n",
            "Requirement already satisfied: hpack<4,>=3.0 in /usr/local/lib/python3.10/dist-packages (from h2==3.*->httpcore==0.9.*->httpx==0.13.3->googletrans==3.1.0a0) (3.0.0)\n"
          ]
        }
      ]
    },
    {
      "cell_type": "code",
      "source": [
        "df = translate_columns(df, ['transcriptConsumer'], 600, src='he', dest='en')\n",
        "df.to_excel('/content/drive/My Drive/nlp-projects/inputs/en/clean_translated_1.8.23_19.9.23.xlsx', index=False)"
      ],
      "metadata": {
        "id": "m1ukYq7AI8l5"
      },
      "execution_count": null,
      "outputs": []
    },
    {
      "cell_type": "code",
      "execution_count": null,
      "metadata": {
        "id": "f4gD-IRz_XL2"
      },
      "outputs": [],
      "source": [
        "df[column_to_predict] = df[column_to_predict].astype(str)"
      ]
    },
    {
      "cell_type": "code",
      "execution_count": null,
      "metadata": {
        "colab": {
          "base_uri": "https://localhost:8080/"
        },
        "id": "6sQKlKTr_eM-",
        "outputId": "260d9c0a-9bba-43a1-c874-f78dd957c463"
      },
      "outputs": [
        {
          "output_type": "execute_result",
          "data": {
            "text/plain": [
              "<Axes: ylabel='count'>"
            ]
          },
          "metadata": {},
          "execution_count": 9
        },
        {
          "output_type": "display_data",
          "data": {
            "text/plain": [
              "<Figure size 1000x1000 with 1 Axes>"
            ],
            "image/png": "[encoded data removed]"
          },
          "metadata": {}
        }
      ],
      "source": [
        "df['classification'].value_counts().plot(kind='pie', figsize=(10,10), autopct='%1.1f%%')"
      ]
    },
    {
      "cell_type": "code",
      "execution_count": null,
      "metadata": {
        "id": "XR27JJ01_q35"
      },
      "outputs": [],
      "source": [
        "label_mapping = {\n",
        "    0: 0,\n",
        "    1: 1,\n",
        "    2: 2,\n",
        "    3: 2,\n",
        "    4: 1,\n",
        "    5: 1,\n",
        "    6: 1\n",
        "}\n",
        "\n",
        "# Create a new column by mapping the original labels to the new labels\n",
        "df['new_classification'] = df['classification'].map(label_mapping)"
      ]
    },
    {
      "cell_type": "code",
      "execution_count": null,
      "metadata": {
        "colab": {
          "base_uri": "https://localhost:8080/"
        },
        "id": "yYL5nJKMAozO",
        "outputId": "7f442b98-ee62-4116-d911-7cb2822209d3"
      },
      "outputs": [
        {
          "output_type": "execute_result",
          "data": {
            "text/plain": [
              "<Axes: ylabel='count'>"
            ]
          },
          "metadata": {},
          "execution_count": 11
        },
        {
          "output_type": "display_data",
          "data": {
            "text/plain": [
              "<Figure size 1000x1000 with 1 Axes>"
            ],
            "image/png": "[encoded data removed]"
          },
          "metadata": {}
        }
      ],
      "source": [
        "df['new_classification'].value_counts().plot(kind='pie', figsize=(10,10), autopct='%1.1f%%')"
      ]
    },
    {
      "cell_type": "code",
      "execution_count": null,
      "metadata": {
        "id": "TfNytL-IBRUv"
      },
      "outputs": [],
      "source": [
        "drive_path_he = '/content/drive/My Drive/nlp-projects/inputs/he/clean_1.8.23_19.9.23.xlsx'"
      ]
    },
    {
      "cell_type": "code",
      "execution_count": null,
      "metadata": {
        "id": "N4PuGdUVBQKP"
      },
      "outputs": [],
      "source": [
        "df.to_excel(drive_path_he)"
      ]
    },
    {
      "cell_type": "code",
      "execution_count": null,
      "metadata": {
        "colab": {
          "base_uri": "https://localhost:8080/"
        },
        "id": "EDqf19aJ_kLt",
        "outputId": "039221d2-9cb7-413a-f2f5-b12df70f750e"
      },
      "outputs": [
        {
          "output_type": "stream",
          "name": "stdout",
          "text": [
            "Requirement already satisfied: accelerate in /usr/local/lib/python3.10/dist-packages (0.33.0)\n",
            "Requirement already satisfied: numpy<2.0.0,>=1.17 in /usr/local/lib/python3.10/dist-packages (from accelerate) (1.25.2)\n",
            "Requirement already satisfied: packaging>=20.0 in /usr/local/lib/python3.10/dist-packages (from accelerate) (24.1)\n",
            "Requirement already satisfied: psutil in /usr/local/lib/python3.10/dist-packages (from accelerate) (5.9.5)\n",
            "Requirement already satisfied: pyyaml in /usr/local/lib/python3.10/dist-packages (from accelerate) (6.0.1)\n",
            "Requirement already satisfied: torch>=1.10.0 in /usr/local/lib/python3.10/dist-packages (from accelerate) (2.4.0)\n",
            "Requirement already satisfied: huggingface-hub>=0.21.0 in /usr/local/lib/python3.10/dist-packages (from accelerate) (0.23.5)\n",
            "Requirement already satisfied: safetensors>=0.3.1 in /usr/local/lib/python3.10/dist-packages (from accelerate) (0.4.3)\n",
            "Requirement already satisfied: filelock in /usr/local/lib/python3.10/dist-packages (from huggingface-hub>=0.21.0->accelerate) (3.15.4)\n",
            "Requirement already satisfied: fsspec>=2023.5.0 in /usr/local/lib/python3.10/dist-packages (from huggingface-hub>=0.21.0->accelerate) (2024.6.1)\n",
            "Requirement already satisfied: requests in /usr/local/lib/python3.10/dist-packages (from huggingface-hub>=0.21.0->accelerate) (2.31.0)\n",
            "Requirement already satisfied: tqdm>=4.42.1 in /usr/local/lib/python3.10/dist-packages (from huggingface-hub>=0.21.0->accelerate) (4.66.4)\n",
            "Requirement already satisfied: typing-extensions>=3.7.4.3 in /usr/local/lib/python3.10/dist-packages (from huggingface-hub>=0.21.0->accelerate) (4.12.2)\n",
            "Requirement already satisfied: sympy in /usr/local/lib/python3.10/dist-packages (from torch>=1.10.0->accelerate) (1.13.1)\n",
            "Requirement already satisfied: networkx in /usr/local/lib/python3.10/dist-packages (from torch>=1.10.0->accelerate) (3.3)\n",
            "Requirement already satisfied: jinja2 in /usr/local/lib/python3.10/dist-packages (from torch>=1.10.0->accelerate) (3.1.4)\n",
            "Requirement already satisfied: nvidia-cuda-nvrtc-cu12==12.1.105 in /usr/local/lib/python3.10/dist-packages (from torch>=1.10.0->accelerate) (12.1.105)\n",
            "Requirement already satisfied: nvidia-cuda-runtime-cu12==12.1.105 in /usr/local/lib/python3.10/dist-packages (from torch>=1.10.0->accelerate) (12.1.105)\n",
            "Requirement already satisfied: nvidia-cuda-cupti-cu12==12.1.105 in /usr/local/lib/python3.10/dist-packages (from torch>=1.10.0->accelerate) (12.1.105)\n",
            "Requirement already satisfied: nvidia-cudnn-cu12==9.1.0.70 in /usr/local/lib/python3.10/dist-packages (from torch>=1.10.0->accelerate) (9.1.0.70)\n",
            "Requirement already satisfied: nvidia-cublas-cu12==12.1.3.1 in /usr/local/lib/python3.10/dist-packages (from torch>=1.10.0->accelerate) (12.1.3.1)\n",
            "Requirement already satisfied: nvidia-cufft-cu12==11.0.2.54 in /usr/local/lib/python3.10/dist-packages (from torch>=1.10.0->accelerate) (11.0.2.54)\n",
            "Requirement already satisfied: nvidia-curand-cu12==10.3.2.106 in /usr/local/lib/python3.10/dist-packages (from torch>=1.10.0->accelerate) (10.3.2.106)\n",
            "Requirement already satisfied: nvidia-cusolver-cu12==11.4.5.107 in /usr/local/lib/python3.10/dist-packages (from torch>=1.10.0->accelerate) (11.4.5.107)\n",
            "Requirement already satisfied: nvidia-cusparse-cu12==12.1.0.106 in /usr/local/lib/python3.10/dist-packages (from torch>=1.10.0->accelerate) (12.1.0.106)\n",
            "Requirement already satisfied: nvidia-nccl-cu12==2.20.5 in /usr/local/lib/python3.10/dist-packages (from torch>=1.10.0->accelerate) (2.20.5)\n",
            "Requirement already satisfied: nvidia-nvtx-cu12==12.1.105 in /usr/local/lib/python3.10/dist-packages (from torch>=1.10.0->accelerate) (12.1.105)\n",
            "Requirement already satisfied: triton==3.0.0 in /usr/local/lib/python3.10/dist-packages (from torch>=1.10.0->accelerate) (3.0.0)\n",
            "Requirement already satisfied: nvidia-nvjitlink-cu12 in /usr/local/lib/python3.10/dist-packages (from nvidia-cusolver-cu12==11.4.5.107->torch>=1.10.0->accelerate) (12.5.82)\n",
            "Requirement already satisfied: MarkupSafe>=2.0 in /usr/local/lib/python3.10/dist-packages (from jinja2->torch>=1.10.0->accelerate) (2.1.5)\n",
            "Requirement already satisfied: charset-normalizer<4,>=2 in /usr/local/lib/python3.10/dist-packages (from requests->huggingface-hub>=0.21.0->accelerate) (3.3.2)\n",
            "Requirement already satisfied: idna<4,>=2.5 in /usr/local/lib/python3.10/dist-packages (from requests->huggingface-hub>=0.21.0->accelerate) (2.10)\n",
            "Requirement already satisfied: urllib3<3,>=1.21.1 in /usr/local/lib/python3.10/dist-packages (from requests->huggingface-hub>=0.21.0->accelerate) (2.0.7)\n",
            "Requirement already satisfied: certifi>=2017.4.17 in /usr/local/lib/python3.10/dist-packages (from requests->huggingface-hub>=0.21.0->accelerate) (2024.7.4)\n",
            "Requirement already satisfied: mpmath<1.4,>=1.1.0 in /usr/local/lib/python3.10/dist-packages (from sympy->torch>=1.10.0->accelerate) (1.3.0)\n",
            "Requirement already satisfied: torch in /usr/local/lib/python3.10/dist-packages (2.4.0)\n",
            "Requirement already satisfied: transformers in /usr/local/lib/python3.10/dist-packages (4.43.3)\n",
            "Requirement already satisfied: filelock in /usr/local/lib/python3.10/dist-packages (from torch) (3.15.4)\n",
            "Requirement already satisfied: typing-extensions>=4.8.0 in /usr/local/lib/python3.10/dist-packages (from torch) (4.12.2)\n",
            "Requirement already satisfied: sympy in /usr/local/lib/python3.10/dist-packages (from torch) (1.13.1)\n",
            "Requirement already satisfied: networkx in /usr/local/lib/python3.10/dist-packages (from torch) (3.3)\n",
            "Requirement already satisfied: jinja2 in /usr/local/lib/python3.10/dist-packages (from torch) (3.1.4)\n",
            "Requirement already satisfied: fsspec in /usr/local/lib/python3.10/dist-packages (from torch) (2024.6.1)\n",
            "Requirement already satisfied: nvidia-cuda-nvrtc-cu12==12.1.105 in /usr/local/lib/python3.10/dist-packages (from torch) (12.1.105)\n",
            "Requirement already satisfied: nvidia-cuda-runtime-cu12==12.1.105 in /usr/local/lib/python3.10/dist-packages (from torch) (12.1.105)\n",
            "Requirement already satisfied: nvidia-cuda-cupti-cu12==12.1.105 in /usr/local/lib/python3.10/dist-packages (from torch) (12.1.105)\n",
            "Requirement already satisfied: nvidia-cudnn-cu12==9.1.0.70 in /usr/local/lib/python3.10/dist-packages (from torch) (9.1.0.70)\n",
            "Requirement already satisfied: nvidia-cublas-cu12==12.1.3.1 in /usr/local/lib/python3.10/dist-packages (from torch) (12.1.3.1)\n",
            "Requirement already satisfied: nvidia-cufft-cu12==11.0.2.54 in /usr/local/lib/python3.10/dist-packages (from torch) (11.0.2.54)\n",
            "Requirement already satisfied: nvidia-curand-cu12==10.3.2.106 in /usr/local/lib/python3.10/dist-packages (from torch) (10.3.2.106)\n",
            "Requirement already satisfied: nvidia-cusolver-cu12==11.4.5.107 in /usr/local/lib/python3.10/dist-packages (from torch) (11.4.5.107)\n",
            "Requirement already satisfied: nvidia-cusparse-cu12==12.1.0.106 in /usr/local/lib/python3.10/dist-packages (from torch) (12.1.0.106)\n",
            "Requirement already satisfied: nvidia-nccl-cu12==2.20.5 in /usr/local/lib/python3.10/dist-packages (from torch) (2.20.5)\n",
            "Requirement already satisfied: nvidia-nvtx-cu12==12.1.105 in /usr/local/lib/python3.10/dist-packages (from torch) (12.1.105)\n",
            "Requirement already satisfied: triton==3.0.0 in /usr/local/lib/python3.10/dist-packages (from torch) (3.0.0)\n",
            "Requirement already satisfied: nvidia-nvjitlink-cu12 in /usr/local/lib/python3.10/dist-packages (from nvidia-cusolver-cu12==11.4.5.107->torch) (12.5.82)\n",
            "Requirement already satisfied: huggingface-hub<1.0,>=0.23.2 in /usr/local/lib/python3.10/dist-packages (from transformers) (0.23.5)\n",
            "Requirement already satisfied: numpy>=1.17 in /usr/local/lib/python3.10/dist-packages (from transformers) (1.25.2)\n",
            "Requirement already satisfied: packaging>=20.0 in /usr/local/lib/python3.10/dist-packages (from transformers) (24.1)\n",
            "Requirement already satisfied: pyyaml>=5.1 in /usr/local/lib/python3.10/dist-packages (from transformers) (6.0.1)\n",
            "Requirement already satisfied: regex!=2019.12.17 in /usr/local/lib/python3.10/dist-packages (from transformers) (2024.5.15)\n",
            "Requirement already satisfied: requests in /usr/local/lib/python3.10/dist-packages (from transformers) (2.31.0)\n",
            "Requirement already satisfied: safetensors>=0.4.1 in /usr/local/lib/python3.10/dist-packages (from transformers) (0.4.3)\n",
            "Requirement already satisfied: tokenizers<0.20,>=0.19 in /usr/local/lib/python3.10/dist-packages (from transformers) (0.19.1)\n",
            "Requirement already satisfied: tqdm>=4.27 in /usr/local/lib/python3.10/dist-packages (from transformers) (4.66.4)\n",
            "Requirement already satisfied: MarkupSafe>=2.0 in /usr/local/lib/python3.10/dist-packages (from jinja2->torch) (2.1.5)\n",
            "Requirement already satisfied: charset-normalizer<4,>=2 in /usr/local/lib/python3.10/dist-packages (from requests->transformers) (3.3.2)\n",
            "Requirement already satisfied: idna<4,>=2.5 in /usr/local/lib/python3.10/dist-packages (from requests->transformers) (2.10)\n",
            "Requirement already satisfied: urllib3<3,>=1.21.1 in /usr/local/lib/python3.10/dist-packages (from requests->transformers) (2.0.7)\n",
            "Requirement already satisfied: certifi>=2017.4.17 in /usr/local/lib/python3.10/dist-packages (from requests->transformers) (2024.7.4)\n",
            "Requirement already satisfied: mpmath<1.4,>=1.1.0 in /usr/local/lib/python3.10/dist-packages (from sympy->torch) (1.3.0)\n",
            "Requirement already satisfied: transformers[torch] in /usr/local/lib/python3.10/dist-packages (4.43.3)\n",
            "Requirement already satisfied: filelock in /usr/local/lib/python3.10/dist-packages (from transformers[torch]) (3.15.4)\n",
            "Requirement already satisfied: huggingface-hub<1.0,>=0.23.2 in /usr/local/lib/python3.10/dist-packages (from transformers[torch]) (0.23.5)\n",
            "Requirement already satisfied: numpy>=1.17 in /usr/local/lib/python3.10/dist-packages (from transformers[torch]) (1.25.2)\n",
            "Requirement already satisfied: packaging>=20.0 in /usr/local/lib/python3.10/dist-packages (from transformers[torch]) (24.1)\n",
            "Requirement already satisfied: pyyaml>=5.1 in /usr/local/lib/python3.10/dist-packages (from transformers[torch]) (6.0.1)\n",
            "Requirement already satisfied: regex!=2019.12.17 in /usr/local/lib/python3.10/dist-packages (from transformers[torch]) (2024.5.15)\n",
            "Requirement already satisfied: requests in /usr/local/lib/python3.10/dist-packages (from transformers[torch]) (2.31.0)\n",
            "Requirement already satisfied: safetensors>=0.4.1 in /usr/local/lib/python3.10/dist-packages (from transformers[torch]) (0.4.3)\n",
            "Requirement already satisfied: tokenizers<0.20,>=0.19 in /usr/local/lib/python3.10/dist-packages (from transformers[torch]) (0.19.1)\n",
            "Requirement already satisfied: tqdm>=4.27 in /usr/local/lib/python3.10/dist-packages (from transformers[torch]) (4.66.4)\n",
            "Requirement already satisfied: accelerate>=0.21.0 in /usr/local/lib/python3.10/dist-packages (from transformers[torch]) (0.33.0)\n",
            "Requirement already satisfied: torch in /usr/local/lib/python3.10/dist-packages (from transformers[torch]) (2.4.0)\n",
            "Requirement already satisfied: psutil in /usr/local/lib/python3.10/dist-packages (from accelerate>=0.21.0->transformers[torch]) (5.9.5)\n",
            "Requirement already satisfied: fsspec>=2023.5.0 in /usr/local/lib/python3.10/dist-packages (from huggingface-hub<1.0,>=0.23.2->transformers[torch]) (2024.6.1)\n",
            "Requirement already satisfied: typing-extensions>=3.7.4.3 in /usr/local/lib/python3.10/dist-packages (from huggingface-hub<1.0,>=0.23.2->transformers[torch]) (4.12.2)\n",
            "Requirement already satisfied: sympy in /usr/local/lib/python3.10/dist-packages (from torch->transformers[torch]) (1.13.1)\n",
            "Requirement already satisfied: networkx in /usr/local/lib/python3.10/dist-packages (from torch->transformers[torch]) (3.3)\n",
            "Requirement already satisfied: jinja2 in /usr/local/lib/python3.10/dist-packages (from torch->transformers[torch]) (3.1.4)\n",
            "Requirement already satisfied: nvidia-cuda-nvrtc-cu12==12.1.105 in /usr/local/lib/python3.10/dist-packages (from torch->transformers[torch]) (12.1.105)\n",
            "Requirement already satisfied: nvidia-cuda-runtime-cu12==12.1.105 in /usr/local/lib/python3.10/dist-packages (from torch->transformers[torch]) (12.1.105)\n",
            "Requirement already satisfied: nvidia-cuda-cupti-cu12==12.1.105 in /usr/local/lib/python3.10/dist-packages (from torch->transformers[torch]) (12.1.105)\n",
            "Requirement already satisfied: nvidia-cudnn-cu12==9.1.0.70 in /usr/local/lib/python3.10/dist-packages (from torch->transformers[torch]) (9.1.0.70)\n",
            "Requirement already satisfied: nvidia-cublas-cu12==12.1.3.1 in /usr/local/lib/python3.10/dist-packages (from torch->transformers[torch]) (12.1.3.1)\n",
            "Requirement already satisfied: nvidia-cufft-cu12==11.0.2.54 in /usr/local/lib/python3.10/dist-packages (from torch->transformers[torch]) (11.0.2.54)\n",
            "Requirement already satisfied: nvidia-curand-cu12==10.3.2.106 in /usr/local/lib/python3.10/dist-packages (from torch->transformers[torch]) (10.3.2.106)\n",
            "Requirement already satisfied: nvidia-cusolver-cu12==11.4.5.107 in /usr/local/lib/python3.10/dist-packages (from torch->transformers[torch]) (11.4.5.107)\n",
            "Requirement already satisfied: nvidia-cusparse-cu12==12.1.0.106 in /usr/local/lib/python3.10/dist-packages (from torch->transformers[torch]) (12.1.0.106)\n",
            "Requirement already satisfied: nvidia-nccl-cu12==2.20.5 in /usr/local/lib/python3.10/dist-packages (from torch->transformers[torch]) (2.20.5)\n",
            "Requirement already satisfied: nvidia-nvtx-cu12==12.1.105 in /usr/local/lib/python3.10/dist-packages (from torch->transformers[torch]) (12.1.105)\n",
            "Requirement already satisfied: triton==3.0.0 in /usr/local/lib/python3.10/dist-packages (from torch->transformers[torch]) (3.0.0)\n",
            "Requirement already satisfied: nvidia-nvjitlink-cu12 in /usr/local/lib/python3.10/dist-packages (from nvidia-cusolver-cu12==11.4.5.107->torch->transformers[torch]) (12.5.82)\n",
            "Requirement already satisfied: charset-normalizer<4,>=2 in /usr/local/lib/python3.10/dist-packages (from requests->transformers[torch]) (3.3.2)\n",
            "Requirement already satisfied: idna<4,>=2.5 in /usr/local/lib/python3.10/dist-packages (from requests->transformers[torch]) (2.10)\n",
            "Requirement already satisfied: urllib3<3,>=1.21.1 in /usr/local/lib/python3.10/dist-packages (from requests->transformers[torch]) (2.0.7)\n",
            "Requirement already satisfied: certifi>=2017.4.17 in /usr/local/lib/python3.10/dist-packages (from requests->transformers[torch]) (2024.7.4)\n",
            "Requirement already satisfied: MarkupSafe>=2.0 in /usr/local/lib/python3.10/dist-packages (from jinja2->torch->transformers[torch]) (2.1.5)\n",
            "Requirement already satisfied: mpmath<1.4,>=1.1.0 in /usr/local/lib/python3.10/dist-packages (from sympy->torch->transformers[torch]) (1.3.0)\n"
          ]
        }
      ],
      "source": [
        "!pip install accelerate -U\n",
        "!pip install torch transformers -U\n",
        "!pip install transformers[torch]"
      ]
    },
    {
      "cell_type": "code",
      "execution_count": null,
      "metadata": {
        "id": "hfSQqwkd_puP"
      },
      "outputs": [],
      "source": [
        "model_name = 'bert-base-multilingual-cased'"
      ]
    },
    {
      "cell_type": "code",
      "execution_count": null,
      "metadata": {
        "id": "SXgeU_I7DJp-"
      },
      "outputs": [],
      "source": [
        "drive_path_he = '/content/drive/My Drive/nlp-projects/inputs/he/clean_1.8.23_19.9.23.xlsx'"
      ]
    },
    {
      "cell_type": "code",
      "execution_count": null,
      "metadata": {
        "id": "VLLH0J64DQaO",
        "colab": {
          "base_uri": "https://localhost:8080/"
        },
        "outputId": "c282feab-f770-497f-d6a3-910965d288cf"
      },
      "outputs": [
        {
          "output_type": "stream",
          "name": "stdout",
          "text": [
            "Drive already mounted at /content/drive; to attempt to forcibly remount, call drive.mount(\"/content/drive\", force_remount=True).\n"
          ]
        }
      ],
      "source": [
        "from google.colab import drive\n",
        "drive.mount('/content/drive')"
      ]
    },
    {
      "cell_type": "code",
      "execution_count": null,
      "metadata": {
        "id": "r9EszgCIDOyG",
        "colab": {
          "base_uri": "https://localhost:8080/"
        },
        "outputId": "6e8196a8-4f06-41e6-a2b2-3f05eae93ac5"
      },
      "outputs": [
        {
          "output_type": "execute_result",
          "data": {
            "text/plain": [
              "(1037, 21)"
            ]
          },
          "metadata": {},
          "execution_count": 18
        }
      ],
      "source": [
        "import pandas as pd\n",
        "\n",
        "df = pd.read_excel(drive_path_he)\n",
        "df.shape"
      ]
    },
    {
      "cell_type": "code",
      "execution_count": null,
      "metadata": {
        "id": "Nc8IF_dNEbkn",
        "colab": {
          "base_uri": "https://localhost:8080/",
          "height": 298
        },
        "outputId": "1bccdb5d-d1ab-40b6-d79c-c7e3612a6a60"
      },
      "outputs": [
        {
          "output_type": "error",
          "ename": "TypeError",
          "evalue": "Passing a set as an indexer is not supported. Use a list instead.",
          "traceback": [
            "\u001b[0;31m---------------------------------------------------------------------------\u001b[0m",
            "\u001b[0;31mTypeError\u001b[0m                                 Traceback (most recent call last)",
            "\u001b[0;32m<ipython-input-19-95c24f9a2aab>\u001b[0m in \u001b[0;36m<cell line: 1>\u001b[0;34m()\u001b[0m\n\u001b[0;32m----> 1\u001b[0;31m \u001b[0mdf\u001b[0m\u001b[0;34m[\u001b[0m\u001b[0;34m{\u001b[0m\u001b[0mcolumn_to_predict\u001b[0m\u001b[0;34m}\u001b[0m\u001b[0;34m]\u001b[0m \u001b[0;34m=\u001b[0m \u001b[0mdf\u001b[0m\u001b[0;34m[\u001b[0m\u001b[0;34m{\u001b[0m\u001b[0mcolumn_to_predict\u001b[0m\u001b[0;34m}\u001b[0m\u001b[0;34m]\u001b[0m\u001b[0;34m.\u001b[0m\u001b[0mastype\u001b[0m\u001b[0;34m(\u001b[0m\u001b[0mstr\u001b[0m\u001b[0;34m)\u001b[0m\u001b[0;34m\u001b[0m\u001b[0;34m\u001b[0m\u001b[0m\n\u001b[0m",
            "\u001b[0;32m/usr/local/lib/python3.10/dist-packages/pandas/core/frame.py\u001b[0m in \u001b[0;36m__getitem__\u001b[0;34m(self, key)\u001b[0m\n\u001b[1;32m   3712\u001b[0m \u001b[0;34m\u001b[0m\u001b[0m\n\u001b[1;32m   3713\u001b[0m     \u001b[0;32mdef\u001b[0m \u001b[0m__getitem__\u001b[0m\u001b[0;34m(\u001b[0m\u001b[0mself\u001b[0m\u001b[0;34m,\u001b[0m \u001b[0mkey\u001b[0m\u001b[0;34m)\u001b[0m\u001b[0;34m:\u001b[0m\u001b[0;34m\u001b[0m\u001b[0;34m\u001b[0m\u001b[0m\n\u001b[0;32m-> 3714\u001b[0;31m         \u001b[0mcheck_dict_or_set_indexers\u001b[0m\u001b[0;34m(\u001b[0m\u001b[0mkey\u001b[0m\u001b[0;34m)\u001b[0m\u001b[0;34m\u001b[0m\u001b[0;34m\u001b[0m\u001b[0m\n\u001b[0m\u001b[1;32m   3715\u001b[0m         \u001b[0mkey\u001b[0m \u001b[0;34m=\u001b[0m \u001b[0mlib\u001b[0m\u001b[0;34m.\u001b[0m\u001b[0mitem_from_zerodim\u001b[0m\u001b[0;34m(\u001b[0m\u001b[0mkey\u001b[0m\u001b[0;34m)\u001b[0m\u001b[0;34m\u001b[0m\u001b[0;34m\u001b[0m\u001b[0m\n\u001b[1;32m   3716\u001b[0m         \u001b[0mkey\u001b[0m \u001b[0;34m=\u001b[0m \u001b[0mcom\u001b[0m\u001b[0;34m.\u001b[0m\u001b[0mapply_if_callable\u001b[0m\u001b[0;34m(\u001b[0m\u001b[0mkey\u001b[0m\u001b[0;34m,\u001b[0m \u001b[0mself\u001b[0m\u001b[0;34m)\u001b[0m\u001b[0;34m\u001b[0m\u001b[0;34m\u001b[0m\u001b[0m\n",
            "\u001b[0;32m/usr/local/lib/python3.10/dist-packages/pandas/core/indexing.py\u001b[0m in \u001b[0;36mcheck_dict_or_set_indexers\u001b[0;34m(key)\u001b[0m\n\u001b[1;32m   2616\u001b[0m         \u001b[0;32mand\u001b[0m \u001b[0many\u001b[0m\u001b[0;34m(\u001b[0m\u001b[0misinstance\u001b[0m\u001b[0;34m(\u001b[0m\u001b[0mx\u001b[0m\u001b[0;34m,\u001b[0m \u001b[0mset\u001b[0m\u001b[0;34m)\u001b[0m \u001b[0;32mfor\u001b[0m \u001b[0mx\u001b[0m \u001b[0;32min\u001b[0m \u001b[0mkey\u001b[0m\u001b[0;34m)\u001b[0m\u001b[0;34m\u001b[0m\u001b[0;34m\u001b[0m\u001b[0m\n\u001b[1;32m   2617\u001b[0m     ):\n\u001b[0;32m-> 2618\u001b[0;31m         raise TypeError(\n\u001b[0m\u001b[1;32m   2619\u001b[0m             \u001b[0;34m\"Passing a set as an indexer is not supported. Use a list instead.\"\u001b[0m\u001b[0;34m\u001b[0m\u001b[0;34m\u001b[0m\u001b[0m\n\u001b[1;32m   2620\u001b[0m         )\n",
            "\u001b[0;31mTypeError\u001b[0m: Passing a set as an indexer is not supported. Use a list instead."
          ]
        }
      ],
      "source": [
        "df[{column_to_predict}] = df[{column_to_predict}].astype(str)"
      ]
    },
    {
      "cell_type": "code",
      "execution_count": null,
      "metadata": {
        "id": "d3AfQkh3B_EN"
      },
      "outputs": [],
      "source": [
        "from transformers import BertTokenizer\n",
        "\n",
        "# Initialize the tokenizer\n",
        "tokenizer = BertTokenizer.from_pretrained(model_name)\n",
        "\n",
        "# Tokenize the texts\n",
        "def tokenize_function(texts):\n",
        "    return tokenizer(texts, padding='max_length', truncation=True, max_length=512, return_tensors='pt')\n",
        "\n",
        "# Tokenize the texts in the dataframe\n",
        "tokenized_texts = df[{column_to_predict}].apply(lambda x: tokenize_function(x))\n"
      ]
    },
    {
      "cell_type": "markdown",
      "metadata": {
        "id": "2WEq-aYxCPt9"
      },
      "source": [
        "# Create a Custom Dataset Class"
      ]
    },
    {
      "cell_type": "code",
      "execution_count": null,
      "metadata": {
        "id": "pEo5ceqlnOax"
      },
      "outputs": [],
      "source": [
        "import torch\n"
      ]
    },
    {
      "cell_type": "code",
      "execution_count": null,
      "metadata": {
        "id": "UpIJOo3BCRMn"
      },
      "outputs": [],
      "source": [
        "from torch.utils.data import Dataset\n",
        "\n",
        "\n",
        "class CustomDataset(Dataset):\n",
        "    def __init__(self, texts, labels, tokenizer, max_length):\n",
        "        self.texts = texts\n",
        "        self.labels = labels\n",
        "        self.tokenizer = tokenizer\n",
        "        self.max_length = max_length\n",
        "\n",
        "    def __len__(self):\n",
        "        return len(self.texts)\n",
        "\n",
        "    def __getitem__(self, idx):\n",
        "        text = self.texts[idx]\n",
        "        labels = self.labels[idx]\n",
        "        encoding = self.tokenizer(\n",
        "            text,\n",
        "            truncation=True,\n",
        "            padding='max_length',\n",
        "            max_length=self.max_length,\n",
        "            return_tensors='pt'\n",
        "        )\n",
        "        item = {key: val.squeeze() for key, val in encoding.items()}\n",
        "        item['labels'] = torch.tensor(labels, dtype=torch.long)\n",
        "        return item"
      ]
    },
    {
      "cell_type": "code",
      "execution_count": null,
      "metadata": {
        "id": "PgsKXdPDCSxm"
      },
      "outputs": [],
      "source": [
        "# Create the dataset\n",
        "texts = df[{column_to_predict}].tolist()\n",
        "labels = df['new_classification'].tolist()\n",
        "dataset = CustomDataset(texts, labels, tokenizer, max_length=512)"
      ]
    },
    {
      "cell_type": "code",
      "execution_count": null,
      "metadata": {
        "id": "5EHUNS2TCUPv"
      },
      "outputs": [],
      "source": [
        "texts[0]"
      ]
    },
    {
      "cell_type": "code",
      "execution_count": null,
      "metadata": {
        "id": "f41-5EasCVod"
      },
      "outputs": [],
      "source": [
        "num_labels = len(set(labels))\n",
        "num_labels"
      ]
    },
    {
      "cell_type": "code",
      "execution_count": null,
      "metadata": {
        "id": "5QEEXEGSCXtw"
      },
      "outputs": [],
      "source": [
        "!pip install scikit-learn"
      ]
    },
    {
      "cell_type": "code",
      "execution_count": null,
      "metadata": {
        "id": "WJT3SoIHCbO-"
      },
      "outputs": [],
      "source": [
        "from torch.utils.data import DataLoader, random_split\n",
        "from sklearn.model_selection import StratifiedShuffleSplit\n",
        "from torch.utils.data import DataLoader, Subset\n",
        "\n",
        "# Split the dataset into train and validation sets\n",
        "#train_size = int(0.8 * len(dataset))\n",
        "#val_size = len(dataset) - train_size\n",
        "#train_dataset, val_dataset = random_split(dataset, [train_size, val_size])\n",
        "\n",
        "# Create stratified split\n",
        "splitter = StratifiedShuffleSplit(n_splits=1, test_size=0.2, random_state=42)\n",
        "train_idx, val_idx = list(splitter.split(texts, labels))[0]\n",
        "\n",
        "train_dataset = Subset(dataset, train_idx)\n",
        "val_dataset = Subset(dataset, val_idx)\n",
        "\n",
        "# Create DataLoader\n",
        "train_loader = DataLoader(train_dataset, batch_size=8, shuffle=True)\n",
        "val_loader = DataLoader(val_dataset, batch_size=8, shuffle=True)\n"
      ]
    },
    {
      "cell_type": "markdown",
      "metadata": {
        "id": "iemEr8EMCiA5"
      },
      "source": [
        "# Define the Model and Training Arguments"
      ]
    },
    {
      "cell_type": "code",
      "execution_count": null,
      "metadata": {
        "id": "SKJYeorcCk82"
      },
      "outputs": [],
      "source": [
        "!pip install tensorboard\n"
      ]
    },
    {
      "cell_type": "code",
      "execution_count": null,
      "metadata": {
        "id": "uuwY6QoLCvol"
      },
      "outputs": [],
      "source": [
        "from transformers import BertForSequenceClassification, Trainer, TrainingArguments"
      ]
    },
    {
      "cell_type": "code",
      "execution_count": null,
      "metadata": {
        "id": "NhayuUyjCm-V"
      },
      "outputs": [],
      "source": [
        "from sklearn.metrics import accuracy_score, precision_recall_fscore_support\n",
        "\n",
        "def compute_metrics(p):\n",
        "    preds = p.predictions.argmax(-1)\n",
        "    labels = p.label_ids\n",
        "\n",
        "    # Calculate weighted precision, recall, and F1 score\n",
        "    precision, recall, f1, _ = precision_recall_fscore_support(labels, preds, average='weighted')\n",
        "    acc = accuracy_score(labels, preds)\n",
        "\n",
        "    # Create a dictionary to store the overall metrics\n",
        "    metrics = {\n",
        "        'accuracy': acc,\n",
        "        'precision': precision,\n",
        "        'recall': recall,\n",
        "        'f1': f1\n",
        "    }\n",
        "\n",
        "    return metrics\n",
        "\n",
        "\"\"\"\n",
        "def compute_metrics(p):\n",
        "    preds = p.predictions.argmax(-1)\n",
        "    labels = p.label_ids\n",
        "    precision, recall, f1, support = precision_recall_fscore_support(labels, preds, average=None, labels=labels)\n",
        "    acc = accuracy_score(labels, preds)\n",
        "\n",
        "    # Create a dictionary to store metrics for each label\n",
        "    metrics = {\n",
        "        'accuracy': acc,\n",
        "        'precision': precision.tolist(),\n",
        "        'recall': recall.tolist(),\n",
        "        'f1': f1.tolist(),\n",
        "        'support': support.tolist()\n",
        "    }\n",
        "    print(\"Metrics:\", metrics)\n",
        "    return metrics\n",
        "    \"\"\"\n",
        "\"\"\"\n",
        "    print(labels)\n",
        "    # Print metrics for each label\n",
        "    for i, label in enumerate(labels):\n",
        "        print(f\"Metrics for {label}:\")\n",
        "        print(f\"  Precision: {metrics['precision'][i]}\")\n",
        "        print(f\"  Recall: {metrics['recall'][i]}\")\n",
        "        print(f\"  F1 Score: {metrics['f1'][i]}\")\n",
        "        print(f\"  Support: {metrics['support'][i]}\")\n",
        "\n",
        "    return metrics\n",
        "    \"\"\""
      ]
    },
    {
      "cell_type": "code",
      "execution_count": null,
      "metadata": {
        "id": "XhHjwUloCtpn"
      },
      "outputs": [],
      "source": [
        "# Custom Trainer class to log loss values\n",
        "class CustomTrainer(Trainer):\n",
        "    def __init__(self, *args, **kwargs):\n",
        "        super().__init__(*args, **kwargs)\n",
        "        self.train_loss = []\n",
        "        self.eval_loss = []\n",
        "\n",
        "    def log(self, logs: dict):\n",
        "        super().log(logs)\n",
        "        if 'loss' in logs:\n",
        "            self.train_loss.append(logs['loss'])\n",
        "        if 'eval_loss' in logs:\n",
        "            self.eval_loss.append(logs['eval_loss'])"
      ]
    },
    {
      "cell_type": "code",
      "execution_count": null,
      "metadata": {
        "id": "4L-osysVCrkH"
      },
      "outputs": [],
      "source": [
        "\n",
        "from transformers import EarlyStoppingCallback, IntervalStrategy\n",
        "\n",
        "# Initialize the model\n",
        "model = BertForSequenceClassification.from_pretrained(model_name, num_labels=num_labels, hidden_dropout_prob=0.3)  # Increase dropout probability\n",
        "\n",
        "training_args = TrainingArguments(\n",
        "    output_dir='./results',\n",
        "    num_train_epochs=3,\n",
        "    per_device_train_batch_size=16,\n",
        "    per_device_eval_batch_size=16,\n",
        "    gradient_accumulation_steps=4,  # Accumulate gradients\n",
        "    warmup_steps=500,\n",
        "    weight_decay=0.01,\n",
        "    logging_dir='./logs',\n",
        "    logging_steps=10,\n",
        "    evaluation_strategy=\"steps\",\n",
        "    eval_steps=100,\n",
        "    save_steps=100,\n",
        "    metric_for_best_model='eval_accuracy',\n",
        "    save_total_limit=1,\n",
        "    load_best_model_at_end=True,\n",
        "    report_to=\"tensorboard\",\n",
        ")"
      ]
    },
    {
      "cell_type": "code",
      "execution_count": null,
      "metadata": {
        "id": "vDHBKTTNCxZP"
      },
      "outputs": [],
      "source": [
        "from transformers import get_linear_schedule_with_warmup\n",
        "\n",
        "# Initialize the optimizer and scheduler\n",
        "optimizer = torch.optim.AdamW(model.parameters(), lr=2e-5)\n",
        "train_steps = len(train_loader) * training_args.num_train_epochs\n",
        "scheduler = get_linear_schedule_with_warmup(optimizer, num_warmup_steps=0, num_training_steps=train_steps)\n",
        "\n",
        "# Initialize the Trainer\n",
        "trainer = CustomTrainer(\n",
        "    model=model,\n",
        "    args=training_args,\n",
        "    train_dataset=train_dataset,\n",
        "    eval_dataset=val_dataset,\n",
        "    compute_metrics=compute_metrics,\n",
        "    optimizers=(optimizer, scheduler),\n",
        "    callbacks=[EarlyStoppingCallback(early_stopping_patience=3, early_stopping_threshold=0.0)]\n",
        ")\n"
      ]
    },
    {
      "cell_type": "code",
      "execution_count": null,
      "metadata": {
        "id": "xxFkZDQ6qsUR"
      },
      "outputs": [],
      "source": [
        "from psutil import virtual_memory\n",
        "ram_gb = virtual_memory().total / 1e9\n",
        "print('Your runtime has {:.1f} gigabytes of available RAM\\n'.format(ram_gb))\n",
        "\n",
        "if ram_gb < 20:\n",
        "  print('Not using a high-RAM runtime')\n",
        "else:\n",
        "  print('You are using a high-RAM runtime!')"
      ]
    },
    {
      "cell_type": "code",
      "execution_count": null,
      "metadata": {
        "id": "20_pFOphC0vl"
      },
      "outputs": [],
      "source": [
        "# Initialize a list to store metrics\n",
        "metrics_history = []\n",
        "# Track the best accuracy and corresponding epoch\n",
        "best_accuracy = 0\n",
        "best_epoch = -1\n",
        "best_metrics = None\n",
        "\n",
        "# Train the model and collect metrics for each epoch\n",
        "for epoch in range(training_args.num_train_epochs):\n",
        "    print(f\"Training Epoch: {epoch + 1}\")  # Debug: Print current epoch\n",
        "    trainer.train()\n",
        "    eval_results = trainer.evaluate()\n",
        "    print(\"Evaluation Results:\", eval_results)  # Debug: Print evaluation results\n",
        "    metrics_history.append(eval_results)\n",
        "\n",
        "        # Check for the best accuracy\n",
        "    if eval_results['eval_accuracy'] > best_accuracy:\n",
        "        best_accuracy = eval_results['eval_accuracy']\n",
        "        best_epoch = epoch + 1\n",
        "        best_metrics = eval_results\n"
      ]
    },
    {
      "cell_type": "code",
      "execution_count": null,
      "metadata": {
        "id": "QfV6XUq-C7Ku"
      },
      "outputs": [],
      "source": [
        "print(\"Accuracy of the best model:\", eval_results['eval_accuracy'])\n",
        "print(f\"Best Accuracy: {best_accuracy} at epoch {best_epoch}\")"
      ]
    },
    {
      "cell_type": "code",
      "execution_count": null,
      "metadata": {
        "id": "0s0uLpf1JDin"
      },
      "outputs": [],
      "source": [
        "best_accuracy = format(eval_results['eval_accuracy'],\".2f\")\n",
        "print(best_accuracy)"
      ]
    },
    {
      "cell_type": "code",
      "execution_count": null,
      "metadata": {
        "id": "fMGOLK8kHq9u"
      },
      "outputs": [],
      "source": [
        "import matplotlib.pyplot as plt\n",
        "\n",
        "# Plot training and evaluation loss\n",
        "plt.figure(figsize=(10, 5))\n",
        "plt.plot(trainer.train_loss, label='Training Loss')\n",
        "plt.plot(trainer.eval_loss, label='Evaluation Loss')\n",
        "plt.xlabel('Steps')\n",
        "plt.ylabel('Loss')\n",
        "plt.legend()\n",
        "plt.title('Training and Evaluation Loss')\n",
        "plt.show()"
      ]
    },
    {
      "cell_type": "code",
      "execution_count": null,
      "metadata": {
        "id": "-n6Hwy3QHs7X"
      },
      "outputs": [],
      "source": [
        "model_path = f'/content/drive/My Drive/nlp-projects/models/he/{model_name}-classify-3-classes-{best_accuracy}'"
      ]
    },
    {
      "cell_type": "code",
      "execution_count": null,
      "metadata": {
        "id": "cwYjEa7WI2JP"
      },
      "outputs": [],
      "source": [
        "trainer.save_model(model_path)\n",
        "tokenizer.save_pretrained(model_path)"
      ]
    },
    {
      "cell_type": "markdown",
      "metadata": {
        "id": "rSBJIE13eswf"
      },
      "source": [
        "# Load the model"
      ]
    },
    {
      "cell_type": "code",
      "execution_count": null,
      "metadata": {
        "id": "SyeU8riRe462"
      },
      "outputs": [],
      "source": [
        "import os\n",
        "\n",
        "# Mount Google Drive\n",
        "from google.colab import drive\n",
        "drive.mount('/content/drive')\n",
        "model_path = f'/content/drive/My Drive/nlp-projects/models/he/bert-base-multilingual-cased-classify-3-classes-0-77'"
      ]
    },
    {
      "cell_type": "code",
      "execution_count": null,
      "metadata": {
        "id": "onsnMPTEe1lG"
      },
      "outputs": [],
      "source": [
        "from transformers import pipeline, BertForSequenceClassification, BertTokenizer\n",
        "from transformers import BertForSequenceClassification, Trainer, TrainingArguments\n",
        "\\from transformers import EarlyStoppingCallback, IntervalStrategy\n",
        "import torch\n",
        "\n",
        "model = BertForSequenceClassification.from_pretrained(model_path)\n",
        "tokenizer = BertTokenizer.from_pretrained(model_path)\n",
        "\n",
        "model.eval()"
      ]
    },
    {
      "cell_type": "code",
      "execution_count": null,
      "metadata": {
        "id": "16FF71thgDzm"
      },
      "outputs": [],
      "source": [
        "def predict_single_text(single_text):\n",
        "\n",
        "  # Tokenize the text\n",
        "  inputs = tokenizer(single_text, truncation=True, padding='max_length', max_length=128, return_tensors='pt')\n",
        "\n",
        "  # Move model to device\n",
        "  device = torch.device(\"cuda\" if torch.cuda.is_available() else \"cpu\")\n",
        "  model.to(device)\n",
        "\n",
        "  # Move inputs to the same device as the model\n",
        "  inputs = {key: val.to(device) for key, val in inputs.items()}\n",
        "\n",
        "  model.eval()\n",
        "  with torch.no_grad():\n",
        "      outputs = model(**inputs)\n",
        "      logits = outputs.logits\n",
        "      predicted_class_id = torch.argmax(logits, dim=-1).item()\n",
        "  return predicted_class_id\n"
      ]
    },
    {
      "cell_type": "code",
      "execution_count": null,
      "metadata": {
        "id": "UItAXAFufcF2"
      },
      "outputs": [],
      "source": [
        "text = \"\"\"\n",
        "היי אני לא יודעת אם לפנות אליכם או לא. לפני מספר ימים עברתי משהו לא נעים, ידיד של חברה שלי שהיה אמור להקפיץ אותי לבית, הוא לקח אותי לבית שלו, כל הדרך הבהרתי שאני לא אכנס אליו לבית ושאני לא מעוניינת. הגענו למקום הוא רצה שאכנס וטען שרק יאכל משהו ויקח אותי לבית, כל הזמן שהיינו אצלו הוא רצה שאקשיב לו, ניסה לגעת בי, לחבק אותי, אמר לי ללכת לישון ונשכב לידי מבלי שאני רוצה. לבסוף כעסתי, דרשתי שלא יתקרב אלי ואחרי זמן ארוך מצאתי דרך לחזור לבית. כן\n",
        "\"\"\"\n",
        "# Make prediction for the single text\n",
        "predicted_class_id = predict_single_text(text)\n",
        "predicted_class_id\n"
      ]
    },
    {
      "cell_type": "code",
      "execution_count": null,
      "metadata": {
        "id": "xA-yhf3ig0GP"
      },
      "outputs": [],
      "source": []
    },
    {
      "cell_type": "code",
      "execution_count": null,
      "metadata": {
        "id": "vhm-iFBTg8t_"
      },
      "outputs": [],
      "source": [
        "text = \"\"\"\n",
        "'שלום\n",
        "הבת שלי בת 16 ושיתפה אותי היום שהיא עברה פגיעה מינית עי ילד מהכיתה כשהייתה בכיתה ד\n",
        "היא זוכרת את זה\n",
        "זוכרת שכאב לה\n",
        "ולא זוכרת מעבר לזה. אציין שהבת שלי על הרצף בתפקוד גבוה וכבר לפני שנתיים בטיפול נזכרה שעברה הטרדה בבית ספר על ידי אותו ילד. אך לא אונס.\n",
        "\n",
        "האם היום, ככ הרבה זמן אחרי, ניתן לבצע בדיקה גניקולוגית כדי לדעת שהיא אכן נאנסה?'\n",
        "'נכון'\n",
        "'אני דיי המומה'\n",
        "'נכון\n",
        "היא גם הייתה מטופלת פסיכולוגית אז\n",
        "וזה אף פעם לא עלה\n",
        "אני לא מבינה איך'\n",
        "'אני מאמינה לבת שלי\n",
        "אבל חייבת לדעת אם זה קרה או לא\n",
        "ברור שמבחינת טיפול, היא מטופלת כי גם אם זה לא קרה ככה בדיוק, וזה מה שהיא מרגישה, זה מצריך טיפול\n",
        "אבל אני רוצה לדעת אם זה קרה\n",
        "כי אם כן\n",
        "אני חייבת לפעול מול אותו ילד'\n",
        "'יש אפשרות לדעת אחרי ככ הרבה זמן?'\n",
        "'ברור'\n",
        "'את הספקות אני לא חולקת איתה\n",
        "אבל אני מרגישה ממש צורך לפנות לאמא של הילד\n",
        "אני ממש כועסת\n",
        "פתאום נקודות מתחברות לי'\n",
        "'מבנימינה'\n",
        "'תודה\n",
        "אקרא'\n",
        "'ועל אמא שלו'\n",
        "'אני נזכרת שהיא תמיד רצתה שיפגשו אצלו\n",
        "ושהבת שלי הייתה חוזרת משם עם מתנות\n",
        "שגם אז נראו לי מוגזמות וביקשתי שיפסיק\n",
        "עכשיו אני חוששת שקנו את השתיקה שלה\n",
        "\n",
        "הילד באמת עזב למסגרת מיוחדת סביב כיתה ד או ה'\n",
        "'תודה רבה!'\n",
        "\"\"\"\n",
        "text = text.replace(\"'\", \"\")\n",
        "predicted_class_id = predict_single_text(text)\n",
        "predicted_class_id"
      ]
    },
    {
      "cell_type": "code",
      "execution_count": null,
      "metadata": {
        "id": "Wbm55VyniKie"
      },
      "outputs": [],
      "source": [
        "import pandas as pd\n",
        "\n",
        "drive_path = '/content/drive/My Drive/nlp-projects/inputs/he/clean_1.8.23_19.9.23.xlsx'\n",
        "df = pd.read_excel(drive_path)"
      ]
    },
    {
      "cell_type": "code",
      "execution_count": null,
      "metadata": {
        "id": "f98LXp1WiJzO"
      },
      "outputs": [],
      "source": [
        "df = pd.read_excel(drive_path)\n",
        "df.shape"
      ]
    },
    {
      "cell_type": "code",
      "execution_count": null,
      "metadata": {
        "id": "qt5KzbFvihEt"
      },
      "outputs": [],
      "source": [
        "df['classification'].value_counts().plot(kind='pie', figsize=(10,10), autopct='%1.1f%%')"
      ]
    },
    {
      "cell_type": "code",
      "source": [
        "df['new_classification'].value_counts().plot(kind='pie', figsize=(10,10), autopct='%1.1f%%')"
      ],
      "metadata": {
        "id": "sQPfSjR72DQU"
      },
      "execution_count": null,
      "outputs": []
    },
    {
      "cell_type": "code",
      "execution_count": null,
      "metadata": {
        "id": "FOkKvbN7KQ0N"
      },
      "outputs": [],
      "source": [
        "filtered_df = df[df['new_classification'] == 1]"
      ]
    },
    {
      "cell_type": "code",
      "execution_count": null,
      "metadata": {
        "id": "Jibvoo2aLnSO"
      },
      "outputs": [],
      "source": [
        "filtered_df['classification'].value_counts().plot(kind='pie', figsize=(10,10), autopct='%1.1f%%')"
      ]
    },
    {
      "cell_type": "code",
      "execution_count": null,
      "metadata": {
        "id": "thBJDSRkKVe3"
      },
      "outputs": [],
      "source": [
        "new_class_mapping = {\n",
        "    1: 1,\n",
        "    4: 3,\n",
        "    5: 3,\n",
        "    6: 3\n",
        "}\n",
        "\n",
        "filtered_df['new_class'] = filtered_df['classification'].map(new_class_mapping)"
      ]
    },
    {
      "cell_type": "code",
      "execution_count": null,
      "metadata": {
        "id": "mA2Omi0OLJNo"
      },
      "outputs": [],
      "source": [
        "filtered_df['new_class'].value_counts().plot(kind='pie', figsize=(10,10), autopct='%1.1f%%')"
      ]
    },
    {
      "cell_type": "code",
      "execution_count": null,
      "metadata": {
        "id": "W-TNwApqMyvP"
      },
      "outputs": [],
      "source": [
        "labels = filtered_df['new_class'].tolist()\n",
        "texts = filtered_df[{column_to_predict}].tolist()\n",
        "dataset = CustomDataset(texts, labels, tokenizer, max_length=512)"
      ]
    },
    {
      "cell_type": "code",
      "execution_count": null,
      "metadata": {
        "id": "J7kXttAJM7Gg"
      },
      "outputs": [],
      "source": [
        "num_labels = len(set(labels))\n",
        "num_labels"
      ]
    },
    {
      "cell_type": "code",
      "execution_count": null,
      "metadata": {
        "id": "jNFrk8ZIOB6S"
      },
      "outputs": [],
      "source": [
        "from sklearn.model_selection import StratifiedShuffleSplit\n",
        "from torch.utils.data import DataLoader, Subset\n",
        "\n",
        "splitter = StratifiedShuffleSplit(n_splits=1, test_size=0.2, random_state=42)\n",
        "train_idx, val_idx = list(splitter.split(texts, labels))[0]\n",
        "\n",
        "train_dataset = Subset(dataset, train_idx)\n",
        "val_dataset = Subset(dataset, val_idx)\n",
        "\n",
        "# Create DataLoader\n",
        "train_loader = DataLoader(train_dataset, batch_size=8, shuffle=True)\n",
        "val_loader = DataLoader(val_dataset, batch_size=8, shuffle=True)\n"
      ]
    },
    {
      "cell_type": "code",
      "execution_count": null,
      "metadata": {
        "id": "v7j4IrUDO3TA"
      },
      "outputs": [],
      "source": [
        "\n",
        "model = BertForSequenceClassification.from_pretrained(model_name, num_labels=num_labels, hidden_dropout_prob=0.3)  # Increase dropout probability\n",
        "training_args = TrainingArguments(\n",
        "    output_dir='./results',\n",
        "    num_train_epochs=3,\n",
        "    per_device_train_batch_size=8,  # Adjust batch size\n",
        "    per_device_eval_batch_size=16,\n",
        "    #warmup_steps=500,\n",
        "    weight_decay=0.01,\n",
        "    logging_dir='./logs',\n",
        "    logging_steps=10,\n",
        "    #evaluation_strategy=\"steps\",\n",
        "    evaluation_strategy=IntervalStrategy.STEPS,\n",
        "    eval_steps=50,\n",
        "    save_steps=50,  # Save model at the same interval as evaluation\n",
        "    #save_strategy=\"epoch\",\n",
        "    learning_rate=2e-5,  # Lower learning rate\n",
        "    #metric_for_best_model = 'f1',\n",
        "    metric_for_best_model = 'accuracy',\n",
        "    report_to=\"tensorboard\",\n",
        "    load_best_model_at_end=True  # Load the best model at the end of training\n",
        ")"
      ]
    },
    {
      "cell_type": "code",
      "execution_count": null,
      "metadata": {
        "id": "QeXMtFYZO7hv"
      },
      "outputs": [],
      "source": [
        "\n",
        "from transformers import get_linear_schedule_with_warmup\n",
        "\n",
        "# Initialize the optimizer and scheduler\n",
        "optimizer = torch.optim.AdamW(model.parameters(), lr=2e-5)\n",
        "train_steps = len(train_loader) * training_args.num_train_epochs\n",
        "scheduler = get_linear_schedule_with_warmup(optimizer, num_warmup_steps=0, num_training_steps=train_steps)\n",
        "\n",
        "# Initialize the Trainer\n",
        "trainer = CustomTrainer(\n",
        "    model=model,\n",
        "    args=training_args,\n",
        "    train_dataset=train_dataset,\n",
        "    eval_dataset=val_dataset,\n",
        "    compute_metrics=compute_metrics,\n",
        "    optimizers=(optimizer, scheduler),\n",
        "    callbacks=[EarlyStoppingCallback(early_stopping_patience=3, early_stopping_threshold=0.0)]\n",
        ")"
      ]
    },
    {
      "cell_type": "code",
      "execution_count": null,
      "metadata": {
        "id": "Lvc-6YX2O-R4"
      },
      "outputs": [],
      "source": [
        "# Initialize a list to store metrics\n",
        "metrics_history = []\n",
        "# Track the best accuracy and corresponding epoch\n",
        "best_accuracy = 0\n",
        "best_epoch = -1\n",
        "best_metrics = None\n",
        "\n",
        "# Train the model and collect metrics for each epoch\n",
        "for epoch in range(training_args.num_train_epochs):\n",
        "    print(f\"Training Epoch: {epoch + 1}\")  # Debug: Print current epoch\n",
        "    trainer.train()\n",
        "    eval_results = trainer.evaluate()\n",
        "    print(\"Evaluation Results:\", eval_results)  # Debug: Print evaluation results\n",
        "    metrics_history.append(eval_results)\n",
        "\n",
        "        # Check for the best accuracy\n",
        "    if eval_results['eval_accuracy'] > best_accuracy:\n",
        "        best_accuracy = eval_results['eval_accuracy']\n",
        "        best_epoch = epoch + 1\n",
        "        best_metrics = eval_results\n"
      ]
    }
  ],
  "metadata": {
    "colab": {
      "provenance": [],
      "gpuType": "T4"
    },
    "kernelspec": {
      "display_name": "Python 3",
      "name": "python3"
    },
    "language_info": {
      "name": "python"
    },
    "accelerator": "GPU"
  },
  "nbformat": 4,
  "nbformat_minor": 0
}